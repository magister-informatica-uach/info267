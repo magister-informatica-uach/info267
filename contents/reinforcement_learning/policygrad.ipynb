{
 "cells": [
  {
   "cell_type": "markdown",
   "metadata": {},
   "source": [
    "# Policy gradients"
   ]
  },
  {
   "cell_type": "markdown",
   "metadata": {},
   "source": [
    "## Policy learning\n",
    "\n",
    "**Limitaciones de DQN:** Las Deep Q Networks (y Q-Learning) tienen dos limitaciones importantes:\n",
    "\n",
    "- Espacio de acción discreto (y espacio de estados discreto)\n",
    "- Requieren heurísticas para que haya exploración \n",
    "\n",
    "Estos métodos se basan en estimar la función **Q** y uego se usa una política determinista de máximas utilidades\n",
    "\n",
    "$$\n",
    "\\pi(s) = \\text{arg}\\max_a' Q(s, a')\n",
    "$$\n",
    "\n",
    "Una alternativa a lo anterior es aprender directamente la *policy*. Veremos como esto puede resolver las limitaciones antes mencionadas."
   ]
  },
  {
   "cell_type": "markdown",
   "metadata": {},
   "source": [
    "En lugar de aprender **Q** podemos aprender directamente\n",
    "\n",
    "$$\n",
    "a \\sim \\pi_\\theta (A|S=s)\n",
    "$$\n",
    "\n",
    "- La política es estocástica, es decir sigue una distribución de probabilidad\n",
    "- La acción se muestrea de la política: Esto nos da exploración\n",
    "\n",
    "Podemos usar una red neuronal para modelar los parámetros de la distribución."
   ]
  },
  {
   "cell_type": "markdown",
   "metadata": {},
   "source": [
    "**Ejemplo: Espacio de acción discreto**\n",
    "\n",
    "Para un espacio de acción discreto con 3 opciones podemos asumir una política con **distribución categórica**.\n",
    "\n",
    "En este caso se utilizaría una red neuronal con tres salidas correspondientes a $p(a_1|s)$, $p(a_2|s)$  y $p(a_3|s)$, donde cada una está en el rango $[0,1]$  y además suman uno (función de activación de salida softmax).\n",
    "\n",
    "Luego muestreamos de la distribución categórica usando los parámetros entregados por la red"
   ]
  },
  {
   "cell_type": "code",
   "execution_count": 1,
   "metadata": {},
   "outputs": [
    {
     "data": {
      "text/plain": [
       "Counter({0: 7031, 2: 1936, 1: 1033})"
      ]
     },
     "execution_count": 1,
     "metadata": {},
     "output_type": "execute_result"
    }
   ],
   "source": [
    "import numpy as np\n",
    "from scipy.stats import multinomial\n",
    "from collections import Counter\n",
    "\n",
    "neural_net_output = np.array([0.7, 0.1, 0.2])\n",
    "samples = multinomial(n=1, p=neural_net_output).rvs(10000).argmax(axis=1)\n",
    "\n",
    "Counter(samples)"
   ]
  },
  {
   "cell_type": "markdown",
   "metadata": {},
   "source": [
    "**Ejemplo: Espacio de acción continuo**\n",
    "\n",
    "Para un espacio de acción con dos acciones continuas podemos asumiar una política con distribución Gaussiana.\n",
    "\n",
    "Usamos una red neuronal con cuatro salidas (dos por acción) correspondientes a $\\mu(a_1|s)$, $\\log \\sigma(a_1|s)$, $\\mu(a_2|s)$ y $\\log \\sigma(a_2|s)$, donde cada una está en el rango de los reales (función de activación de salida identidad).\n",
    "\n",
    "Luego muestreamos de la distribución Gaussiana usando los parámetros entregados por la red"
   ]
  },
  {
   "cell_type": "code",
   "execution_count": 2,
   "metadata": {},
   "outputs": [
    {
     "data": {
      "image/png": "[encoded data removed]",
      "text/plain": [
       "<Figure size 700x300 with 1 Axes>"
      ]
     },
     "metadata": {},
     "output_type": "display_data"
    }
   ],
   "source": [
    "%matplotlib inline\n",
    "import numpy as np\n",
    "from matplotlib import pyplot as plt\n",
    "from scipy.stats import multinomial\n",
    "from scipy.stats import multivariate_normal\n",
    "\n",
    "neural_net_output = np.array([0.5, 2., np.log(0.5), np.log(3.)])\n",
    "\n",
    "samples = multivariate_normal(mean=neural_net_output[:2], \n",
    "                              cov=np.diag(np.exp(neural_net_output[2:]))).rvs(10000)\n",
    "\n",
    "fig, ax = plt.subplots(figsize=(7, 3))\n",
    "ax.hist(samples[:, 0], bins=100, alpha=0.5, density=True);\n",
    "ax.hist(samples[:, 1], bins=100, alpha=0.5, density=True);"
   ]
  },
  {
   "cell_type": "markdown",
   "metadata": {},
   "source": [
    "## Algoritmo de entrenamiento\n",
    "\n",
    "El algoritmo que usaremos para entrenar busca lo siguiente:\n",
    "\n",
    "- Ejecutar la política hasta el término del episodio, grabando las tuplas de acción/estado/recompensa\n",
    "- Disminuir la probabilidad de las acciones que terminaron en recompensa baja\n",
    "- Aumentar la probabilidad de las acciones que terminaron en recompensa alta\n",
    "\n",
    "Esto se puede resumir con la siguiente loss:\n",
    "\n",
    "$$\n",
    "\\mathcal{L}(s_t, a_t, r_t, \\mathcal{H}) = - \\log P(a_t|s_t) G_t\n",
    "$$\n",
    "\n",
    "donde:\n",
    "\n",
    "- Log verosimilitud $\\log P(a_t|s_t)$: mide que tan posible es haber seleccionado $a_t$\n",
    "- Ganancia total descontada $G_t$: La ganacia recibida por seleccionar $a_t$\n",
    "\n",
    "Si entrenamos usando gradiente descendente entonces:\n",
    "\n",
    "$$\n",
    "\\theta \\leftarrow \\theta + \\eta \\nabla \\log P(a_t|s_t) G_t\n",
    "$$\n",
    "\n",
    "De donde sale el nombre de este algoritmo: *policy gradient*\n",
    "\n",
    "Veamos un ejemplo en acción. Primero implementarmos una red neuronal simple y una memoría para los episodios: "
   ]
  },
  {
   "cell_type": "code",
   "execution_count": 3,
   "metadata": {},
   "outputs": [],
   "source": [
    "import torch\n",
    "\n",
    "# Modelo para los parámetros de la política\n",
    "class MultilayerPerceptron(torch.nn.Module):    \n",
    "    def __init__(self, n_input, n_output, n_hidden=10):\n",
    "        super(type(self), self).__init__()\n",
    "        self.linear1 = torch.nn.Linear(n_input, n_hidden)\n",
    "        self.linear2 = torch.nn.Linear(n_hidden, n_hidden)\n",
    "        self.linear3 = torch.nn.Linear(n_hidden, n_output)\n",
    "        self.activation = torch.nn.ReLU()\n",
    "        \n",
    "    def forward(self, x):\n",
    "        h = self.activation(self.linear1(x))\n",
    "        h = self.activation(self.linear2(h))\n",
    "        return  self.linear3(h)\n",
    "    \n",
    "# Memoría para guardar lo que ocurre en un episodio\n",
    "class Memory:\n",
    "    def __init__(self): \n",
    "        self.reset()\n",
    "    \n",
    "    def reset(self): \n",
    "        self.s = []\n",
    "        self.a = []\n",
    "        self.r = []\n",
    "\n",
    "    def push(self, s, a, r): \n",
    "        self.s.append(s)\n",
    "        self.a.append(a)\n",
    "        self.r.append(r)"
   ]
  },
  {
   "cell_type": "code",
   "execution_count": 4,
   "metadata": {},
   "outputs": [
    {
     "data": {
      "application/vnd.jupyter.widget-view+json": {
       "model_id": "8d6e74b6f4f346278b0993828f57f473",
       "version_major": 2,
       "version_minor": 0
      },
      "text/plain": [
       "  0%|          | 0/3000 [00:00<?, ?it/s]"
      ]
     },
     "metadata": {},
     "output_type": "display_data"
    }
   ],
   "source": [
    "import gymnasium as gym\n",
    "from tqdm.notebook import tqdm\n",
    "\n",
    "env = gym.make(\"CartPole-v1\")\n",
    "n_state = env.observation_space.shape[0] # Número de estados\n",
    "n_action = env.action_space.n # Número de acciones\n",
    "gamma = 0.999\n",
    "\n",
    "torch.manual_seed(1234)\n",
    "np.random.seed(1234)\n",
    "model = MultilayerPerceptron(n_state, n_action)\n",
    "loglikelihood = torch.nn.CrossEntropyLoss(reduction='none')\n",
    "optimizer = torch.optim.Adam(model.parameters(), lr=1e-3)\n",
    "\n",
    "memory = Memory()\n",
    "\n",
    "num_episodes = 3000\n",
    "diagnostics = {'Rewards': np.zeros(shape=(num_episodes,)), \n",
    "               'Loss': np.zeros(shape=(num_episodes,))\n",
    "               }\n",
    "\n",
    "for episode in tqdm(range(num_episodes)):\n",
    "    state, _ = env.reset()\n",
    "    terminated, truncated = False, False\n",
    "    \n",
    "    while not terminated and not truncated:       \n",
    "        # Escoger acción\n",
    "        state = torch.tensor(state).float()  \n",
    "        with torch.no_grad():\n",
    "            logits = model.forward(state)\n",
    "            probs = torch.nn.Softmax(dim=0)(logits).numpy()\n",
    "        a = np.random.choice(n_action, size=1, p=probs)[0]\n",
    "        s, r, terminated, truncated, info = env.step(a)\n",
    "        # Guardar en memoria\n",
    "        memory.push(state, torch.tensor(a, dtype=int), torch.tensor(r))\n",
    "        # Preparar para próximo paso\n",
    "        diagnostics['Rewards'][episode] += r\n",
    "        state = s\n",
    "    # Una vez completado el episodio actualizamos el modelo\n",
    "    # Primero calculamos la recompensa total descontada\n",
    "    Gt = (torch.stack(memory.r)*gamma**torch.arange(0, len(memory.r)).float()).flip(0).cumsum(0).flip(0)\n",
    "    # Luego la normalizamos (mejora la estabilidad del entrenamiento)\n",
    "    Gt = (Gt - Gt.mean())/Gt.std()\n",
    "    # Predicción (sin normalizar) de la probabilidad de acción\n",
    "    logits = model.forward(torch.stack(memory.s))\n",
    "    # Cálculo de la loss\n",
    "    loss = torch.sum(loglikelihood(logits, torch.stack(memory.a))*Gt)\n",
    "    # Calculamos los gradientes y actualizamos los parámetros\n",
    "    optimizer.zero_grad()\n",
    "    loss.backward()\n",
    "    optimizer.step()     \n",
    "    diagnostics['Loss'][episode] += loss\n",
    "    # Borramos la memoria\n",
    "    memory.reset() "
   ]
  },
  {
   "cell_type": "code",
   "execution_count": 5,
   "metadata": {},
   "outputs": [
    {
     "data": {
      "image/png": "[encoded data removed]",
      "text/plain": [
       "<Figure size 700x500 with 2 Axes>"
      ]
     },
     "metadata": {},
     "output_type": "display_data"
    }
   ],
   "source": [
    "from scipy.signal import savgol_filter\n",
    "\n",
    "fig, ax = plt.subplots(2, 1, figsize=(7, 5), sharex=True)\n",
    "for ax_, (key, val) in zip(ax, diagnostics.items()):\n",
    "    ax_.plot(val, alpha=0.5, c='b')\n",
    "    ax_.plot(savgol_filter(val, 50, 1), c='b')\n",
    "    ax_.set_ylabel(key)\n",
    "ax_.set_xlabel('Episode');"
   ]
  },
  {
   "cell_type": "markdown",
   "metadata": {},
   "source": [
    "El siguiente bloque muestra el agente desarrollando la tarea según la política aprendida en una nueva ventana."
   ]
  },
  {
   "cell_type": "code",
   "execution_count": 6,
   "metadata": {},
   "outputs": [
    {
     "name": "stdout",
     "output_type": "stream",
     "text": [
      "499\n"
     ]
    }
   ],
   "source": [
    "env = gym.make(\"CartPole-v1\", render_mode=\"human\")\n",
    "env.reset()\n",
    "\n",
    "for k in range(500):\n",
    "    env.render()\n",
    "    state = torch.from_numpy(np.array(env.state).astype('float32'))\n",
    "    with torch.no_grad():\n",
    "        logits = model.forward(state)\n",
    "        probs = torch.nn.Softmax(dim=0)(logits).numpy()\n",
    "    a = np.random.choice(2, size=1, p=probs)[0]\n",
    "    s, r, terminated, truncated, info = env.step(a)\n",
    "    if terminated or truncated:\n",
    "        break\n",
    "print(k)\n",
    "env.close()"
   ]
  },
  {
   "cell_type": "markdown",
   "metadata": {},
   "source": [
    "## AlphaGo \n",
    "\n",
    "<img src=\"https://upload.wikimedia.org/wikipedia/commons/thumb/2/2a/FloorGoban.JPG/619px-FloorGoban.JPG\" width=\"300\">\n",
    "\n",
    "El [Go](https://en.wikipedia.org/wiki/Go_%28game%29) es un juego de mesa de origen chino con un tablero de 19x19 espacios donde dos jugadores compiten por cubrir la mayor área en el tablero. El espacio de estados tiene [más movimientos legales que átomos en el universe](https://en.wikipedia.org/wiki/Go_and_mathematics#Legal_positions).\n",
    "\n",
    "El equipo de DeepMind ha utilizado Go como benchmark para proponer nuevos modelos de RL profundo. El primero de ellos es [Alpha Go](https://www.deepmind.com/research/highlighted-research/alphago) (2016) el cual combina bastantes técnicas:\n",
    "\n",
    "1. Se entrena una red neuronal supervisada con movimientos de humanos expertos: Imitar a los humanos\n",
    "1. Se entrena un agente basado en política que compite contra el modelo entrenado: Aprender nuevos movimientos\n",
    "1. Una vez que el agente supera al modelo supervisado se sigue entrenando contra si mismo\n",
    "1. Adicionalmente se ocupa un modelo basado en valor para evaluar los movimientos del agente\n",
    "\n",
    ":::{seealso}\n",
    "\n",
    "- [Presentación autocontenida sobre Alpha Go](https://www.slideshare.net/ckmarkohchang/alphago-in-depth)\n",
    "- Modelo [Alpha Go Zero](https://www.deepmind.com/blog/alphago-zero-starting-from-scratch) que no usa pre-entrenamiento con redes supervisadas. En su lugar juego contra si mismo partiendo desde un comportamiento aleatorio.\n",
    "\n",
    ":::\n",
    "\n"
   ]
  },
  {
   "cell_type": "markdown",
   "metadata": {},
   "source": [
    "## Desafíos de Aprendizaje Reforzado\n",
    "\n",
    "Para entrenar con *policy gradient* necesitamos correr el agente hasta el término del episodio. Sin embargo en muchas situaciones esto significa la muerte del agente ¿Cómo podemos desarrollar un agente en el mundo real?\n",
    "\n",
    "Una alternativa es usar simuladores:\n",
    "\n",
    "- Usar un simulación realista del ambiente para entrenar, e.g. [VISTA](https://vista.csail.mit.edu/)\n",
    "- Hacer transferencia de aprendizaje desde el simulador al mundo real (por las imperfecciones del simulador)\n",
    "\n",
    "Otra alternativa es one-shot learning: [One-shot learning of manipulation skills with online dynamics adaptation and neural network priors](http://rll.berkeley.edu/iros2016onlinecontrol/online_control.pdf)\n",
    "\n",
    "Y otra alternativa más es usar apoyo humano: [Trial without Error: Towards Safe Reinforcement Learning via Human Intervention](https://arxiv.org/abs/1707.05173) y [blog post](https://owainevans.github.io/blog/hirl_blog.html)\n",
    "\n",
    "Otro desafío general de RL es el proponer buenas funciones de recompensa. Este y otros desafíos abiertos se discuten en esta [fuerte crítica a RL](https://www.alexirpan.com/2018/02/14/rl-hard.html)"
   ]
  },
  {
   "cell_type": "code",
   "execution_count": null,
   "metadata": {},
   "outputs": [],
   "source": []
  }
 ],
 "metadata": {
  "kernelspec": {
   "display_name": "Python 3 (ipykernel)",
   "language": "python",
   "name": "python3"
  },
  "language_info": {
   "codemirror_mode": {
    "name": "ipython",
    "version": 3
   },
   "file_extension": ".py",
   "mimetype": "text/x-python",
   "name": "python",
   "nbconvert_exporter": "python",
   "pygments_lexer": "ipython3",
   "version": "3.9.16"
  }
 },
 "nbformat": 4,
 "nbformat_minor": 4
}
