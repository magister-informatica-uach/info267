{
 "cells": [
  {
   "cell_type": "markdown",
   "metadata": {},
   "source": [
    "# Árboles de decisión \n",
    "\n",
    "## Introducción\n",
    "\n",
    "Un árbol de decisión es una secuencia de operadores relacionales organizados como árbol\n",
    "\n",
    "- Los atributos de un dato son evaluados desde la raiz hasta las hojas\n",
    "- Los nodos hoja (terminales) están asociados a una clase\n",
    "- Los nodos no-hoja están asociados a un operador lógico que divide los datos en dos o más conjuntos\n",
    "- El operador lógico o *split* se aplica sobre un atributo (feature) de los datos\n",
    "\n",
    "El siguiente diagrama ejemplifica el funcionamiento del árbol de decisión sobre datos con dos atributos (bidimensionales)"
   ]
  },
  {
   "cell_type": "markdown",
   "metadata": {},
   "source": [
    "<img src=\"img/dt_diagram.png\" width=\"600\">\n",
    "\n",
    "- La figura izquierda muestra un árbol de decisión binario con 5 nodos: 3 nodos hoja y 2 nodos de decisión\n",
    "- La figura derecha muestra la partición que produce el árbol de decisión en el espacio de los datos. \n",
    "- Las separaciones o *splits* son siempre perpendiculares a los ejes de los datos (atributos)\n",
    "\n",
    ":::{important}\n",
    "\n",
    "Entrenar el árbol de decisión es el proceso de escoger los atributos, operadores y umbrales de separación en los nodos de decisión\n",
    "\n",
    ":::"
   ]
  },
  {
   "cell_type": "markdown",
   "metadata": {},
   "source": [
    "## Algoritmo Iterative Dichotomiser 3 (ID3)\n",
    "\n",
    "El algoritmo ID3 para atributos categóricos selecciona los *splits* recursivamente en base a la **ganancia de información**\n",
    "\n",
    "La ganacia de información para un nodo que separa un conjunto de datos $D$ en dos $D_{izq}$ y $D_{der}$ es\n",
    "\n",
    "$$\n",
    "G(D; D_{izq}, D_{der}) = H(D) - \\frac{|D_{izq}|}{|D|} H(D_{izq}) - \\frac{|D_{der}|}{|D|} H(D_{der})\n",
    "$$\n",
    "\n",
    "donde $|A|$ es la cardinalidad del subconjunto $A$ y \n",
    "\n",
    "$$\n",
    "H(A) = - \\sum_{y \\in \\mathcal{Y}} p(y|A) \\log p(y|A)\n",
    "$$\n",
    "\n",
    "es la entropía del subconjunto $A$. En la expresión anterior $p(y|A)$ es la frecuencia relativa de los ejemplos de clase $y$ dentro de $A$\n",
    "\n",
    ":::{note}\n",
    "\n",
    "La entropía mide la \"pureza\" del subconjunto en términos de sus clases\n",
    "\n",
    ":::\n",
    "\n",
    "**Ejemplo:** Sea el siguiente subconjunto con las etiquetas de 12 ejemplos"
   ]
  },
  {
   "cell_type": "code",
   "execution_count": 1,
   "metadata": {},
   "outputs": [],
   "source": [
    "import numpy as np\n",
    "\n",
    "A = np.array([1, 0, 0, 1, 1, 1, 0, 1, 0, 1, 1, 1])"
   ]
  },
  {
   "cell_type": "markdown",
   "metadata": {},
   "source": [
    "Asumiendo que el problema sólo tiene dos clases las frecuencias relativas son"
   ]
  },
  {
   "cell_type": "code",
   "execution_count": 2,
   "metadata": {},
   "outputs": [
    {
     "data": {
      "text/plain": [
       "array([0.33333333, 0.66666667])"
      ]
     },
     "execution_count": 2,
     "metadata": {},
     "output_type": "execute_result"
    }
   ],
   "source": [
    "_, counts = np.unique(A, return_counts=True)\n",
    "counts/len(A)"
   ]
  },
  {
   "cell_type": "markdown",
   "metadata": {},
   "source": [
    "Y la entropía del conjunto sería:"
   ]
  },
  {
   "cell_type": "code",
   "execution_count": 3,
   "metadata": {},
   "outputs": [
    {
     "data": {
      "text/plain": [
       "0.9182958340544893"
      ]
     },
     "execution_count": 3,
     "metadata": {},
     "output_type": "execute_result"
    }
   ],
   "source": [
    "def entropy(subset):\n",
    "    unique, counts = np.unique(subset, return_counts=True)\n",
    "    freqs = counts/len(subset)\n",
    "    return -np.sum(freqs*np.log2(freqs+1e-16))\n",
    "\n",
    "entropy(A)"
   ]
  },
  {
   "cell_type": "markdown",
   "metadata": {},
   "source": [
    "La entropía es máxima si hay igual cantidad de ejemplos de ambas clases (mínima pureza)"
   ]
  },
  {
   "cell_type": "code",
   "execution_count": 4,
   "metadata": {},
   "outputs": [
    {
     "data": {
      "text/plain": [
       "0.9999999999999997"
      ]
     },
     "execution_count": 4,
     "metadata": {},
     "output_type": "execute_result"
    }
   ],
   "source": [
    "B = np.array([1, 1, 1, 0, 0, 0])\n",
    "entropy(B)"
   ]
  },
  {
   "cell_type": "markdown",
   "metadata": {},
   "source": [
    "y mínima si todos los ejemplos son de una clase  (máxima pureza)"
   ]
  },
  {
   "cell_type": "code",
   "execution_count": 5,
   "metadata": {},
   "outputs": [
    {
     "data": {
      "text/plain": [
       "-0.0"
      ]
     },
     "execution_count": 5,
     "metadata": {},
     "output_type": "execute_result"
    }
   ],
   "source": [
    "C = np.array([1, 1, 1, 1, 1, 1])\n",
    "entropy(C)"
   ]
  },
  {
   "cell_type": "markdown",
   "metadata": {},
   "source": [
    "Más en general si un nodo separa el conjunto en $k$ subconjuntos la regla sería\n",
    "\n",
    "$$\n",
    "G(D; D_1, D_2, \\ldots D_k) = H(D) - \\sum_{i=1}^k \\frac{|D_i|}{|D|} H(D_i)\n",
    "$$\n",
    "\n",
    "\n",
    ":::{note}\n",
    "\n",
    "En cada nodo se escoge el atributo que maximiza la ganancia de información\n",
    "\n",
    ":::\n",
    "\n",
    "Consideremos el siguiente problema:"
   ]
  },
  {
   "cell_type": "code",
   "execution_count": 6,
   "metadata": {},
   "outputs": [
    {
     "data": {
      "text/html": [
       "<div>\n",
       "<style scoped>\n",
       "    .dataframe tbody tr th:only-of-type {\n",
       "        vertical-align: middle;\n",
       "    }\n",
       "\n",
       "    .dataframe tbody tr th {\n",
       "        vertical-align: top;\n",
       "    }\n",
       "\n",
       "    .dataframe thead th {\n",
       "        text-align: right;\n",
       "    }\n",
       "</style>\n",
       "<table border=\"1\" class=\"dataframe\">\n",
       "  <thead>\n",
       "    <tr style=\"text-align: right;\">\n",
       "      <th></th>\n",
       "      <th>tiempo</th>\n",
       "      <th>humedad</th>\n",
       "      <th>temperatura</th>\n",
       "    </tr>\n",
       "  </thead>\n",
       "  <tbody>\n",
       "    <tr>\n",
       "      <th>0</th>\n",
       "      <td>soleado</td>\n",
       "      <td>baja</td>\n",
       "      <td>templado</td>\n",
       "    </tr>\n",
       "    <tr>\n",
       "      <th>1</th>\n",
       "      <td>soleado</td>\n",
       "      <td>baja</td>\n",
       "      <td>caluroso</td>\n",
       "    </tr>\n",
       "    <tr>\n",
       "      <th>2</th>\n",
       "      <td>soleado</td>\n",
       "      <td>alta</td>\n",
       "      <td>caluroso</td>\n",
       "    </tr>\n",
       "    <tr>\n",
       "      <th>3</th>\n",
       "      <td>lluvioso</td>\n",
       "      <td>alta</td>\n",
       "      <td>templado</td>\n",
       "    </tr>\n",
       "    <tr>\n",
       "      <th>4</th>\n",
       "      <td>lluvioso</td>\n",
       "      <td>alta</td>\n",
       "      <td>frio</td>\n",
       "    </tr>\n",
       "  </tbody>\n",
       "</table>\n",
       "</div>"
      ],
      "text/plain": [
       "     tiempo humedad temperatura\n",
       "0   soleado    baja    templado\n",
       "1   soleado    baja    caluroso\n",
       "2   soleado    alta    caluroso\n",
       "3  lluvioso    alta    templado\n",
       "4  lluvioso    alta        frio"
      ]
     },
     "execution_count": 6,
     "metadata": {},
     "output_type": "execute_result"
    }
   ],
   "source": [
    "import pandas as pd\n",
    "\n",
    "a = {'tiempo': ['soleado', 'soleado', 'soleado', 'lluvioso', 'lluvioso'], \n",
    "     'humedad': ['baja', 'baja', 'alta', 'alta', 'alta'],\n",
    "     'temperatura': ['templado', 'caluroso', 'caluroso', 'templado', 'frio']}\n",
    "\n",
    "df = pd.DataFrame(a)\n",
    "df"
   ]
  },
  {
   "cell_type": "markdown",
   "metadata": {},
   "source": [
    "donde queremos obtener un árbol de decisión que prediga el tiempo en función de la humedad y de la temperatura\n",
    "\n",
    "Para decidir cual variable debe ir en el primer nodo comparamos sus ganancias de información"
   ]
  },
  {
   "cell_type": "code",
   "execution_count": 7,
   "metadata": {},
   "outputs": [
    {
     "name": "stdout",
     "output_type": "stream",
     "text": [
      "Ganancia de información de humedad: 0.29110316603236863\n",
      "Ganancia de información de temperatura: 0.39575279478527814\n"
     ]
    }
   ],
   "source": [
    "def entropy(subset):\n",
    "    counts = subset[\"tiempo\"].value_counts()\n",
    "    freqs = counts/len(subset)\n",
    "    return -np.sum(freqs*np.log(freqs+1e-16))\n",
    "\n",
    "def info_gain(subset, feature):\n",
    "    entropy_root = entropy(subset)\n",
    "    entropy_nodes = []\n",
    "    for possibility in subset[feature].unique():\n",
    "        split = subset.loc[subset[feature] == possibility]\n",
    "        entropy_nodes.append(entropy(split)*len(split)/len(subset))\n",
    "    return entropy_root - sum(entropy_nodes)\n",
    "\n",
    "node = df\n",
    "for feature in [\"humedad\", \"temperatura\"]:\n",
    "    print(f\"Ganancia de información de {feature}: {info_gain(node, feature)}\")"
   ]
  },
  {
   "cell_type": "markdown",
   "metadata": {},
   "source": [
    "Temperatura tiene mayor ganancia que humedad, por lo tanto el primer nodo separador utiliza temperatura\n",
    "\n",
    "Separando por temperatura tenemos:"
   ]
  },
  {
   "cell_type": "code",
   "execution_count": 8,
   "metadata": {},
   "outputs": [
    {
     "data": {
      "text/html": [
       "<div>\n",
       "<style scoped>\n",
       "    .dataframe tbody tr th:only-of-type {\n",
       "        vertical-align: middle;\n",
       "    }\n",
       "\n",
       "    .dataframe tbody tr th {\n",
       "        vertical-align: top;\n",
       "    }\n",
       "\n",
       "    .dataframe thead th {\n",
       "        text-align: right;\n",
       "    }\n",
       "</style>\n",
       "<table border=\"1\" class=\"dataframe\">\n",
       "  <thead>\n",
       "    <tr style=\"text-align: right;\">\n",
       "      <th></th>\n",
       "      <th>tiempo</th>\n",
       "      <th>humedad</th>\n",
       "      <th>temperatura</th>\n",
       "    </tr>\n",
       "  </thead>\n",
       "  <tbody>\n",
       "    <tr>\n",
       "      <th>4</th>\n",
       "      <td>lluvioso</td>\n",
       "      <td>alta</td>\n",
       "      <td>frio</td>\n",
       "    </tr>\n",
       "  </tbody>\n",
       "</table>\n",
       "</div>"
      ],
      "text/plain": [
       "     tiempo humedad temperatura\n",
       "4  lluvioso    alta        frio"
      ]
     },
     "execution_count": 8,
     "metadata": {},
     "output_type": "execute_result"
    }
   ],
   "source": [
    "node.loc[node[\"temperatura\"] == 'frio']"
   ]
  },
  {
   "cell_type": "markdown",
   "metadata": {},
   "source": [
    "En el caso `frio` se produce un nodo con un sólo ejemplo. El algoritmo no seguirá dividiendo"
   ]
  },
  {
   "cell_type": "code",
   "execution_count": 9,
   "metadata": {},
   "outputs": [
    {
     "data": {
      "text/html": [
       "<div>\n",
       "<style scoped>\n",
       "    .dataframe tbody tr th:only-of-type {\n",
       "        vertical-align: middle;\n",
       "    }\n",
       "\n",
       "    .dataframe tbody tr th {\n",
       "        vertical-align: top;\n",
       "    }\n",
       "\n",
       "    .dataframe thead th {\n",
       "        text-align: right;\n",
       "    }\n",
       "</style>\n",
       "<table border=\"1\" class=\"dataframe\">\n",
       "  <thead>\n",
       "    <tr style=\"text-align: right;\">\n",
       "      <th></th>\n",
       "      <th>tiempo</th>\n",
       "      <th>humedad</th>\n",
       "      <th>temperatura</th>\n",
       "    </tr>\n",
       "  </thead>\n",
       "  <tbody>\n",
       "    <tr>\n",
       "      <th>1</th>\n",
       "      <td>soleado</td>\n",
       "      <td>baja</td>\n",
       "      <td>caluroso</td>\n",
       "    </tr>\n",
       "    <tr>\n",
       "      <th>2</th>\n",
       "      <td>soleado</td>\n",
       "      <td>alta</td>\n",
       "      <td>caluroso</td>\n",
       "    </tr>\n",
       "  </tbody>\n",
       "</table>\n",
       "</div>"
      ],
      "text/plain": [
       "    tiempo humedad temperatura\n",
       "1  soleado    baja    caluroso\n",
       "2  soleado    alta    caluroso"
      ]
     },
     "execution_count": 9,
     "metadata": {},
     "output_type": "execute_result"
    }
   ],
   "source": [
    "node.loc[node[\"temperatura\"] == 'caluroso']"
   ]
  },
  {
   "cell_type": "markdown",
   "metadata": {},
   "source": [
    "En el caso `caluroso` se produce un nodo con \"puro\". El algoritmo no seguirá dividiendo"
   ]
  },
  {
   "cell_type": "code",
   "execution_count": 10,
   "metadata": {},
   "outputs": [
    {
     "data": {
      "text/html": [
       "<div>\n",
       "<style scoped>\n",
       "    .dataframe tbody tr th:only-of-type {\n",
       "        vertical-align: middle;\n",
       "    }\n",
       "\n",
       "    .dataframe tbody tr th {\n",
       "        vertical-align: top;\n",
       "    }\n",
       "\n",
       "    .dataframe thead th {\n",
       "        text-align: right;\n",
       "    }\n",
       "</style>\n",
       "<table border=\"1\" class=\"dataframe\">\n",
       "  <thead>\n",
       "    <tr style=\"text-align: right;\">\n",
       "      <th></th>\n",
       "      <th>tiempo</th>\n",
       "      <th>humedad</th>\n",
       "      <th>temperatura</th>\n",
       "    </tr>\n",
       "  </thead>\n",
       "  <tbody>\n",
       "    <tr>\n",
       "      <th>0</th>\n",
       "      <td>soleado</td>\n",
       "      <td>baja</td>\n",
       "      <td>templado</td>\n",
       "    </tr>\n",
       "    <tr>\n",
       "      <th>3</th>\n",
       "      <td>lluvioso</td>\n",
       "      <td>alta</td>\n",
       "      <td>templado</td>\n",
       "    </tr>\n",
       "  </tbody>\n",
       "</table>\n",
       "</div>"
      ],
      "text/plain": [
       "     tiempo humedad temperatura\n",
       "0   soleado    baja    templado\n",
       "3  lluvioso    alta    templado"
      ]
     },
     "execution_count": 10,
     "metadata": {},
     "output_type": "execute_result"
    }
   ],
   "source": [
    "node.loc[node[\"temperatura\"] == 'templado']"
   ]
  },
  {
   "cell_type": "markdown",
   "metadata": {},
   "source": [
    "En el caso `templado` el nodo no es puro, debemos nuevamente escoger un atributo para separar:"
   ]
  },
  {
   "cell_type": "code",
   "execution_count": 11,
   "metadata": {},
   "outputs": [
    {
     "name": "stdout",
     "output_type": "stream",
     "text": [
      "Ganancia de información de humedad: 0.6931471805599451\n",
      "Ganancia de información de temperatura: 0.0\n"
     ]
    }
   ],
   "source": [
    "node = node.loc[node[\"temperatura\"] == 'templado']\n",
    "for feature in [\"humedad\", \"temperatura\"]:\n",
    "    print(f\"Ganancia de información de {feature}: {info_gain(node, feature)}\")"
   ]
  },
  {
   "cell_type": "markdown",
   "metadata": {},
   "source": [
    "Por lo tanto se escoge humedad, lo cual produce dos nodos puros (con un sólo ejemplo)"
   ]
  },
  {
   "cell_type": "code",
   "execution_count": 12,
   "metadata": {},
   "outputs": [
    {
     "data": {
      "text/html": [
       "<div>\n",
       "<style scoped>\n",
       "    .dataframe tbody tr th:only-of-type {\n",
       "        vertical-align: middle;\n",
       "    }\n",
       "\n",
       "    .dataframe tbody tr th {\n",
       "        vertical-align: top;\n",
       "    }\n",
       "\n",
       "    .dataframe thead th {\n",
       "        text-align: right;\n",
       "    }\n",
       "</style>\n",
       "<table border=\"1\" class=\"dataframe\">\n",
       "  <thead>\n",
       "    <tr style=\"text-align: right;\">\n",
       "      <th></th>\n",
       "      <th>tiempo</th>\n",
       "      <th>humedad</th>\n",
       "      <th>temperatura</th>\n",
       "    </tr>\n",
       "  </thead>\n",
       "  <tbody>\n",
       "    <tr>\n",
       "      <th>0</th>\n",
       "      <td>soleado</td>\n",
       "      <td>baja</td>\n",
       "      <td>templado</td>\n",
       "    </tr>\n",
       "  </tbody>\n",
       "</table>\n",
       "</div>"
      ],
      "text/plain": [
       "    tiempo humedad temperatura\n",
       "0  soleado    baja    templado"
      ]
     },
     "execution_count": 12,
     "metadata": {},
     "output_type": "execute_result"
    }
   ],
   "source": [
    "node.loc[node[\"humedad\"] == 'baja']"
   ]
  },
  {
   "cell_type": "code",
   "execution_count": 13,
   "metadata": {},
   "outputs": [
    {
     "data": {
      "text/html": [
       "<div>\n",
       "<style scoped>\n",
       "    .dataframe tbody tr th:only-of-type {\n",
       "        vertical-align: middle;\n",
       "    }\n",
       "\n",
       "    .dataframe tbody tr th {\n",
       "        vertical-align: top;\n",
       "    }\n",
       "\n",
       "    .dataframe thead th {\n",
       "        text-align: right;\n",
       "    }\n",
       "</style>\n",
       "<table border=\"1\" class=\"dataframe\">\n",
       "  <thead>\n",
       "    <tr style=\"text-align: right;\">\n",
       "      <th></th>\n",
       "      <th>tiempo</th>\n",
       "      <th>humedad</th>\n",
       "      <th>temperatura</th>\n",
       "    </tr>\n",
       "  </thead>\n",
       "  <tbody>\n",
       "    <tr>\n",
       "      <th>3</th>\n",
       "      <td>lluvioso</td>\n",
       "      <td>alta</td>\n",
       "      <td>templado</td>\n",
       "    </tr>\n",
       "  </tbody>\n",
       "</table>\n",
       "</div>"
      ],
      "text/plain": [
       "     tiempo humedad temperatura\n",
       "3  lluvioso    alta    templado"
      ]
     },
     "execution_count": 13,
     "metadata": {},
     "output_type": "execute_result"
    }
   ],
   "source": [
    "node.loc[node[\"humedad\"] == 'alta']"
   ]
  },
  {
   "cell_type": "markdown",
   "metadata": {},
   "source": [
    ":::{important}\n",
    "\n",
    "El algoritmo ID3 sigue separando el dataset de forma recursiva hasta que todos los nodos sean puros\n",
    "\n",
    ":::"
   ]
  },
  {
   "cell_type": "markdown",
   "metadata": {},
   "source": [
    "## Algoritmos C4.5 y CART\n",
    "\n",
    "El algoritmo C4.5 extiende ID3 para manejar atributos continuos. \n",
    "\n",
    "Sea $Y$ un atributo continuo para un nodo con $N$ ejemplos. Primero se ordena $Y$ de menor a mayor y luego  se prueban $N-1$ umbrales $z_i = (\\hat y_{i+1} + \\hat y_i)$, donde $\\hat y$ son los valores ordenados de $y$.\n",
    "\n",
    "Se escoge el umbral $\\hat z$ con mayor ganancia de información y se dividen los datos en dos grupos según\n",
    "\n",
    "- $Y \\leq \\hat z$\n",
    "- $Y > \\hat z$\n",
    "\n",
    "\n",
    "El algoritmo CART extiende aun más C4.5 permitiendo crear árboles para variables objetivo continuas (regresión). Para esto se reemplaza la entropía en la ganancia de información por el índice de Gini:\n",
    "\n",
    "$$\n",
    "I(D) = 1 - \\sum_{y\\in \\mathcal{Y}} p_y^2\n",
    "$$\n",
    "\n",
    "donde $p_y$ es la probabilidad asignada a la clase $y$\n",
    "\n",
    ":::{note}\n",
    "\n",
    "La diferencia en clasificación entre el índice de gini y la entropía suele ser muy baja. Sin embargo el índice de gini es menos costoso (computacionalmente hablando). El criterio de ganancia de información se puede escoger mediante validación cruzada\n",
    "\n",
    ":::"
   ]
  },
  {
   "cell_type": "markdown",
   "metadata": {},
   "source": [
    "## Implementación en scikit-learn"
   ]
  },
  {
   "cell_type": "markdown",
   "metadata": {},
   "source": [
    "El módulo [`tree`](https://scikit-learn.org/stable/modules/classes.html#module-sklearn.tree) de scikit-learn tiene implementaciones de árboles de decisión para problemas de clasificación y regresión. Nos enfocaremos en la primera\n",
    "\n",
    "Los principales argumentos de [`DecisionTreeClassifier`](https://scikit-learn.org/stable/modules/generated/sklearn.tree.DecisionTreeClassifier.html#sklearn.tree.DecisionTreeClassifier) son\n",
    "\n",
    "- `criterion`: El criterio que se utiliza para escoger los *splits*, las opciones son `'gini'` y `'entropy'`\n",
    "- `max_depth`: Límite para la profundidad máxima del árbol\n",
    "- `min_samples_split`: El número mínimo de ejemplos en un nodo para realizar un *split*\n",
    "- `min_samples_leaf`: El número mínimo de ejemplos que pueden estar en un nodo hoja\n",
    "- `min_impurity_decrease`: La disminución de pureza mínima en un nodo para realizar un *split*\n",
    "- `class_weight`: Permite asignar ponderación a las clases, es de utilidad si se tienen clases medianamente desbalanceadas\n",
    "- `max_features`: El número máximo de atributos a considerar en cada *split*\n",
    "\n",
    ":::{caution}\n",
    "\n",
    "Si se utilizan los argumentos (hiperparámetros) por defecto el árbol crecera hasta que sus nodos sean todos puros. Esto en general produce árboles de gran profundidad (muy capaces de sobreajustarse). \n",
    "\n",
    ":::\n",
    "\n",
    ":::{note}\n",
    "\n",
    "Se puede limitar el tamaño de un árbol aumentando `min_samples_leaf` y/o `min_samples_split`, o disminuyendo `max_depth`\n",
    "\n",
    ":::\n",
    "\n",
    "Los principales métodos son:\n",
    "\n",
    "- `predict(X)`: Retorna la clase predicha\n",
    "- `predict_proba(X)`: Retorna las probabilidades de pertenecer a cada una de las clases\n",
    "- `score(X,y)`: Retorna el *accuracy* de clasificación\n",
    "- `get_params()`: Retorna los nombres de los parámetros\n",
    "\n",
    "Además tiene algunos métodos no compartidos con otros estimadores como\n",
    "\n",
    "- `get_depth()`: Retorna la profunidad del árbol aprendido\n",
    "- `get_n_leaves()`: Retorna la cantidad de nodos hoja del árbol aprendida\n",
    "- `apply(X)`: Retorna el índice de la hoja que predice cada ejemplo\n",
    "\n"
   ]
  },
  {
   "cell_type": "markdown",
   "metadata": {},
   "source": [
    "**Ejemplo:** A continuación entrenaremos un árbol de decisión sobre [`wine`](https://archive.ics.uci.edu/ml/datasets/wine), una base de datos con 13 atributos numéricos y 3 clases asociadas a vinos de distinto origen. Los atributos representan propiedades químicas de los vinos"
   ]
  },
  {
   "cell_type": "code",
   "execution_count": 14,
   "metadata": {},
   "outputs": [],
   "source": [
    "import numpy as np\n",
    "from sklearn.datasets import load_wine\n",
    "from sklearn.model_selection import train_test_split\n",
    "\n",
    "data_struct = load_wine()\n",
    "X = data_struct.data\n",
    "y = data_struct.target\n",
    "X_names = data_struct.feature_names\n",
    "\n",
    "np.random.seed(0)\n",
    "X_train, X_test, y_train, y_test = train_test_split(X, y, train_size=0.7, test_size=0.3)"
   ]
  },
  {
   "cell_type": "markdown",
   "metadata": {},
   "source": [
    ":::{note}\n",
    "\n",
    "Los árboles de decisión no son sensibles a la normalización de los datos. En general no es necesario normalizar o escalar los datos antes de entrenar un árbol de decisión\n",
    "\n",
    ":::"
   ]
  },
  {
   "cell_type": "markdown",
   "metadata": {},
   "source": [
    "En primer lugar se entrena un árbol de decisión con sus parámetros por defecto"
   ]
  },
  {
   "cell_type": "code",
   "execution_count": 15,
   "metadata": {},
   "outputs": [
    {
     "name": "stdout",
     "output_type": "stream",
     "text": [
      "Test accuracy: 0.9630\n"
     ]
    }
   ],
   "source": [
    "from sklearn.tree import DecisionTreeClassifier, plot_tree\n",
    "\n",
    "model = DecisionTreeClassifier()\n",
    "model.fit(X_train, y_train)\n",
    "print(f\"Test accuracy: {model.score(X_test, y_test):0.4f}\")"
   ]
  },
  {
   "cell_type": "markdown",
   "metadata": {},
   "source": [
    "Podemos utilizar la función [`plot_tree`](https://scikit-learn.org/stable/modules/generated/sklearn.tree.plot_tree.html#sklearn.tree.plot_tree) para obtener una visualización del árbol de decisión\n",
    "\n",
    "En cada nodo se muestra:\n",
    "\n",
    "- El atributo y umbral seleccionados\n",
    "- El valor del criterio (índice de gini)\n",
    "- La cantidad de ejemplos que entraron al nodo\n",
    "- La cantidad de ejemplos que entraron al nodo separados por clase (en este caso tres)\n"
   ]
  },
  {
   "cell_type": "code",
   "execution_count": 16,
   "metadata": {},
   "outputs": [
    {
     "data": {
      "image/png": "[encoded data removed]",
      "text/plain": [
       "<Figure size 720x432 with 1 Axes>"
      ]
     },
     "metadata": {
      "needs_background": "light"
     },
     "output_type": "display_data"
    }
   ],
   "source": [
    "%matplotlib inline\n",
    "import matplotlib.pyplot as plt\n",
    "from sklearn.tree import plot_tree\n",
    "\n",
    "fig, ax = plt.subplots(figsize=(10, 6), tight_layout=True)\n",
    "plot_tree(model, feature_names=X_names, ax=ax);"
   ]
  },
  {
   "cell_type": "markdown",
   "metadata": {},
   "source": [
    ":::{note}\n",
    "\n",
    "El árbol por defecto crece hasta que todos sus nodos sean puros (ejemplos de una sola clase)\n",
    "\n",
    ":::\n",
    "\n",
    "Podemos limitar el tamaño de un árbol utilizando el argumento `max_depth`:"
   ]
  },
  {
   "cell_type": "code",
   "execution_count": 17,
   "metadata": {},
   "outputs": [
    {
     "name": "stdout",
     "output_type": "stream",
     "text": [
      "Test accuracy: 0.9444\n"
     ]
    },
    {
     "data": {
      "image/png": "[encoded data removed]",
      "text/plain": [
       "<Figure size 720x432 with 1 Axes>"
      ]
     },
     "metadata": {
      "needs_background": "light"
     },
     "output_type": "display_data"
    }
   ],
   "source": [
    "model = DecisionTreeClassifier(max_depth=3)\n",
    "model.fit(X_train, y_train)\n",
    "print(f\"Test accuracy: {model.score(X_test, y_test):0.4f}\")\n",
    "\n",
    "fig, ax = plt.subplots(figsize=(10, 6), tight_layout=True)\n",
    "plot_tree(model, feature_names=X_names, ax=ax);"
   ]
  },
  {
   "cell_type": "markdown",
   "metadata": {},
   "source": [
    "o el argumento `min_samples_leaf`:"
   ]
  },
  {
   "cell_type": "code",
   "execution_count": 18,
   "metadata": {},
   "outputs": [
    {
     "name": "stdout",
     "output_type": "stream",
     "text": [
      "Test accuracy: 0.9444\n"
     ]
    },
    {
     "data": {
      "image/png": "[encoded data removed]",
      "text/plain": [
       "<Figure size 720x432 with 1 Axes>"
      ]
     },
     "metadata": {
      "needs_background": "light"
     },
     "output_type": "display_data"
    }
   ],
   "source": [
    "model = DecisionTreeClassifier(min_samples_leaf=5)\n",
    "model.fit(X_train, y_train)\n",
    "print(f\"Test accuracy: {model.score(X_test, y_test):0.4f}\")\n",
    "\n",
    "fig, ax = plt.subplots(figsize=(10, 6), tight_layout=True)\n",
    "plot_tree(model, feature_names=X_names, ax=ax);"
   ]
  },
  {
   "cell_type": "markdown",
   "metadata": {},
   "source": [
    ":::{note}\n",
    "            \n",
    "Forzar una profundidad con `max_depth` tiende a producir árboles simétricos. Los árboles restringidos con `min_samples_leaf` pueden ser resultar en cambio asímetricos\n",
    "\n",
    ":::"
   ]
  },
  {
   "cell_type": "markdown",
   "metadata": {},
   "source": [
    "Realicemos ahora una búsqueda de hiperparámetros con validación cruzada"
   ]
  },
  {
   "cell_type": "code",
   "execution_count": 19,
   "metadata": {},
   "outputs": [
    {
     "data": {
      "text/plain": [
       "GridSearchCV(cv=3, estimator=DecisionTreeClassifier(),\n",
       "             param_grid={'criterion': ['entropy', 'gini'],\n",
       "                         'max_depth': [1, 2, 3, 4, 5, 10, 20, None],\n",
       "                         'min_samples_leaf': [1, 2, 5, 10, 20]})"
      ]
     },
     "execution_count": 19,
     "metadata": {},
     "output_type": "execute_result"
    }
   ],
   "source": [
    "from sklearn.tree import DecisionTreeClassifier\n",
    "from sklearn.model_selection import GridSearchCV\n",
    "\n",
    "params = {'criterion': ['entropy', 'gini'], \n",
    "          'max_depth': [1, 2, 3, 4, 5, 10, 20, None],\n",
    "          'min_samples_leaf': [1, 2, 5, 10, 20],\n",
    "          }\n",
    "\n",
    "model = DecisionTreeClassifier()\n",
    "validator = GridSearchCV(model, params, cv=3, refit=True)\n",
    "validator.fit(X_train, y_train)"
   ]
  },
  {
   "cell_type": "markdown",
   "metadata": {},
   "source": [
    "Los mejores modelos de acuerdo a la validación cruzada son:"
   ]
  },
  {
   "cell_type": "code",
   "execution_count": 20,
   "metadata": {},
   "outputs": [
    {
     "data": {
      "text/html": [
       "<div>\n",
       "<style scoped>\n",
       "    .dataframe tbody tr th:only-of-type {\n",
       "        vertical-align: middle;\n",
       "    }\n",
       "\n",
       "    .dataframe tbody tr th {\n",
       "        vertical-align: top;\n",
       "    }\n",
       "\n",
       "    .dataframe thead th {\n",
       "        text-align: right;\n",
       "    }\n",
       "</style>\n",
       "<table border=\"1\" class=\"dataframe\">\n",
       "  <thead>\n",
       "    <tr style=\"text-align: right;\">\n",
       "      <th></th>\n",
       "      <th>param_criterion</th>\n",
       "      <th>param_max_depth</th>\n",
       "      <th>param_min_samples_leaf</th>\n",
       "      <th>mean_test_score</th>\n",
       "      <th>std_test_score</th>\n",
       "      <th>rank_test_score</th>\n",
       "    </tr>\n",
       "  </thead>\n",
       "  <tbody>\n",
       "    <tr>\n",
       "      <th>76</th>\n",
       "      <td>gini</td>\n",
       "      <td>None</td>\n",
       "      <td>2</td>\n",
       "      <td>0.911537</td>\n",
       "      <td>0.029399</td>\n",
       "      <td>1</td>\n",
       "    </tr>\n",
       "    <tr>\n",
       "      <th>60</th>\n",
       "      <td>gini</td>\n",
       "      <td>5</td>\n",
       "      <td>1</td>\n",
       "      <td>0.911537</td>\n",
       "      <td>0.029399</td>\n",
       "      <td>1</td>\n",
       "    </tr>\n",
       "    <tr>\n",
       "      <th>71</th>\n",
       "      <td>gini</td>\n",
       "      <td>20</td>\n",
       "      <td>2</td>\n",
       "      <td>0.911537</td>\n",
       "      <td>0.029399</td>\n",
       "      <td>1</td>\n",
       "    </tr>\n",
       "    <tr>\n",
       "      <th>55</th>\n",
       "      <td>gini</td>\n",
       "      <td>4</td>\n",
       "      <td>1</td>\n",
       "      <td>0.903407</td>\n",
       "      <td>0.018742</td>\n",
       "      <td>4</td>\n",
       "    </tr>\n",
       "    <tr>\n",
       "      <th>75</th>\n",
       "      <td>gini</td>\n",
       "      <td>None</td>\n",
       "      <td>1</td>\n",
       "      <td>0.903407</td>\n",
       "      <td>0.018742</td>\n",
       "      <td>4</td>\n",
       "    </tr>\n",
       "  </tbody>\n",
       "</table>\n",
       "</div>"
      ],
      "text/plain": [
       "   param_criterion param_max_depth param_min_samples_leaf  mean_test_score  \\\n",
       "76            gini            None                      2         0.911537   \n",
       "60            gini               5                      1         0.911537   \n",
       "71            gini              20                      2         0.911537   \n",
       "55            gini               4                      1         0.903407   \n",
       "75            gini            None                      1         0.903407   \n",
       "\n",
       "    std_test_score  rank_test_score  \n",
       "76        0.029399                1  \n",
       "60        0.029399                1  \n",
       "71        0.029399                1  \n",
       "55        0.018742                4  \n",
       "75        0.018742                4  "
      ]
     },
     "execution_count": 20,
     "metadata": {},
     "output_type": "execute_result"
    }
   ],
   "source": [
    "import pandas as pd\n",
    "columns = [\"param_criterion\", \"param_max_depth\", \"param_min_samples_leaf\",\n",
    "           \"mean_test_score\", \"std_test_score\", \"rank_test_score\"]\n",
    "pd.DataFrame(validator.cv_results_)[columns].sort_values(by=\"rank_test_score\").head(5)"
   ]
  },
  {
   "cell_type": "markdown",
   "metadata": {},
   "source": [
    "El mejor árbol de decisión para este problema es:"
   ]
  },
  {
   "cell_type": "code",
   "execution_count": 21,
   "metadata": {},
   "outputs": [
    {
     "data": {
      "text/plain": [
       "{'criterion': 'gini', 'max_depth': 5, 'min_samples_leaf': 1}"
      ]
     },
     "execution_count": 21,
     "metadata": {},
     "output_type": "execute_result"
    }
   ],
   "source": [
    "validator.best_params_"
   ]
  },
  {
   "cell_type": "markdown",
   "metadata": {},
   "source": [
    "El resultado del mejor árbol en el conjunto de prueba en términos de f1-score por clase es:"
   ]
  },
  {
   "cell_type": "code",
   "execution_count": 22,
   "metadata": {},
   "outputs": [
    {
     "name": "stdout",
     "output_type": "stream",
     "text": [
      "              precision    recall  f1-score   support\n",
      "\n",
      "           0       1.00      0.89      0.94        19\n",
      "           1       0.91      0.95      0.93        22\n",
      "           2       0.93      1.00      0.96        13\n",
      "\n",
      "    accuracy                           0.94        54\n",
      "   macro avg       0.95      0.95      0.95        54\n",
      "weighted avg       0.95      0.94      0.94        54\n",
      "\n"
     ]
    }
   ],
   "source": [
    "from sklearn.metrics import classification_report\n",
    "\n",
    "print(classification_report(y_test, validator.predict(X_test)))"
   ]
  },
  {
   "cell_type": "markdown",
   "metadata": {},
   "source": [
    "También podemos utilizar [`ConfusionMatrixDisplay`](https://scikit-learn.org/stable/modules/generated/sklearn.metrics.ConfusionMatrixDisplay.html#sklearn-metrics-confusionmatrixdisplay) para desplegar una matriz de confusión y así estudiar de mejor forma los errores que cometé el modelo en el conjunto de prueba"
   ]
  },
  {
   "cell_type": "code",
   "execution_count": 23,
   "metadata": {},
   "outputs": [
    {
     "data": {
      "image/png": "[encoded data removed]",
      "text/plain": [
       "<Figure size 720x288 with 4 Axes>"
      ]
     },
     "metadata": {
      "needs_background": "light"
     },
     "output_type": "display_data"
    }
   ],
   "source": [
    "from sklearn.metrics import ConfusionMatrixDisplay\n",
    "\n",
    "fig, ax = plt.subplots(1, 2, figsize=(10, 4), tight_layout=True)\n",
    "\n",
    "ConfusionMatrixDisplay.from_predictions(y_test, validator.predict(X_test), normalize=None,\n",
    "                                        ax=ax[0], cmap='Blues', colorbar=True);\n",
    "\n",
    "ConfusionMatrixDisplay.from_predictions(y_test, validator.predict(X_test), normalize='true',\n",
    "                                        ax=ax[1], cmap='Blues', colorbar=True);"
   ]
  },
  {
   "cell_type": "markdown",
   "metadata": {},
   "source": [
    ":::{note}\n",
    "\n",
    "La matriz de la izquierda utiliza cantidades absolutas, mientras que la derecha utiliza cantidades relativas, con respecto a la cantidad de etiquetas reales \n",
    "\n",
    ":::"
   ]
  },
  {
   "cell_type": "code",
   "execution_count": null,
   "metadata": {},
   "outputs": [],
   "source": []
  }
 ],
 "metadata": {
  "kernelspec": {
   "display_name": "Python 3 (ipykernel)",
   "language": "python",
   "name": "python3"
  },
  "language_info": {
   "codemirror_mode": {
    "name": "ipython",
    "version": 3
   },
   "file_extension": ".py",
   "mimetype": "text/x-python",
   "name": "python",
   "nbconvert_exporter": "python",
   "pygments_lexer": "ipython3",
   "version": "3.9.12"
  }
 },
 "nbformat": 4,
 "nbformat_minor": 2
}
