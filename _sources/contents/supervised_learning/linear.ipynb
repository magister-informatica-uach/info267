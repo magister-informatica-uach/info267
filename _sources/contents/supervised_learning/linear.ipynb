{
 "cells": [
  {
   "cell_type": "markdown",
   "metadata": {},
   "source": [
    "# Regresión lineal y técnicas de validación\n",
    "\n",
    "\n",
    "La regresión lineal es un modelo que mapeo una o más variables continuas hacia una variable también continua definido como\n",
    "\n",
    "$$\n",
    "f_\\theta(\\vec x_i) = \\theta_0 + \\sum_{j=1}^M \\theta_j x_{ij} \n",
    "$$"
   ]
  },
  {
   "cell_type": "markdown",
   "metadata": {},
   "source": [
    "Asumiendo que tenemos $N$ ejemplos para entrenar, podemos plantear el sistema de ecuaciones matricialmente como\n",
    "\n",
    "$$\n",
    "Y = X \\theta\n",
    "$$\n",
    "\n",
    "donde $Y= \\begin{pmatrix} y_1 \\\\ y_2 \\\\ \\vdots \\\\y_N\\end{pmatrix} \\in \\mathbb{R}^N$, $X = \\begin{pmatrix} 1 & x_{11} & x_{12}& \\ldots& x_{1M} \\\\ \\vdots & \\vdots & \\vdots& \\ddots& \\vdots \\\\ 1 & x_{N1} & x_{N2}& \\ldots& x_{NM} \\\\ \\end{pmatrix} \\in \\mathbb{R}^{N\\times M}$ y $\\theta \\in \\mathbb{R}^M$\n",
    "\n",
    "La suma de errores cuadrados en formato matricial es\n",
    "\n",
    "$$\n",
    "L(\\theta) = \\frac{1}{2} (Y - X\\theta)^T (Y - X\\theta)\n",
    "$$\n",
    "\n",
    "Luego si derivamos e igualamos a cero obtenemos\n",
    "\n",
    "$$\n",
    "\\nabla_\\theta L(\\theta) = -X^T(Y-X\\theta) = 0,\n",
    "$$\n",
    "\n",
    "y despejando\n",
    "\n",
    "$$\n",
    "\\hat \\theta = (X^T X)^{-1} X^T Y\n",
    "$$\n",
    "\n",
    "siempre $X^T X$ no sea singular\n",
    "\n",
    ":::{note}\n",
    "\n",
    "Esto se conoce como solución de mínimos cuadrados\n",
    "\n",
    ":::"
   ]
  },
  {
   "cell_type": "markdown",
   "metadata": {},
   "source": [
    "## Regresión lineal en Scikit-Learn\n",
    "\n",
    "La solución de mínimos cuadrados está implementada en la librería scikit-learn como [`sklearn.linear_model.LinearRegression`](https://scikit-learn.org/stable/modules/generated/sklearn.linear_model.LinearRegression.html)\n",
    "\n",
    "Sus principales argumentos son\n",
    "\n",
    "- `fit_intercept=True`: Ajustar o no el parámetro $\\theta_0$\n",
    "- `n_jobs`: Número de nucleos de CPU\n",
    "\n",
    "Sus principales métodos son\n",
    "\n",
    "- `fit(X, y)`: Ajuste los parámetros según la solución de mínimos cuadrados. \n",
    "- `predict(X)`: Retorna la predicción para un conjunto de datos\n",
    "- `score(X, y)`: Retorna el [coeficiente de determinación](https://es.wikipedia.org/wiki/Coeficiente_de_determinaci%C3%B3n)\n",
    "\n",
    ":::{note}\n",
    "\n",
    "- `X` es un ndarray de dos dimensiones\n",
    "- `y` es un ndarray de una dimensión\n",
    "\n",
    ":::\n",
    "\n",
    "Los principales atributos son\n",
    "\n",
    "- `intercept_`: Corresponde a $\\theta_0$\n",
    "- `coef_`: Es un arreglo con $\\theta_j$ para $j>0$\n"
   ]
  },
  {
   "cell_type": "markdown",
   "metadata": {},
   "source": [
    "Consideremos los siguientes datos "
   ]
  },
  {
   "cell_type": "code",
   "execution_count": 1,
   "metadata": {},
   "outputs": [],
   "source": [
    "%matplotlib inline\n",
    "import matplotlib.pyplot as plt\n",
    "import numpy as np\n",
    "\n",
    "np.random.seed(1234)\n",
    "x = np.random.randn(30)\n",
    "y = -0.5*x**4 + 2*x**3 -3 + np.random.randn(len(x))"
   ]
  },
  {
   "cell_type": "markdown",
   "metadata": {},
   "source": [
    "Para ajustar el modelo a este dataset utilizamos"
   ]
  },
  {
   "cell_type": "code",
   "execution_count": 2,
   "metadata": {},
   "outputs": [
    {
     "name": "stdout",
     "output_type": "stream",
     "text": [
      "Coeficiente de determinación: 0.6603211449252782\n"
     ]
    }
   ],
   "source": [
    "from sklearn.linear_model import LinearRegression\n",
    "\n",
    "model = LinearRegression()\n",
    "model.fit(x.reshape(-1, 1), y)\n",
    "print(f\"Coeficiente de determinación: {model.score(x.reshape(-1, 1), y)}\")"
   ]
  },
  {
   "cell_type": "markdown",
   "metadata": {},
   "source": [
    "Luego para realizar una predicción sobre nuevos datos:"
   ]
  },
  {
   "cell_type": "code",
   "execution_count": 3,
   "metadata": {},
   "outputs": [],
   "source": [
    "x_test = np.linspace(x.min(), x.max(), 200)\n",
    "y_test = model.predict(x_test.reshape(-1, 1))"
   ]
  },
  {
   "cell_type": "markdown",
   "metadata": {},
   "source": [
    "A continuación se grafican los datos y la predicción del modelo (izquierda) junto a los residuos del modelo (derecha)"
   ]
  },
  {
   "cell_type": "code",
   "execution_count": 4,
   "metadata": {},
   "outputs": [
    {
     "data": {
      "image/png": "[encoded data removed]",
      "text/plain": [
       "<Figure size 576x288 with 2 Axes>"
      ]
     },
     "metadata": {
      "needs_background": "light"
     },
     "output_type": "display_data"
    }
   ],
   "source": [
    "def plot_prediction(x, y, x_test, y_test, model):\n",
    "    fig, ax = plt.subplots(1, 2, figsize=(8, 4), tight_layout=True)\n",
    "    ax[0].scatter(x, y, s=50, label='Datos', alpha=0.5)\n",
    "    ax[0].plot(x_test, y_test, label='Modelo', lw=2, )\n",
    "    ax[0].legend()\n",
    "    ax[0].set_xlabel('x')\n",
    "    ax[0].set_ylabel('y')\n",
    "    ax[1].scatter(y, y - model.predict(x.reshape(-1, 1)), alpha=0.5)\n",
    "    ax[1].axhline(0, c='k', ls='--', alpha=0.5)\n",
    "    ax[1].set_xlabel('y')\n",
    "    ax[1].set_ylabel('residuos')\n",
    "    \n",
    "plot_prediction(x, y, x_test, y_test, model)   "
   ]
  },
  {
   "cell_type": "markdown",
   "metadata": {},
   "source": [
    ":::{note}\n",
    "\n",
    "El gráfico de residuos es un gráfico de dispersión de $y$ versus $y - f_\\theta(x)$, es bastante usado para analizar los errores de un modelo de regresión. Idealmente los residuos deberían estar concentrados en torno a cero\n",
    "\n",
    ":::\n",
    "\n",
    "También podemos medir la calidad del modelo utilizando el error medio cuadrático, que es la suma de errores cuadrados dividido por la cantidad de datos:"
   ]
  },
  {
   "cell_type": "code",
   "execution_count": 5,
   "metadata": {},
   "outputs": [
    {
     "name": "stdout",
     "output_type": "stream",
     "text": [
      "MSE: 24.1281\n"
     ]
    }
   ],
   "source": [
    "from sklearn.metrics import mean_squared_error\n",
    "print(f\"MSE: {mean_squared_error(y, model.predict(x.reshape(-1, 1))):0.4f}\")"
   ]
  },
  {
   "cell_type": "markdown",
   "metadata": {},
   "source": [
    "## Regresión polinomial con Scikit-Learn\n",
    "\n",
    "Podemos generalizar el regresor lineal aplicando transformaciones a los datos. Por ejemplo una regresión polinomial de grado $M$ sería\n",
    "\n",
    "$$\n",
    "f_\\theta(x_i) = \\sum_{j=1}^M w_j x_{i}^j + b, \n",
    "$$\n",
    "\n",
    "y su solución sería\n",
    "\n",
    "$$\n",
    "\\hat \\theta = (\\Phi^T \\Phi)^{-1} \\Phi^T Y,\n",
    "$$\n",
    "\n",
    "donde \n",
    "\n",
    "$$\n",
    "\\Phi = \\begin{pmatrix} 1 & x_1 & x_1^2& \\ldots& x_1^M \\\\ \\vdots & \\vdots & \\vdots& \\ddots& \\vdots \\\\ 1 & x_N & x_N^2& \\ldots& x_N^M \\\\ \\end{pmatrix}\n",
    "$$\n",
    "\n",
    "> El grado del polinomio es un **hiperparámetro** del modelo\n",
    "\n",
    "En scikit learn podemos utilizar [`sklearn.preprocessing.PolynomialFeatures`](https://scikit-learn.org/stable/modules/generated/sklearn.preprocessing.PolynomialFeatures.html#sklearn.preprocessing.PolynomialFeatures) para realizar esta transformación\n",
    "\n",
    "Por ejemplo un polinomio de grado dos:"
   ]
  },
  {
   "cell_type": "code",
   "execution_count": 6,
   "metadata": {},
   "outputs": [
    {
     "data": {
      "text/plain": [
       "0.47143516373249306"
      ]
     },
     "metadata": {},
     "output_type": "display_data"
    },
    {
     "data": {
      "text/plain": [
       "array([[1.        , 0.47143516, 0.22225111]])"
      ]
     },
     "metadata": {},
     "output_type": "display_data"
    }
   ],
   "source": [
    "from sklearn.preprocessing import PolynomialFeatures\n",
    "\n",
    "featurizer = PolynomialFeatures(degree=2)\n",
    "\n",
    "display(x[0], featurizer.fit_transform(x[0].reshape(-1, 1)))"
   ]
  },
  {
   "cell_type": "markdown",
   "metadata": {},
   "source": [
    "Podemos crear un regresor polinomial definiendo un [`Pipeline`](`https://scikit-learn.org/stable/modules/classes.html#module-sklearn.pipeline`)\n",
    "\n",
    "El siguiente pipeline combina `PolynomialFeatures` y `LinearRegression`"
   ]
  },
  {
   "cell_type": "code",
   "execution_count": 7,
   "metadata": {},
   "outputs": [
    {
     "name": "stdout",
     "output_type": "stream",
     "text": [
      "MSE: 0.7179\n"
     ]
    }
   ],
   "source": [
    "from sklearn.pipeline import make_pipeline\n",
    "\n",
    "model = make_pipeline(PolynomialFeatures(degree=3), \n",
    "                      LinearRegression(fit_intercept=False))\n",
    "\n",
    "model.fit(x.reshape(-1, 1), y)\n",
    "print(f\"MSE: {mean_squared_error(y, model.predict(x.reshape(-1, 1))):0.4f}\")\n",
    "y_test = model.predict(x_test.reshape(-1, 1))"
   ]
  },
  {
   "cell_type": "code",
   "execution_count": 8,
   "metadata": {},
   "outputs": [
    {
     "data": {
      "image/png": "[encoded data removed]",
      "text/plain": [
       "<Figure size 576x288 with 2 Axes>"
      ]
     },
     "metadata": {
      "needs_background": "light"
     },
     "output_type": "display_data"
    }
   ],
   "source": [
    "plot_prediction(x, y, x_test, y_test, model)"
   ]
  },
  {
   "cell_type": "markdown",
   "metadata": {},
   "source": [
    "Ciertamente, el modelo sigue mejor la tendencia de los datos\n",
    "\n",
    "> ¿Qué ocurre su usamos un polinomio de grado mayor?\n",
    "\n",
    "Intentemos nuevamente con un polinomio de grado 15"
   ]
  },
  {
   "cell_type": "code",
   "execution_count": 9,
   "metadata": {},
   "outputs": [
    {
     "name": "stdout",
     "output_type": "stream",
     "text": [
      "MSE: 0.2526\n"
     ]
    }
   ],
   "source": [
    "model = make_pipeline(PolynomialFeatures(degree=15), \n",
    "                      LinearRegression())\n",
    "\n",
    "model.fit(x.reshape(-1, 1), y)\n",
    "print(f\"MSE: {mean_squared_error(y, model.predict(x.reshape(-1, 1))):0.4f}\")\n",
    "y_test = model.predict(x_test.reshape(-1, 1))"
   ]
  },
  {
   "cell_type": "code",
   "execution_count": 10,
   "metadata": {},
   "outputs": [
    {
     "data": {
      "image/png": "[encoded data removed]",
      "text/plain": [
       "<Figure size 576x288 with 2 Axes>"
      ]
     },
     "metadata": {
      "needs_background": "light"
     },
     "output_type": "display_data"
    }
   ],
   "source": [
    "plot_prediction(x, y, x_test, y_test, model)"
   ]
  },
  {
   "cell_type": "markdown",
   "metadata": {},
   "source": [
    ":::{warning}\n",
    "\n",
    "Lo que estamos viendo es un ejemplo de sobreajuste\n",
    "\n",
    ":::"
   ]
  },
  {
   "cell_type": "markdown",
   "metadata": {},
   "source": [
    "## Complejidad y Sobreajuste\n",
    "\n",
    "En el ejemplo anterior aumentar el grado del polinomio vuelve más flexible al modelo, es decir que aumenta su capacidad para ajustar los datos\n",
    "\n",
    ":::{note}\n",
    "\n",
    "La cantidad de parámetros o complejidad del modelo está relacionado con su flexibilidad\n",
    "\n",
    ":::\n",
    "\n",
    "Sin embargo, si la flexibilidad es excesiva podríamos aproximar ciertos datos con error cero. Esta situación, en que el modelo \"memoriza los datos\", se conoce como **sobreajuste**\n",
    "\n",
    ":::{warning}\n",
    "\n",
    "Un modelo sobreajustado tiende a predecir muy mal datos \"que no ha visto\": Pierde capacidad de **generalización**\n",
    "\n",
    ":::\n",
    "\n",
    "La siguiente figura esquematiza la relación la complejidad o capacidad de ajustar del modelo\n",
    "\n",
    "\n",
    "<img src=\"img/overfitting.png\" width=\"400\">\n",
    "\n",
    "Figura: https://www.d2l.ai/chapter_multilayer-perceptrons/underfit-overfit.html\n",
    "\n",
    ":::{note}\n",
    "\n",
    "En general, mientras más simple sea el modelo, menos propenso es a sobreajustarse\n",
    "\n",
    ":::\n",
    "\n",
    ":::{hint}\n",
    "\n",
    "Podemos evitar el escenario sobreajustado en modelos complejos utilizando un conjunto de datos de validación\n",
    "\n",
    ":::"
   ]
  },
  {
   "cell_type": "markdown",
   "metadata": {},
   "source": [
    "## Estrategias de Validación"
   ]
  },
  {
   "cell_type": "markdown",
   "metadata": {},
   "source": [
    "Para combatir el sobreajuste podemos usar **estrategias de validación**, estas se basan en separar el conjunto de datos en dos o más subconjuntos, revisemos dos de ellas\n",
    "\n",
    "**Holdout**\n",
    "\n",
    "Consiste en separar los datos en conjuntos de entrenamiento, validación y prueba:\n",
    "\n",
    "- El primero se ocupa para entrenar o ajustar el modelo\n",
    "- El segundo se utiliza para detectar sobreajuste y calibrar los hiperparámetros del modelo\n",
    "- El tercero se ocupa para realizar una evaluación final libre de sesgos\n",
    "\n",
    "Típicamente, la base de datos se particiona en proporción 80%, 10%, 10% si el dataset es grande o 60%, 20%, 20% si el dataset es pequeño\n",
    "\n",
    "**K-fold**\n",
    "\n",
    "La validación cruzada o K-fold consisten en separar el conjunto en $K$ particiones y utilizarlas alternadamente para entrenar y validar como muestra el siguiente esquema\n",
    "\n",
    "<img src=\"img/cv.png\" width=\"400\">\n",
    "\n",
    "El caso extremo se conoce como Leave-one-out (LOO), en que se entrena con todos los datos menos uno $N$ veces.\n",
    "\n",
    "\n",
    "> Para ambos tipos de validación los conjuntos se seleccionan aleatoriamente. También puede hacerse de forma estratificada, es decir manteniendo la proporción de clases\n",
    "\n",
    "\n",
    "Podemos separar un conjunto en dos con scikit-learn utilizando:"
   ]
  },
  {
   "cell_type": "code",
   "execution_count": 11,
   "metadata": {},
   "outputs": [
    {
     "name": "stdout",
     "output_type": "stream",
     "text": [
      "30 24 6\n"
     ]
    },
    {
     "data": {
      "image/png": "[encoded data removed]",
      "text/plain": [
       "<Figure size 432x288 with 1 Axes>"
      ]
     },
     "metadata": {
      "needs_background": "light"
     },
     "output_type": "display_data"
    }
   ],
   "source": [
    "from sklearn.model_selection import train_test_split\n",
    "\n",
    "X_train, X_test, y_train, y_test = train_test_split(x, y, test_size=0.2)\n",
    "print(len(y), len(y_train), len(y_test))\n",
    "\n",
    "fig, ax = plt.subplots(figsize=(6, 4), tight_layout=True)\n",
    "ax.scatter(X_train, y_train, s=10, label='Entrenamiento', alpha=0.75)\n",
    "ax.scatter(X_test, y_test, s=20, label='Prueba', alpha=0.75)\n",
    "ax.legend()\n",
    "ax.set_xlabel('x')\n",
    "ax.set_ylabel('y');"
   ]
  },
  {
   "cell_type": "markdown",
   "metadata": {},
   "source": [
    "En el ejemplo del regresor polinomial podemos utilizar **validación cruzada** para seleccionar el grado de polinomio óptimo\n",
    "\n",
    "Para esto utilizarmos la función [`cross_val_score`](https://scikit-learn.org/stable/modules/generated/sklearn.model_selection.cross_val_score.html). Los argumentos de esta función son\n",
    "\n",
    "- Un modelo de scikit learn\n",
    "- Datos \n",
    "- Etiquetas\n",
    "- `cv`: La cantidad de particiones (K)\n",
    "- `scoring`: Una métrica que se utiliza para evaluar el modelo en las particiones\n",
    "\n",
    "En este ejemplo utilizaremos 5 particiones y el error cuadrático medio como métrica"
   ]
  },
  {
   "cell_type": "code",
   "execution_count": 12,
   "metadata": {},
   "outputs": [
    {
     "data": {
      "image/png": "[encoded data removed]",
      "text/plain": [
       "<Figure size 432x288 with 1 Axes>"
      ]
     },
     "metadata": {
      "needs_background": "light"
     },
     "output_type": "display_data"
    }
   ],
   "source": [
    "from sklearn.model_selection import cross_val_score\n",
    "from sklearn.metrics import make_scorer\n",
    "\n",
    "val_scores = []\n",
    "train_scores = []\n",
    "for degree in range(1, 12):\n",
    "    model = make_pipeline(PolynomialFeatures(degree), LinearRegression())\n",
    "    scorer = make_scorer(mean_squared_error)\n",
    "    val_scores.append(cross_val_score(model, X=X_train.reshape(-1, 1), y=y_train, cv=5, scoring=scorer))\n",
    "    model.fit(X_train.reshape(-1, 1), y_train)\n",
    "    train_scores.append(mean_squared_error(y_train, model.predict(X_train.reshape(-1, 1))))\n",
    "    \n",
    "score_mean = [score.mean() for score in val_scores]\n",
    "fig, ax = plt.subplots(figsize=(6, 4), tight_layout=True)\n",
    "ax.plot(range(1, 12), score_mean, label='Validación')\n",
    "ax.plot(range(1, 12), train_scores, label='Entrenamiento')\n",
    "ax.axvline(3, ls='--', c='k', alpha=0.5)\n",
    "ax.set_yscale('log')\n",
    "plt.legend()\n",
    "ax.set_xlabel('Grado del polinomio')\n",
    "ax.set_ylabel('Error medio cuadrático');"
   ]
  },
  {
   "cell_type": "markdown",
   "metadata": {},
   "source": [
    "En resumen\n",
    "\n",
    "- Bajo error de entrenamiento y de validación: **Ideal**\n",
    "- Bajo error de entrenamiento y alto error de validación: **Modelo sobreajustado**\n",
    "- Alto error de entrenamiento y de validación: Considera un modelo de mayor complejidad y asegurate que tu código no tenga bugs\n"
   ]
  },
  {
   "cell_type": "code",
   "execution_count": null,
   "metadata": {},
   "outputs": [],
   "source": []
  }
 ],
 "metadata": {
  "kernelspec": {
   "display_name": "Python 3 (ipykernel)",
   "language": "python",
   "name": "python3"
  },
  "language_info": {
   "codemirror_mode": {
    "name": "ipython",
    "version": 3
   },
   "file_extension": ".py",
   "mimetype": "text/x-python",
   "name": "python",
   "nbconvert_exporter": "python",
   "pygments_lexer": "ipython3",
   "version": "3.9.12"
  }
 },
 "nbformat": 4,
 "nbformat_minor": 2
}
