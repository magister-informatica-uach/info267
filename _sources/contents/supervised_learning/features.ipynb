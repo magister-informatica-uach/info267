{
 "cells": [
  {
   "cell_type": "markdown",
   "id": "713f0b06",
   "metadata": {},
   "source": [
    "# Ingeniería de características \n",
    "\n"
   ]
  },
  {
   "cell_type": "markdown",
   "id": "3b406a6c",
   "metadata": {},
   "source": [
    "Es muy común que los datos recolectados para resolver un problema de ML no estén originalmente en un formato o tipo compatible con el modelo de aprendizaje. Por ejemplo, la mayoría de los métodos que hemos visto en este curso requieren una entrada numérica.\n",
    "\n",
    "**Ejemplo** Supongamos que tenemos un dataset de helados y uno de sus atributos es la marca de la empresa que produce el helado: Savory, Bresler, Panda. \n",
    "\n",
    "Si queremos utilizar la marca como una entrada a un modelo predictivo podríamos codificar estas categorías como numéros enteros utilizando [`OrdinalEncoder`](https://scikit-learn.org/stable/modules/generated/sklearn.preprocessing.OrdinalEncoder.html)"
   ]
  },
  {
   "cell_type": "code",
   "execution_count": 1,
   "id": "bc8df834",
   "metadata": {},
   "outputs": [
    {
     "data": {
      "text/plain": [
       "array([[2.],\n",
       "       [0.],\n",
       "       [1.]])"
      ]
     },
     "execution_count": 1,
     "metadata": {},
     "output_type": "execute_result"
    }
   ],
   "source": [
    "import numpy as np\n",
    "from sklearn.preprocessing import OrdinalEncoder\n",
    "\n",
    "marcas = np.array(['Savory', 'Bresler', 'Panda'])\n",
    "\n",
    "enc = OrdinalEncoder()\n",
    "enc.fit_transform(marcas.reshape(-1, 1))"
   ]
  },
  {
   "cell_type": "code",
   "execution_count": 2,
   "id": "be88c90f",
   "metadata": {},
   "outputs": [
    {
     "data": {
      "text/plain": [
       "array([['Bresler']], dtype='<U7')"
      ]
     },
     "execution_count": 2,
     "metadata": {},
     "output_type": "execute_result"
    }
   ],
   "source": [
    "enc.inverse_transform([[0]])"
   ]
  },
  {
   "cell_type": "markdown",
   "id": "5ed863e6",
   "metadata": {},
   "source": [
    ":::{error}\n",
    "\n",
    "Esta forma ingenua de codificar las categorías introduce una relación de orden ficticia que el modelo podría aprender.\n",
    "\n",
    ":::\n",
    "\n",
    ":::{note}\n",
    "\n",
    "Si el número de categorías no es grande, podemos codificarlas sin caer en una relación de orden utilizando one-hot encoding.\n",
    "\n",
    ":::\n",
    "\n",
    "Podemos implementar esta codificación con [`OneHotEncoder`](https://scikit-learn.org/stable/modules/generated/sklearn.preprocessing.OneHotEncoder.html#sklearn.preprocessing.OneHotEncoder)"
   ]
  },
  {
   "cell_type": "code",
   "execution_count": 3,
   "id": "72dd4ae6",
   "metadata": {},
   "outputs": [
    {
     "data": {
      "text/plain": [
       "array([[0., 0., 1.],\n",
       "       [1., 0., 0.],\n",
       "       [0., 1., 0.]])"
      ]
     },
     "execution_count": 3,
     "metadata": {},
     "output_type": "execute_result"
    }
   ],
   "source": [
    "from sklearn.preprocessing import OneHotEncoder\n",
    "\n",
    "enc = OneHotEncoder(sparse_output=False)\n",
    "enc.fit_transform(marcas.reshape(-1, 1))"
   ]
  },
  {
   "cell_type": "code",
   "execution_count": 4,
   "id": "3190e716",
   "metadata": {},
   "outputs": [
    {
     "data": {
      "text/plain": [
       "array([['Savory']], dtype='<U7')"
      ]
     },
     "execution_count": 4,
     "metadata": {},
     "output_type": "execute_result"
    }
   ],
   "source": [
    "enc.inverse_transform([[0, 0, 1]])"
   ]
  },
  {
   "cell_type": "markdown",
   "id": "2a3c7337",
   "metadata": {},
   "source": [
    "donde todas las categorías están a una misma distancia de las demás. Esta secuencia de tres números puede ingresar como entrada al modelo.\n",
    "\n",
    ":::{note}\n",
    "\n",
    "En problemas con muchas categorías estaríamos creando vectores de gran tamaño. Un solución típica es agrupar las categorías minoritarias. Esto se puede hacer con `OneHotEncoder` utilizando el argumento `max_categories`.\n",
    "\n",
    ":::\n",
    "\n",
    "Más en general, podemos definir:\n",
    "\n",
    "Característica (feature)\n",
    ": Se refiere a una cantidad obtenida de codificar o transformar los datos (crudos) que puede usarse como entrada de un modelo. \n",
    "\n",
    "Ingeniería de características (feature engineering)\n",
    ": Se refiere a los criterios y procesos para diseñar y obtener características a partir de datos crudos\n",
    "\n",
    "Una característica \"ideal\" debería cumplir con lo siguiente:\n",
    "\n",
    "- Alto poder predictor: La característica debe estar altamente relacionada con la variable a predecir (etiqueta).\n",
    "- Baja correlación con otras características: La característica no debe proveer información que esté en otras características.\n",
    "- Alta confianza: La característica debe calcularse a partir de datos que son confiables y representativos del problema.\n",
    "- Rápida de calcular: El cálculo de la característica no debería introducir un *overhead* computacional que vuelva infactible resolver el problema."
   ]
  },
  {
   "cell_type": "markdown",
   "id": "c8181ed6",
   "metadata": {},
   "source": [
    ":::{important}\n",
    "\n",
    "La ingeniería de características es un proceso creativo que requiere que nos acerquemos considerablemente al problema que se quiere resolver. En ciertos problemas será necesario colaborar con un experto del dominio específico.\n",
    "\n",
    ":::\n",
    "\n",
    "**Discusión:** Un médico quiere predecir [cancer a partir de una biopsia](https://www.kaggle.com/datasets/uciml/breast-cancer-wisconsin-data). El médico resuelve esta tarea observando el tamaño de ciertas células que se caracterisan por su color distintivo ¿Qué características diseñar para este problema?\n"
   ]
  },
  {
   "cell_type": "markdown",
   "id": "1f62f38b",
   "metadata": {},
   "source": [
    "Si en un problema particular los datos corresponden a los siguientes tipos, podemos considerar las siguientes representaciones para obtener características:\n",
    "\n",
    "- Textos: [Modelos de tópicos](https://scikit-learn.org/stable/modules/generated/sklearn.decomposition.LatentDirichletAllocation.html) (LDA), Bag of Words, Word2Vec\n",
    "- Audio: [Espectrogramas](https://docs.scipy.org/doc/scipy/reference/generated/scipy.signal.spectrogram.html), [Wavelets](https://docs.scipy.org/doc/scipy/reference/generated/scipy.signal.cwt.html)\n",
    "- Imágenes: [Filtros de extracción de contornos, Gradientes de color, matching de geométrias](https://scikit-image.org/), \n",
    "- Series de tiempo: [Modelos autoregresivos](https://www.sktime.org/en/stable/)\n",
    "\n",
    "Ejemplo de características para un dominio particular: [astronomía](http://isadoranun.github.io/tsfeat/FeaturesDocumentation.html)"
   ]
  },
  {
   "cell_type": "markdown",
   "id": "86388bf7",
   "metadata": {},
   "source": [
    "## Selección de características\n",
    "\n",
    "Los métodos de selección de características buscan encontrar el subconjunto de características más relevantes para resolver el problema (clasificación o regresión). En el caso más general estos métodos suelen distinguir entre:\n",
    "\n",
    "Características relevante\n",
    ": Es una características que tiene alto poder predictivo, es decir una relación (lineal o no lineal) fuerte con la variable a predecir (etiqueta).\n",
    "\n",
    "Características complementarias o sinérgicas\n",
    ": Son tuplas de características que por si sola tienen bajo poder predictivo, pero estándo juntas tienen alto poder predictivo.\n",
    "\n",
    "Característica redundante\n",
    ": Es una característica que si se elimina no afecta el desempeño pues su relación con la etiqueta ya está bien representada por otras variables.\n",
    "\n",
    "Característica irrelevante\n",
    ": Es una característica con relación débil o nula con la etiqueta.\n",
    "\n",
    ":::{important}\n",
    "\n",
    "Un buen método de selección debería preservar las características relevantes/complementarias y descartar las irrevelante/redundantes.\n",
    "\n",
    ":::\n",
    "\n",
    ":::{note}\n",
    "\n",
    "Eliminar características de poco poder predictivo puede mejorar el rendimiento del clasificador, especialmente si tenemos muchas características (la maldición de la dimensionalidad).\n",
    "\n",
    "\n",
    ":::"
   ]
  },
  {
   "cell_type": "markdown",
   "id": "45ac54f8",
   "metadata": {},
   "source": [
    "El módulo [`feature_selection`](https://scikit-learn.org/stable/modules/classes.html#module-sklearn.feature_selection) de Scikit-Learn ofrece algunas alternativas para hacer selección de características. Revisemos primero [`SelectKBest`](https://scikit-learn.org/stable/modules/generated/sklearn.feature_selection.SelectKBest.html#sklearn.feature_selection.SelectKBest). Este objeto espera una función que mida la relevencia de las características y en base a eso retorna las K características más relevantes. \n",
    "\n",
    "Una métrica muy utilizada para medir relevancia es la **Información Mutua**, que también está implementada en scikit learn como [`mutual_info_classif`](https://scikit-learn.org/stable/modules/generated/sklearn.feature_selection.mutual_info_classif.html#sklearn.feature_selection.mutual_info_classif) y [`mutual_info_regression`](https://scikit-learn.org/stable/modules/classes.html#module-sklearn.feature_selection).\n",
    "\n",
    ":::{note}\n",
    "\n",
    "La Información Mutua (IM) mide la cantidad de información compartida entre una característica y la etiqueta. A diferencia de la correlación, la IM es sensible a relaciones no lineales.\n",
    "\n",
    ":::\n"
   ]
  },
  {
   "cell_type": "markdown",
   "id": "3eabff50",
   "metadata": {},
   "source": [
    "Utilicemos como ejemplo un dataset de clasificación sintético de dos clases con seis características:\n",
    "\n",
    "- Las primeras dos características son relevantes (informativas).\n",
    "- Las segundas dos son redundantes con las dos primeras.\n",
    "- Las dos restantes son irrelevantes.\n"
   ]
  },
  {
   "cell_type": "code",
   "execution_count": 5,
   "id": "8a2a5570",
   "metadata": {},
   "outputs": [],
   "source": [
    "from sklearn.datasets import make_classification\n",
    "\n",
    "X, y = make_classification(n_samples=300, n_classes=2, n_features=6, \n",
    "                           n_informative=2, n_redundant=2, n_clusters_per_class=1,\n",
    "                           shuffle=False, random_state=0)"
   ]
  },
  {
   "cell_type": "markdown",
   "id": "333f4da5",
   "metadata": {},
   "source": [
    "La información mutua es:"
   ]
  },
  {
   "cell_type": "code",
   "execution_count": 6,
   "id": "580e9474",
   "metadata": {},
   "outputs": [
    {
     "data": {
      "text/plain": [
       "array([0.066961  , 0.40360162, 0.0787783 , 0.46676115, 0.0506025 ,\n",
       "       0.        ])"
      ]
     },
     "execution_count": 6,
     "metadata": {},
     "output_type": "execute_result"
    }
   ],
   "source": [
    "from sklearn.feature_selection import mutual_info_classif, SelectKBest\n",
    "\n",
    "mutual_info_classif(X, y)"
   ]
  },
  {
   "cell_type": "markdown",
   "id": "c382e633",
   "metadata": {},
   "source": [
    "- La IM de las variables irrelevantes es practicamente nula\n",
    "- La IM de las variables informativas y relevantes es similar\n",
    "\n",
    "Si utilizamos `SelectKBest` con $K=3$"
   ]
  },
  {
   "cell_type": "code",
   "execution_count": 7,
   "id": "e5489d6b",
   "metadata": {},
   "outputs": [
    {
     "name": "stdout",
     "output_type": "stream",
     "text": [
      "CPU times: user 28.4 ms, sys: 660 µs, total: 29.1 ms\n",
      "Wall time: 27.7 ms\n"
     ]
    },
    {
     "data": {
      "text/plain": [
       "((300, 3), array(['x1', 'x2', 'x3'], dtype=object))"
      ]
     },
     "execution_count": 7,
     "metadata": {},
     "output_type": "execute_result"
    }
   ],
   "source": [
    "%%time\n",
    "\n",
    "selector = SelectKBest(score_func=mutual_info_classif, k=3)\n",
    "X_reduced = selector.fit_transform(X, y)\n",
    "X_reduced.shape, selector.get_feature_names_out()"
   ]
  },
  {
   "cell_type": "markdown",
   "id": "2e16231d",
   "metadata": {},
   "source": [
    ":::{note}\n",
    "\n",
    "La ventaja de este método para hacer selección de características es que no depende de un modelo de clasificación en particular. Otra ventaja es que es muy eficiente computacionalmente.\n",
    "\n",
    ":::\n",
    "\n",
    ":::{warning}\n",
    "\n",
    "La desventaja de este método es que, al medir la relevancia de las características una por una, no es sensible a relaciones de redundancia y complementariedad.\n",
    "\n",
    ":::\n"
   ]
  },
  {
   "cell_type": "markdown",
   "id": "48e04e37",
   "metadata": {},
   "source": [
    "El problema anterior se puede aliviar utilizando un método de eliminación hacia-atras (*backward*). Scikit-learn tiene dos objetos para lograr este propósito: \n",
    "\n",
    "- [`RFE`](https://scikit-learn.org/stable/modules/generated/sklearn.feature_selection.RFE.html#sklearn.feature_selection.RFE) (Recursive feature elimination)\n",
    "- [`SequentialFeatureSelector(direction='backward')`](https://scikit-learn.org/stable/modules/generated/sklearn.feature_selection.SequentialFeatureSelector.html#sklearn.feature_selection.SequentialFeatureSelector)\n",
    "\n",
    "Ambos métodos requieren de un estimador (regresor o clasificador) y se utiliza el *accuracy* en validación cruzada para hacer la selección. \n",
    "\n",
    "En particular `SequentialFeatureSelector`\n",
    "\n",
    "- Mide el accuracy utilizando todas las características menos una, para todas las características\n",
    "- Elimina la característica que produje la menor disminución en *accuracy*\n",
    "- El procedimiento se repite hasta que cumplir con un número esperado de característas especificado por el argumento `n_features_to_select`\n",
    "\n",
    ":::{note}\n",
    "\n",
    "Este tipo de eliminación *greedy* descartará características redundates y no perderá características que son complementarias, pero tiene un gran costo en comparación a lo que vimos antes.\n",
    "\n",
    ":::\n",
    "\n",
    "Por ejemplo, si pedimos tres características:"
   ]
  },
  {
   "cell_type": "code",
   "execution_count": 8,
   "id": "48415445",
   "metadata": {},
   "outputs": [
    {
     "name": "stdout",
     "output_type": "stream",
     "text": [
      "CPU times: user 149 ms, sys: 5.98 ms, total: 155 ms\n",
      "Wall time: 154 ms\n"
     ]
    },
    {
     "data": {
      "text/plain": [
       "array(['x0', 'x3', 'x5'], dtype=object)"
      ]
     },
     "execution_count": 8,
     "metadata": {},
     "output_type": "execute_result"
    }
   ],
   "source": [
    "%%time\n",
    "\n",
    "from sklearn.tree import DecisionTreeClassifier\n",
    "from sklearn.feature_selection import SequentialFeatureSelector\n",
    "\n",
    "model = DecisionTreeClassifier(random_state=0)\n",
    "selector = SequentialFeatureSelector(model, direction='backward', cv=3,\n",
    "                                     n_features_to_select=3)\n",
    "selector.fit(X, y)\n",
    "selector.get_feature_names_out()"
   ]
  },
  {
   "cell_type": "markdown",
   "id": "11309dc5",
   "metadata": {},
   "source": [
    "El método no entrega características redudantes entre si."
   ]
  },
  {
   "cell_type": "markdown",
   "id": "4265fa18",
   "metadata": {},
   "source": [
    ":::{warning}\n",
    "\n",
    "Los resultados dependen del estimador. Usar un estimador distinto puede cambiar considerablemente el resultado.\n",
    "\n",
    ":::"
   ]
  },
  {
   "cell_type": "markdown",
   "id": "56cb19f3",
   "metadata": {},
   "source": [
    "## Escalamiento y normalización de características\n",
    "\n",
    "Existen dos razones importantes por las cuales es interesante escalar las características antes de entrenar un modelo:\n",
    "\n",
    "1. Evitar que una variable domine a las otras sólo por tener valores más grandes\n",
    "1. Evitar inestabilidad numérica en el modelo o en el proceso de optimización del mismo]\n",
    "\n",
    "El módulo [`preprocessing`](https://scikit-learn.org/stable/modules/classes.html#module-sklearn.preprocessing) de Scikit Learn proporciona clases y funciones para realizar distintos tipos de escalamiento, entre ellos:\n",
    "\n",
    "- [`StandardScaler(with_mean=True, with_std=True)`](https://scikit-learn.org/stable/modules/generated/sklearn.preprocessing.StandardScaler.html#sklearn.preprocessing.StandardScaler): Equivalente a restar la media y dividir por la desviación estándar\n",
    "- [`MinMaxScaler()`](https://scikit-learn.org/stable/modules/generated/sklearn.preprocessing.MaxAbsScaler.html#sklearn.preprocessing.MaxAbsScaler): Reescala la variable tal que su valor mínimo sea 0 y su valor máximo sea 1\n",
    "- [`MaxAbsScaler()`](https://scikit-learn.org/stable/modules/generated/sklearn.preprocessing.MaxAbsScaler.html#sklearn.preprocessing.MaxAbsScaler): Rescala la variable tal que su valor máximo sea 1 (divide por el máximo absoluto)\n",
    "- [`RobustScaler()`](https://scikit-learn.org/stable/modules/generated/sklearn.preprocessing.RobustScaler.html#sklearn.preprocessing.RobustScaler): Similar a `StandardScaler` pero utiliza estadísticos robustos ante los valores fuera de rango (outliers)\n",
    "\n",
    "Los principales métodos de estas clases son:\n",
    "\n",
    "- `fit(X)`: Calcula los estadísticos de la transformación de escalamiento para `X`\n",
    "- `transform(X)` Aplica la transformación a `X`\n",
    "- `fit_transform(X)`: Equivalente a aplicar los dos pasos anteriores al mismo tiempo\n",
    "- `inverse_transform(X)`: Deshace la transformación "
   ]
  },
  {
   "cell_type": "code",
   "execution_count": 9,
   "id": "7381c0e5",
   "metadata": {},
   "outputs": [
    {
     "data": {
      "text/plain": [
       "array([[0.15596611, 0.54159956],\n",
       "       [0.        , 0.        ],\n",
       "       [0.71403426, 1.        ],\n",
       "       [1.        , 0.68908574],\n",
       "       [0.48256434, 0.77515863]])"
      ]
     },
     "execution_count": 9,
     "metadata": {},
     "output_type": "execute_result"
    }
   ],
   "source": [
    "from sklearn.preprocessing import MinMaxScaler\n",
    "\n",
    "data = np.random.randn(5, 2)\n",
    "\n",
    "scaler = MinMaxScaler()\n",
    "scaler.fit_transform(data)"
   ]
  },
  {
   "cell_type": "markdown",
   "id": "226580ee",
   "metadata": {},
   "source": [
    ":::{important}\n",
    "\n",
    "Si entrenas sobre características reescaladas debes guardar los valores de los estadísticos para poder normalizar/reescalar ejemplos futuros\n",
    "\n",
    ":::"
   ]
  },
  {
   "cell_type": "markdown",
   "id": "1514820b",
   "metadata": {},
   "source": [
    "## Reducción de dimensionalidad\n",
    "\n",
    "Los métodos de reducción de dimensionalidad transforman un conjunto de características (numéricas) en un nuevo conjunto con un número menor de variables. Las nuevas características suelen involucrar transformaciones y combinaciones de las características originales. \n",
    "\n",
    "Existen métodos supervisados y no supervisados para reducir dimensionalidad. En este último caso no se utiliza información de la etiqueta, y se busca minimizar otro tipo de objetivo. Un ejemplo clásico y ampliamente utilizado es Análisis de Componentes Principales (*Principal Component Analysis*, PCA).\n",
    "\n",
    "Como muestra la siguiente figura, PCA aplica una transformación sobre las características originales (izquierda), creando nuevas características que son combinaciones lineales de las originales (derecha)."
   ]
  },
  {
   "cell_type": "markdown",
   "id": "4dd238fb",
   "metadata": {},
   "source": [
    "<img src=\"img/pca1.png\" width=\"600\">"
   ]
  },
  {
   "cell_type": "markdown",
   "id": "9054d15d",
   "metadata": {},
   "source": [
    "El objetivo de PCA es **maximizar la varianza de las características** proyectadas en el nuevo espacio. \n",
    "\n",
    "\n",
    ":::{note}\n",
    "\n",
    "PCA produce una cantidad de características equivalente a las que se tenían originalmente.\n",
    "\n",
    ":::\n",
    "\n",
    ":::{important}\n",
    "\n",
    "La reducción de dimensionalidad en PCA es manual, es decir el usuario debe decidir cuantas características preservar. Un criterio muy usado es seleccionar la cantidad de características en base a la varianza acumulada que representan.\n",
    "\n",
    ":::\n",
    "\n",
    "El módulo [`decomposition`](https://scikit-learn.org/stable/modules/classes.html#module-sklearn.decomposition) de scikit-learn tiene clases y objetos para hacer reducción de dimensionalidad, entre ellos [`PCA`](https://scikit-learn.org/stable/modules/generated/sklearn.decomposition.PCA.html#sklearn.decomposition.PCA).\n",
    "\n",
    "El argumento principal de `PCA` es `n_components`, el cual puede ser un entero o un flotante en el rango [0, 1]:\n",
    "\n",
    "- Si es un entero $K$ el método se quedará con las $K$ variables de mayor varianza\n",
    "- Si es un flotante $p$ el método se quedará con tantas variables como sea necesario con tal de tener un $100p\\%$  de la varianza\n",
    "\n",
    "Veamos un ejemplo con el famoso dataset [Iris](https://archive.ics.uci.edu/ml/datasets/iris)."
   ]
  },
  {
   "cell_type": "code",
   "execution_count": 10,
   "id": "beb58005",
   "metadata": {},
   "outputs": [
    {
     "data": {
      "text/plain": [
       "(150, 4)"
      ]
     },
     "execution_count": 10,
     "metadata": {},
     "output_type": "execute_result"
    }
   ],
   "source": [
    "from sklearn.datasets import load_iris\n",
    "X, y = load_iris(return_X_y=True)\n",
    "X.shape"
   ]
  },
  {
   "cell_type": "code",
   "execution_count": 11,
   "id": "0eb62f4e",
   "metadata": {},
   "outputs": [
    {
     "data": {
      "text/plain": [
       "(150, 2)"
      ]
     },
     "execution_count": 11,
     "metadata": {},
     "output_type": "execute_result"
    }
   ],
   "source": [
    "from sklearn.decomposition import PCA\n",
    "\n",
    "dim_reducer = PCA(n_components=0.95)\n",
    "\n",
    "X_reduced = dim_reducer.fit_transform(X)\n",
    "\n",
    "X_reduced.shape"
   ]
  },
  {
   "cell_type": "markdown",
   "id": "3e0a36cf",
   "metadata": {},
   "source": [
    "De acuerdo a los resultados, dos componentes principales son suficientes para preservar un 95% de la varianza\n",
    "\n",
    "Los datos en el espacio proyectado son:"
   ]
  },
  {
   "cell_type": "code",
   "execution_count": 12,
   "id": "28a83b0f",
   "metadata": {},
   "outputs": [
    {
     "data": {
      "image/png": "[encoded data removed]",
      "text/plain": [
       "<Figure size 600x400 with 1 Axes>"
      ]
     },
     "metadata": {},
     "output_type": "display_data"
    }
   ],
   "source": [
    "%matplotlib inline\n",
    "import matplotlib.pyplot as plt\n",
    "\n",
    "fig, ax = plt.subplots(figsize=(6, 4), tight_layout=True)\n",
    "for y_ in np.unique(y):\n",
    "    mask = y == y_\n",
    "    ax.scatter(X_reduced[mask, 0], X_reduced[mask, 1])\n",
    "ax.set_xlabel('Componente principal 1')\n",
    "ax.set_ylabel('Componente principal 2');"
   ]
  },
  {
   "cell_type": "markdown",
   "id": "aad9ae44",
   "metadata": {},
   "source": [
    "Estos nuevas características parecen suficiente para separar las tres clases.\n",
    "\n",
    ":::{warning}\n",
    "\n",
    "PCA no utiliza la información de clases para hacer la proyección. No siempre maximizar varianza resultará en mayor separabilidad de clases.\n",
    "\n",
    ":::"
   ]
  },
  {
   "cell_type": "markdown",
   "id": "7cd28ffc",
   "metadata": {},
   "source": [
    ":::{seealso}\n",
    "\n",
    "PCA recibe su nombre debido a que las nuevas características y su varianza están relacionadas a los vectores y valores propios de la matriz de correlación de las características originales. Puedes profundizar sobre este tema leyendo [esta presentación](https://docs.google.com/presentation/d/1YqYy5RTB2PJ6C7syMTZCleZqyc2MJVA2APqdBAIhjBw/edit#slide=id.p).\n",
    "\n",
    ":::"
   ]
  }
 ],
 "metadata": {
  "kernelspec": {
   "display_name": "Python 3 (ipykernel)",
   "language": "python",
   "name": "python3"
  },
  "language_info": {
   "codemirror_mode": {
    "name": "ipython",
    "version": 3
   },
   "file_extension": ".py",
   "mimetype": "text/x-python",
   "name": "python",
   "nbconvert_exporter": "python",
   "pygments_lexer": "ipython3",
   "version": "3.9.16"
  }
 },
 "nbformat": 4,
 "nbformat_minor": 5
}
