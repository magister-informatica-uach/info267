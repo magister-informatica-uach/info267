{
 "cells": [
  {
   "cell_type": "markdown",
   "metadata": {},
   "source": [
    "# Evaluación de clasificadores\n",
    "\n",
    "## Métricas para clasificadores binarios\n",
    "\n",
    "El regresor logístico retorna una predicción probabilística en el rango $[0, 1]$. Podemos convertir esta predicción en una decisión binaria seleccionando un umbral $\\mathcal{T}$ tal que\n",
    "\n",
    "$$\n",
    "d_i = \n",
    "\\begin{cases} \n",
    "0, & \\text{si } f_\\theta(\\vec x_i)  < \\mathcal{T} \\\\ \n",
    "1, & \\text{si } f_\\theta(\\vec x_i) \\geq \\mathcal{T}\n",
    "\\end{cases}\n",
    "$$\n",
    "\n",
    ":::{note}\n",
    "\n",
    "En un clasificador binario usar $\\mathcal{T}=0.5$ es equivalente al tomar el argumento máximo de la predicción probabilística\n",
    "\n",
    ":::\n",
    "\n"
   ]
  },
  {
   "cell_type": "markdown",
   "metadata": {},
   "source": [
    "Una vez seleccionado el umbral se puede contar la cantidad de \n",
    "\n",
    "- **True positives** (TP): Ejemplos de clase (1) y clasificados como (1)\n",
    "- **True negative** (TN): Ejemplos de clase (0) y clasificados como (0)\n",
    "- **False positives** (FP): Ejemplos de clase (0) y clasificados como (1): **Error tipo I**\n",
    "- **False negative** (FN): Ejemplos de clase (1) y clasificados como (0): **Error tipo II**\n",
    "\n",
    "A partir de estas métricas se construye la **tabla o matriz de confusión** del clasificador\n",
    "\n",
    "|Predicho como/Etiqueta|Positivo|Negativo|\n",
    "|---|---|---|\n",
    "|Positivo:|TP | FP |\n",
    "|Negativo:| FN | TN |\n",
    "\n",
    "Se puede estimar una matriz de confusión con scikit learn con "
   ]
  },
  {
   "cell_type": "code",
   "execution_count": 1,
   "metadata": {},
   "outputs": [
    {
     "data": {
      "text/plain": [
       "0.1"
      ]
     },
     "metadata": {},
     "output_type": "display_data"
    },
    {
     "data": {
      "text/plain": [
       "array([[37, 13],\n",
       "       [ 2, 48]])"
      ]
     },
     "metadata": {},
     "output_type": "display_data"
    },
    {
     "data": {
      "text/plain": [
       "0.25"
      ]
     },
     "metadata": {},
     "output_type": "display_data"
    },
    {
     "data": {
      "text/plain": [
       "array([[46,  4],\n",
       "       [ 3, 47]])"
      ]
     },
     "metadata": {},
     "output_type": "display_data"
    },
    {
     "data": {
      "text/plain": [
       "0.5"
      ]
     },
     "metadata": {},
     "output_type": "display_data"
    },
    {
     "data": {
      "text/plain": [
       "array([[48,  2],\n",
       "       [ 3, 47]])"
      ]
     },
     "metadata": {},
     "output_type": "display_data"
    },
    {
     "data": {
      "text/plain": [
       "0.75"
      ]
     },
     "metadata": {},
     "output_type": "display_data"
    },
    {
     "data": {
      "text/plain": [
       "array([[49,  1],\n",
       "       [ 6, 44]])"
      ]
     },
     "metadata": {},
     "output_type": "display_data"
    },
    {
     "data": {
      "text/plain": [
       "0.9"
      ]
     },
     "metadata": {},
     "output_type": "display_data"
    },
    {
     "data": {
      "text/plain": [
       "array([[50,  0],\n",
       "       [ 7, 43]])"
      ]
     },
     "metadata": {},
     "output_type": "display_data"
    }
   ],
   "source": [
    "import numpy as np\n",
    "from sklearn.datasets import make_classification\n",
    "from sklearn.linear_model import LogisticRegression\n",
    "from sklearn.metrics import confusion_matrix\n",
    "\n",
    "\n",
    "np.random.seed(20)\n",
    "X, y = make_classification(n_features=2, n_classes=2, n_informative=2, \n",
    "                           n_redundant=0, n_clusters_per_class=1)\n",
    "\n",
    "\n",
    "model = LogisticRegression(penalty='none')\n",
    "model.fit(X, y)\n",
    "\n",
    "for T in [0.1, 0.25, 0.5, 0.75, 0.9]:\n",
    "    display(T, confusion_matrix(y_true=y, y_pred=model.predict_proba(X)[:, 1] > T))\n",
    "    "
   ]
  },
  {
   "cell_type": "markdown",
   "metadata": {},
   "source": [
    ":::{warning}\n",
    "\n",
    "Utilizar $\\mathcal{T}=0.5$ asume que el costo o riesgo de cometer un error tipo 1 es equivalente al de cometer un error tipo 2\n",
    "\n",
    ":::\n",
    "\n",
    ":::{note}\n",
    "\n",
    "Modificando el umbral podemos ajustar el trade-off entre error tipo 1 y error tipo 2\n",
    "\n",
    ":::"
   ]
  },
  {
   "cell_type": "markdown",
   "metadata": {},
   "source": [
    "La matriz de confusión suele resumirse con las siguientes métricas:\n",
    "\n",
    "*True Positive Rate* o *Recall*\n",
    ": La proporción de positivos correctamente clasificados respecto al total de positivos\n",
    "\n",
    "$$\n",
    "\\text{TPR} = \\frac{TP}{TP + FN}\n",
    "$$\n",
    "\n",
    "*False Positive Rate* \n",
    ": La proporción de negativos incorrectamente clasificados respecto al total de negativos\n",
    "\n",
    "$$\n",
    "\\text{FPR} = \\frac{FP}{TN + FP} = 1 - \\frac{TN}{TN + FP}\n",
    "$$\n",
    "\n",
    "*Precision* o Pureza\n",
    ": La proporción de positivos correctamente clasificados respecto a todos los ejemplos clasificados como positivo\n",
    "\n",
    "$$\n",
    "\\text{Precision} = \\frac{TP}{TP + FP}\n",
    "$$\n",
    "\n",
    "*Accuracy*\n",
    ": La proporción de ejemplos correctamente clasificados\n",
    "\n",
    "$$\n",
    "\\text{Accuracy} = \\frac{TP+TN}{TP + FP + FN+ TN}\n",
    "$$\n",
    "\n",
    "*F1-score*\n",
    ": La media armónica entre Recall y Precision asumiendo igual ponderación\n",
    "\n",
    "$$\n",
    "\\text{f1-score} = \\frac{2 \\cdot \\text{Recall} \\cdot \\text{Precision}}{\\text{Recall} + \\text{Precision}}\n",
    "$$\n",
    "\n",
    ":::{tip}\n",
    "\n",
    "Si las clases son desbalanceadas entonces *f1-score* es preferible ante *accuracy*\n",
    "\n",
    ":::\n",
    "\n",
    "Podemos obtener estas métricas con scikit-learn utilizando"
   ]
  },
  {
   "cell_type": "code",
   "execution_count": 2,
   "metadata": {},
   "outputs": [
    {
     "data": {
      "text/plain": [
       "0.93"
      ]
     },
     "execution_count": 2,
     "metadata": {},
     "output_type": "execute_result"
    }
   ],
   "source": [
    "from sklearn.metrics import accuracy_score, classification_report\n",
    "\n",
    "accuracy_score(y_true=y, y_pred=model.predict_proba(X)[:, 1] > T)"
   ]
  },
  {
   "cell_type": "code",
   "execution_count": 3,
   "metadata": {},
   "outputs": [
    {
     "name": "stdout",
     "output_type": "stream",
     "text": [
      "              precision    recall  f1-score   support\n",
      "\n",
      "           0       0.88      1.00      0.93        50\n",
      "           1       1.00      0.86      0.92        50\n",
      "\n",
      "    accuracy                           0.93       100\n",
      "   macro avg       0.94      0.93      0.93       100\n",
      "weighted avg       0.94      0.93      0.93       100\n",
      "\n"
     ]
    }
   ],
   "source": [
    "print(classification_report(y_true=y, y_pred=model.predict_proba(X)[:, 1] > T))"
   ]
  },
  {
   "cell_type": "markdown",
   "metadata": {},
   "source": [
    "## Curvas de desempeño"
   ]
  },
  {
   "cell_type": "markdown",
   "metadata": {},
   "source": [
    "Podemos estudiar gráficamente como cambian estas métricas en función del umbral utilizando una curva de desempeño. Típicamente se usan\n",
    "\n",
    "- Curva ROC: TPR vs FPR\n",
    "- Curva Precision vs Recall\n",
    "\n",
    "En scikit-learn se pueden calcular con"
   ]
  },
  {
   "cell_type": "code",
   "execution_count": 4,
   "metadata": {},
   "outputs": [],
   "source": [
    "from sklearn.metrics import roc_curve\n",
    "\n",
    "fpr, tpr, th = roc_curve(y_true=y, y_score=model.predict_proba(X)[:, 1])"
   ]
  },
  {
   "cell_type": "code",
   "execution_count": 5,
   "metadata": {},
   "outputs": [
    {
     "data": {
      "text/plain": [
       "Text(0, 0.5, 'Tasa de Verdaderos Positivos (Recall)')"
      ]
     },
     "execution_count": 5,
     "metadata": {},
     "output_type": "execute_result"
    },
    {
     "data": {
      "image/png": "[encoded data removed]",
      "text/plain": [
       "<Figure size 504x288 with 1 Axes>"
      ]
     },
     "metadata": {
      "needs_background": "light"
     },
     "output_type": "display_data"
    }
   ],
   "source": [
    "%matplotlib inline\n",
    "import matplotlib.pyplot as plt\n",
    "fig, ax = plt.subplots(figsize=(7, 4))\n",
    "ax.plot(fpr, tpr, label='Modelo')\n",
    "ax.plot([0, 0, 1], [0, 1, 1], 'k-.', alpha=0.5, label='Ideal')\n",
    "ax.legend()\n",
    "idx = np.argmin((th - 0.5)**2)\n",
    "ax.scatter(fpr[idx], tpr[idx], s=100)\n",
    "ax.set_xlabel('Tasa de Falsos positivos')\n",
    "ax.set_ylabel('Tasa de Verdaderos Positivos (Recall)')"
   ]
  },
  {
   "cell_type": "code",
   "execution_count": 6,
   "metadata": {},
   "outputs": [],
   "source": [
    "from sklearn.metrics import precision_recall_curve\n",
    "\n",
    "prec, rec, th = precision_recall_curve(y_true=y, probas_pred=model.predict_proba(X)[:, 1])"
   ]
  },
  {
   "cell_type": "code",
   "execution_count": 7,
   "metadata": {},
   "outputs": [
    {
     "data": {
      "image/png": "[encoded data removed]",
      "text/plain": [
       "<Figure size 504x288 with 1 Axes>"
      ]
     },
     "metadata": {
      "needs_background": "light"
     },
     "output_type": "display_data"
    }
   ],
   "source": [
    "fig, ax = plt.subplots(figsize=(7, 4))\n",
    "ax.plot(rec, prec, '-', label='Modelo');\n",
    "ax.plot([1, 1, 0], [0, 1, 1], 'k-.', alpha=0.5, label='Ideal')\n",
    "ax.legend()\n",
    "idx = np.argmin((th - 0.5)**2)\n",
    "ax.scatter(rec[idx], prec[idx], s=100)\n",
    "ax.set_xlabel('Recall')\n",
    "ax.set_ylabel('Precision');"
   ]
  },
  {
   "cell_type": "markdown",
   "metadata": {},
   "source": [
    "## Clasificadores multi-clase"
   ]
  },
  {
   "cell_type": "code",
   "execution_count": null,
   "metadata": {},
   "outputs": [],
   "source": []
  }
 ],
 "metadata": {
  "kernelspec": {
   "display_name": "Python 3 (ipykernel)",
   "language": "python",
   "name": "python3"
  },
  "language_info": {
   "codemirror_mode": {
    "name": "ipython",
    "version": 3
   },
   "file_extension": ".py",
   "mimetype": "text/x-python",
   "name": "python",
   "nbconvert_exporter": "python",
   "pygments_lexer": "ipython3",
   "version": "3.9.12"
  }
 },
 "nbformat": 4,
 "nbformat_minor": 2
}
