{
 "cells": [
  {
   "cell_type": "markdown",
   "id": "6fe989ea",
   "metadata": {},
   "source": [
    "# Machine Learning Engineering (MLE)\n"
   ]
  },
  {
   "cell_type": "markdown",
   "id": "db854f93",
   "metadata": {},
   "source": [
    "[MLE](http://mlebook.com/) se refiere al diseño y construcción de software que incluye componentes basados en modelos de Machine Learning (ML). En este sentido, MLE se puede considerar como una extensión de la [ingeniería de software](https://es.wikipedia.org/wiki/Ingenier%C3%ADa_de_software) tradicional\n",
    "\n",
    "Hasta ahora nos hemos concentrado en presentar los aspectos más científicos de como entrenar y evaluar modelos de ML. MLE concierne no sólo el entrenamiento sino también aspectos relacionados a la colección y corrección de datos y al monitoreo y mantenimiendo de los modelos"
   ]
  },
  {
   "cell_type": "markdown",
   "id": "b1ec3206",
   "metadata": {},
   "source": [
    "## Ciclo de vida de un proyecto de ML\n",
    "\n",
    "Las tareas para desarrollar un sofware que utiliza ML pueden dividirse en\n",
    "\n",
    "1. Recolección y preparación de datos\n",
    "1. Ingeniería de *features* (atributos)\n",
    "1. Entrenamiento de modelos\n",
    "1. Evaluación de modelos\n",
    "1. Deployment de modelos\n",
    "1. Servir modelos (*on premise* o utilizando *cloud*)\n",
    "1. Monitoreo de modelos\n",
    "1. Mantenimiento de modelos\n",
    "\n",
    "Donde además se asume como \"paso 0\" la definición de uno o más objetivos, que vienen a ser los requisitos del software\n",
    "\n",
    ":::{important}\n",
    "\n",
    "El objetivo debe definir las entradas y salidas del modelo. El objetivo también debe definir el criterio o métrica con la que se medirá que tan exitoso es el modelo\n",
    "\n",
    ":::\n",
    "\n",
    ":::{note}\n",
    "\n",
    "El movimiento entre los pasos anteriores puede ser \"hacia atrás\", por ejemplo ante una mala evaluación del modelo o errores detectados en el monitoreo, podríamos retroceder a recolectar nuevos datos y reetrenar el modelo\n",
    "\n",
    ":::\n",
    "\n",
    "Los pasos 3 y 4 han sido revisados en detalle para diversos modelos (regresión logística, SVM, árboles, etc). A continuación revisaremos los demás pasos del flujo anterior. Pero antes respondamos la siguiente pregunta:\n"
   ]
  },
  {
   "cell_type": "markdown",
   "id": "7c511615",
   "metadata": {},
   "source": [
    "**¿Cuándo incorporar ML en mi software?**\n",
    "\n",
    "ML provee herramientas para aprender modelos de predicción automáticamente a partir de datos. Antes de implementar corresponde preguntar si:\n",
    "\n",
    "- El problema no puede resolverse en base a heurísticas o reglas que puedan programarse \"a mano\" (o se necesita una cantidad de reglas demasiado grande) \n",
    "- El costo (monetario o horas humanas) de obtener y etiquetar los datos necesarios no es demasiado alto\n",
    "- El problema tiene un objetivo simple y bien específicado\n",
    "- El problema puede admitir algunas respuestas erróneas (accuracy no necesita ser 100%)\n",
    "\n",
    "Si alguna de las anteriores no se cumple, deberíamos cuestionar el uso de ML en nuestro sofware \n",
    "\n",
    "Otro indicio importante es si el problema en cuestion está relacionado a percepción humana, por ejemplo reconocimiento de patrones en imágenes (visión) o sonido (audición). En esos casos ML es en general la mejor solución\n",
    "\n",
    "\n"
   ]
  },
  {
   "cell_type": "markdown",
   "id": "ef1b3dc1",
   "metadata": {},
   "source": [
    "## Recolección y preparación de datos\n",
    "\n"
   ]
  },
  {
   "cell_type": "markdown",
   "id": "6349ed1b",
   "metadata": {},
   "source": [
    "Antes de entrenar un modelo se necesitan datos. Antes de iniciar una campaña de recolección de datos que permitan cumplir el objetivo deberíamos investigar si:\n",
    "\n",
    "- hay datos existentes que pueden utilizarse \n",
    "- los datos son suficientes para todas las clases/eventos de interés\n",
    "- los datos son relativamente actuales (no están obsoletos)\n",
    "- los datos tienen calidad suficiente \n",
    "\n",
    "Los problemas típicamente encontrados en datasets de baja calidad son:\n",
    "\n",
    "- Ruido en los datos\n",
    "- Ruido en las etiquetas: Etiquetadores inconsistentes\n",
    "- Datos faltantes (*missing data*)\n",
    "- Sesgos de selección, muestreo, variables omitidas, etc\n",
    "- Presencia de *outliers*: Ejemplos muy alejados de la distribución que pueden afectar el entrenamiento\n",
    "- *data leakage*: La variable objetivo (etiqueta) está oculta en alguna de las variables\n",
    "\n",
    "Algunos de estos problemas puede resolverse mediante\n",
    "\n",
    "- Adecuado particionamiento de los datos\n",
    "- Inputación: Se refiere a rellenar datos faltantes utilizando reglas simples\n",
    "- Balanceo de clases mediante submuestreo (aleatorio o clustering), sobremuestreo (repetición) o aumentación sintética\n",
    "- Aumentación: Se refiere a crear sintéticamente nuevos datos basados en los existentes\n",
    "\n",
    "\n",
    ":::{seealso}\n",
    "\n",
    "Para trabajar con datos desbalanceados utilizando los esquemas mencionados sugiero la librería [imbalanced-learn](https://labelstud.io/)\n",
    "\n",
    ":::\n",
    "\n",
    "De lo contrario puede ser necesario recolectar datos propios o re-etiquetar los datos existentes\n",
    "\n",
    ":::{seealso}\n",
    "\n",
    "En caso de necesitar etiquetar datos de series de tiempo, texto, audio, imágenes recomiendo el software [LabelStudio](https://labelstud.io/)\n",
    "\n",
    ":::\n",
    "\n",
    "Si los datos cambian con cierta frecuencia, viven en distintos servidores y/o necesitan ser compartidos y coordinados en un equipo conviene utilizar **versionamiento**\n",
    "\n",
    "El versionamiento de datos es un concepto reciente, muy similar al versionamiento de código:\n",
    "\n",
    "- Cada cambio en nuestros datos es anotado mediante un *commit*\n",
    "- Los cambios hechos por distintas personas pueden coordinarse de forma centralizada\n",
    "- Se puede revisar fácilmente la historia de cambios y retroceder a un cambio anterior si es necesario\n",
    "\n",
    ":::{seealso}\n",
    "\n",
    "Para realizar versionanamiento de datos sugiero la [Data Version Control](https://dvc.org/) (DVC), la cual está basada en git\n",
    "\n",
    ":::"
   ]
  },
  {
   "cell_type": "markdown",
   "id": "713f0b06",
   "metadata": {},
   "source": [
    "## Ingeniería de *features* (atributos)\n",
    "\n"
   ]
  },
  {
   "cell_type": "markdown",
   "id": "1f62f38b",
   "metadata": {},
   "source": [
    "Pendiente"
   ]
  },
  {
   "cell_type": "markdown",
   "id": "5cfb7664",
   "metadata": {},
   "source": [
    "## Herramientas de MLOps\n",
    "\n",
    "Un concepto que se utiliza bastante hoy en día es [Machine Learning Operations](https://docs.microsoft.com/es-es/azure/machine-learning/concept-model-management-and-deployment) (MLOPs). MLOps se refiere a la implementación de prácticas de Development Operations (DevOps) en problemas de Machine Learning, entre ellas\n",
    "\n",
    "- Integración y Entrega continuas (CI/CD)\n",
    "- Flujos automáticos de trabajo (workflows)\n",
    "- Control de versiones (códigos, datos y modelos)\n",
    "- Empaquetado de soluciones\n",
    "- Orquestación de carga\n",
    "\n",
    "MLOps está relacionado a los últimos 4 pasos del esquema MLE"
   ]
  }
 ],
 "metadata": {
  "kernelspec": {
   "display_name": "Python 3 (ipykernel)",
   "language": "python",
   "name": "python3"
  },
  "language_info": {
   "codemirror_mode": {
    "name": "ipython",
    "version": 3
   },
   "file_extension": ".py",
   "mimetype": "text/x-python",
   "name": "python",
   "nbconvert_exporter": "python",
   "pygments_lexer": "ipython3",
   "version": "3.9.12"
  }
 },
 "nbformat": 4,
 "nbformat_minor": 5
}
