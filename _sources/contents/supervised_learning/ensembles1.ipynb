{
 "cells": [
  {
   "cell_type": "markdown",
   "metadata": {},
   "source": [
    "# Ensambles paralelos"
   ]
  },
  {
   "cell_type": "markdown",
   "metadata": {},
   "source": [
    "Los métodos de ensambles paralelos entrenan estimadores (clasificador o regresor) débiles de forma independiente y luego combinan sus resultados\n",
    "\n",
    "Estimador débil\n",
    ": Algoritmo que produce un resultado (al menos) levemente mejor que el azar \n",
    "\n",
    "Estimador fuerte\n",
    ": Algoritmo que produce un resultado correcto en la mayoría de los ejemplos\n",
    "\n",
    "Nos enfocaremos principalmente en el caso de clasificación\n",
    "\n",
    ":::{important}\n",
    "\n",
    "El supuesto principal de los ensambles paralelos es que los clasificadores débiles tienen error de generalización independiente (de lo contrario no habría ganancia al combinarlos)\n",
    "\n",
    ":::\n",
    "\n",
    "Si definimos el error de generalización de un clasificador débil como\n",
    "\n",
    "$$\n",
    "\\epsilon_t = P(h_t(x) \\neq y)\n",
    "$$\n",
    "\n",
    "y asumiendo un clasificador binario fuerte con\n",
    "\n",
    "$$\n",
    "H(x) = \\text{signo} \\left( \\sum_{t=1}^T h_t(x) \\right)\n",
    "$$\n",
    "\n",
    "(voto por mayoría), entonces se puede mostrar que\n",
    "\n",
    "$$\n",
    "P(H(x) \\neq y) = \\sum_{k=0}^{T/2} \\binom{T}{k} (1-\\epsilon)^k \\epsilon^{T-k} \\leq \\exp \\left( -\\frac{1}{2} T(2\\epsilon -1)^2 \\right)\n",
    "$$\n",
    "\n",
    ":::{note}\n",
    "\n",
    "Si los errores de generalización son independientes, el error del clasificador fuerte se reduce exponencialmente con la cantidad de clasificadores débiles\n",
    "\n",
    ":::\n",
    "\n",
    ":::{warning}\n",
    "\n",
    "En la práctica no es posible tener clasificadores independientes si están entrenados con el mismo conjunto de datos\n",
    "\n",
    ":::\n",
    "\n",
    "A continuación veremos una técnica que busca solucionar este problema"
   ]
  },
  {
   "cell_type": "markdown",
   "metadata": {},
   "source": [
    "## Bagging: Bootstrap Aggregating\n",
    "\n",
    "*Bootstrap* es una técnica estadística para obtener intervalos de confianza empíricos que se basa en obtener muestras distintas pero representativas del conjunto de datos original\n",
    "\n",
    "La técnica más clásica y simple para lograr lo anterior es **muestreo con reemplazo** y se ilustra en la siguiente figura\n",
    "\n",
    "<img src=\"img/bootstrap.png\" width=\"700\">\n",
    "\n",
    "El conjunto de datos original (izquierda) se remuestrea $T$ veces. En cada muestra se escogen aleatoriamente tantos ejemplos como existían en el conjunto original. Sin embargo algunos ejemplos no se escogen, mientras que otros se escogen más de una vez (reemplazo)\n",
    "\n",
    "\n",
    "El algoritmo de [Bagging](https://link.springer.com/article/10.1007/BF00058655) consiste en\n",
    "\n",
    "1. Generar $T$ conjuntos de datos utilizando muestreo con reemplazo\n",
    "1. Entrenar un clasificador débil en cada conjunto\n",
    "1. Combinar los clasificadores débiles con:\n",
    "\n",
    "$$\n",
    "H(x) = \\text{arg} \\max_{y \\in \\mathcal{Y}} \\sum_{t=1}^T \\mathbb{1} (h_t(x) = y)\n",
    "$$\n",
    "\n",
    "donde $\\mathbb{1}(\\cdot)$ es la función indicadora, que es 1 si su argumento es cierto y 0 en el caso contrario\n",
    "\n",
    "Lo anterior se conoce como \"voto por mayoría\", ya que se escoge la etiqueta que fue mayormente seleccionada por los clasificadores débiles\n",
    "\n",
    ":::{note}\n",
    "\n",
    "El procedimiento anterior es amigable con arquitecturas computacionales de múltiples procesadores pues cada entrenamiento es independiente de los demás\n",
    "\n",
    ":::"
   ]
  },
  {
   "cell_type": "markdown",
   "metadata": {},
   "source": [
    "**Ejemplos oob**\n",
    "\n",
    "Cuando se utiliza muestreo con reemplazo la probabilidad de que el ejemplo $i$ sea incluido al menos una vez es 0.632 (se distribuye Poisson con $\\lambda=1$)\n",
    "\n",
    "Por lo tanto, por cada clasificador, hay un $36.8 \\%$ de ejemplos que no se ocupan. Estos ejemplos se denominan *out-of-bag* (oob)\n",
    "\n",
    ":::{note}\n",
    "\n",
    "Una ventaja de bagging es que podemos utilizar los ejemplos oob de cada clasificador débil para medir el error de generalización\n",
    "\n",
    ":::\n",
    "\n",
    "**Clasificador inestable**\n",
    "\n",
    "Existe un traslape considerable entre los conjuntos remuestreados ($63.2 \\%$)\n",
    "\n",
    "Clasificador estable\n",
    ": Se refiere a un clasificador que es insensible a perturbaciones en el dataset\n",
    "\n",
    "En el caso de bagging, si los clasificadores débiles son estables, entonces su resultado será muy similar y por ende no habrá ganancia al construir un ensamble\n",
    "\n",
    ":::{important}\n",
    "\n",
    "Bagging es una técnica que promedia clasificadores débiles, es decir reduce varianza. Por ende funcionará mejor con clasificadores débiles de bajo sesgos (error) pero alta varianza\n",
    "\n",
    ":::\n",
    "\n",
    "\n",
    ":::{note}\n",
    "\n",
    "En el caso de los árboles de decisión, mientras más profundo sea mayor inestabilidad se tiene. Adicionalmente, si los árboles no se podan son más inestables\n",
    "\n",
    ":::"
   ]
  },
  {
   "cell_type": "markdown",
   "metadata": {},
   "source": [
    "## Random Forest\n",
    "\n",
    "En bagging se realiza muestreo con reemplazo de los datos. [Random Forest](https://link.springer.com/article/10.1023/A:1010933404324) (RF) extiende esta idea realizando submuestreo de los atributos (features/características)\n",
    "\n",
    "En particular, cada split de cada clasificador débil (árbol) tiene acceso a un subconjunto aleatorio $M$ de los atributos originales. De esta forma se obtienen clasificadores débiles menos correlacionados (más independientes) y además más rápidos de entrenar\n",
    "\n",
    ":::{note}\n",
    "\n",
    "La cantidad máxima de atributos por split es un hiperparámetro. Típicamente se utiliza la raiz cuadrada del total de atributos\n",
    "\n",
    ":::"
   ]
  },
  {
   "cell_type": "markdown",
   "metadata": {},
   "source": [
    "## Implementación en scikit-learn\n",
    "\n",
    "El módulo [`ensemble`](https://scikit-learn.org/stable/modules/classes.html#module-sklearn.ensemble) de scikit-learn tiene implementaciones de *RandomForest* para problemas de clasificación y regresión. Nos enfocaremos en el primero\n",
    "\n",
    "Los principales argumentos de [`RandomForestClassifier`](https://scikit-learn.org/stable/modules/generated/sklearn.ensemble.RandomForestClassifier.html) son\n",
    "\n",
    "- `n_estimators`: Cantidad de clasificadores débiles (árboles)\n",
    "- `max_features`: Cantidad máxima de atributos por split\n",
    "- `bootstrap`: Booleano que indica si se realiza muestreo con reeplazo de los datos (por defecto `True`)\n",
    "- `n_jobs`: Número de nucleos de CPU\n",
    "- `class_weight`: Permite ponderar la importancia de las clases (útil para desbalance moderado)\n",
    "\n",
    "También recibe argumentos relacionados a los clasificadores débiles (árboles), entre ellos:\n",
    "\n",
    "- `criterion`:  Criterio para realizar la separación (split), `'entropy'` o `'gini'`\n",
    "- `max_depth`: Profundidad máxima de los árboles\n",
    "- `min_samples_split`: Número mínimo de muestras para permitir un `split`\n",
    "\n"
   ]
  },
  {
   "cell_type": "markdown",
   "metadata": {},
   "source": [
    "Entrenemos un Random Forest para clasificar el dataset de vinos:"
   ]
  },
  {
   "cell_type": "code",
   "execution_count": 1,
   "metadata": {},
   "outputs": [],
   "source": [
    "import numpy as np\n",
    "from sklearn.datasets import load_wine\n",
    "from sklearn.model_selection import train_test_split\n",
    "\n",
    "data_struct = load_wine()\n",
    "X = data_struct.data\n",
    "y = data_struct.target\n",
    "X_names = data_struct.feature_names\n",
    "\n",
    "np.random.seed(0)\n",
    "X_train, X_test, y_train, y_test = train_test_split(X, y, train_size=0.7, test_size=0.3)"
   ]
  },
  {
   "cell_type": "code",
   "execution_count": 2,
   "metadata": {},
   "outputs": [
    {
     "data": {
      "text/plain": [
       "GridSearchCV(cv=3, estimator=RandomForestClassifier(n_jobs=4),\n",
       "             param_grid={'criterion': ('entropy', 'gini'),\n",
       "                         'max_depth': [1, 5, 10, 20, None],\n",
       "                         'max_features': ['sqrt', 5, 10],\n",
       "                         'n_estimators': [1, 10, 20, 50, 100]})"
      ]
     },
     "execution_count": 2,
     "metadata": {},
     "output_type": "execute_result"
    }
   ],
   "source": [
    "from sklearn.model_selection import GridSearchCV\n",
    "from sklearn.ensemble import RandomForestClassifier\n",
    "\n",
    "params = {'criterion':('entropy', 'gini'),\n",
    "          'max_depth':[1, 5, 10, 20, None],\n",
    "          'n_estimators': [1, 10, 20, 50, 100],\n",
    "          'max_features': ['sqrt', 5, 10]}\n",
    "\n",
    "model = RandomForestClassifier(n_jobs=4)\n",
    "validator = GridSearchCV(model, params, cv=3, refit=True)\n",
    "validator.fit(X_train, y_train)"
   ]
  },
  {
   "cell_type": "markdown",
   "metadata": {},
   "source": [
    "Los mejores modelos de acuerdo a la validación cruzada son:"
   ]
  },
  {
   "cell_type": "code",
   "execution_count": 3,
   "metadata": {},
   "outputs": [
    {
     "data": {
      "text/html": [
       "<div>\n",
       "<style scoped>\n",
       "    .dataframe tbody tr th:only-of-type {\n",
       "        vertical-align: middle;\n",
       "    }\n",
       "\n",
       "    .dataframe tbody tr th {\n",
       "        vertical-align: top;\n",
       "    }\n",
       "\n",
       "    .dataframe thead th {\n",
       "        text-align: right;\n",
       "    }\n",
       "</style>\n",
       "<table border=\"1\" class=\"dataframe\">\n",
       "  <thead>\n",
       "    <tr style=\"text-align: right;\">\n",
       "      <th></th>\n",
       "      <th>param_criterion</th>\n",
       "      <th>param_max_depth</th>\n",
       "      <th>param_n_estimators</th>\n",
       "      <th>param_max_features</th>\n",
       "      <th>mean_test_score</th>\n",
       "      <th>std_test_score</th>\n",
       "      <th>rank_test_score</th>\n",
       "    </tr>\n",
       "  </thead>\n",
       "  <tbody>\n",
       "    <tr>\n",
       "      <th>136</th>\n",
       "      <td>gini</td>\n",
       "      <td>None</td>\n",
       "      <td>10</td>\n",
       "      <td>sqrt</td>\n",
       "      <td>0.976190</td>\n",
       "      <td>0.033672</td>\n",
       "      <td>1</td>\n",
       "    </tr>\n",
       "    <tr>\n",
       "      <th>122</th>\n",
       "      <td>gini</td>\n",
       "      <td>20</td>\n",
       "      <td>20</td>\n",
       "      <td>sqrt</td>\n",
       "      <td>0.976190</td>\n",
       "      <td>0.033672</td>\n",
       "      <td>1</td>\n",
       "    </tr>\n",
       "    <tr>\n",
       "      <th>63</th>\n",
       "      <td>entropy</td>\n",
       "      <td>None</td>\n",
       "      <td>50</td>\n",
       "      <td>sqrt</td>\n",
       "      <td>0.975997</td>\n",
       "      <td>0.019442</td>\n",
       "      <td>3</td>\n",
       "    </tr>\n",
       "    <tr>\n",
       "      <th>124</th>\n",
       "      <td>gini</td>\n",
       "      <td>20</td>\n",
       "      <td>100</td>\n",
       "      <td>sqrt</td>\n",
       "      <td>0.975997</td>\n",
       "      <td>0.019442</td>\n",
       "      <td>3</td>\n",
       "    </tr>\n",
       "    <tr>\n",
       "      <th>127</th>\n",
       "      <td>gini</td>\n",
       "      <td>20</td>\n",
       "      <td>20</td>\n",
       "      <td>5</td>\n",
       "      <td>0.975997</td>\n",
       "      <td>0.019442</td>\n",
       "      <td>3</td>\n",
       "    </tr>\n",
       "  </tbody>\n",
       "</table>\n",
       "</div>"
      ],
      "text/plain": [
       "    param_criterion param_max_depth param_n_estimators param_max_features  \\\n",
       "136            gini            None                 10               sqrt   \n",
       "122            gini              20                 20               sqrt   \n",
       "63          entropy            None                 50               sqrt   \n",
       "124            gini              20                100               sqrt   \n",
       "127            gini              20                 20                  5   \n",
       "\n",
       "     mean_test_score  std_test_score  rank_test_score  \n",
       "136         0.976190        0.033672                1  \n",
       "122         0.976190        0.033672                1  \n",
       "63          0.975997        0.019442                3  \n",
       "124         0.975997        0.019442                3  \n",
       "127         0.975997        0.019442                3  "
      ]
     },
     "execution_count": 3,
     "metadata": {},
     "output_type": "execute_result"
    }
   ],
   "source": [
    "import pandas as pd\n",
    "\n",
    "columns = [\"param_criterion\", \"param_max_depth\", \"param_n_estimators\", \"param_max_features\",\n",
    "           \"mean_test_score\", \"std_test_score\", \"rank_test_score\"]\n",
    "pd.DataFrame(validator.cv_results_)[columns].sort_values(by=\"rank_test_score\").head(5)"
   ]
  },
  {
   "cell_type": "markdown",
   "metadata": {},
   "source": [
    "El mejor Random Forest es:"
   ]
  },
  {
   "cell_type": "code",
   "execution_count": 4,
   "metadata": {},
   "outputs": [
    {
     "data": {
      "text/plain": [
       "{'criterion': 'gini',\n",
       " 'max_depth': 20,\n",
       " 'max_features': 'sqrt',\n",
       " 'n_estimators': 20}"
      ]
     },
     "execution_count": 4,
     "metadata": {},
     "output_type": "execute_result"
    }
   ],
   "source": [
    "validator.best_params_"
   ]
  },
  {
   "cell_type": "markdown",
   "metadata": {},
   "source": [
    ":::{note}\n",
    "\n",
    "Random Forest prefiere árboles más profundos. Los árboles profundos tienen con bajo sesgo y alta varianza\n",
    "\n",
    ":::\n",
    "\n",
    "El resultado en el conjunto de test es:"
   ]
  },
  {
   "cell_type": "code",
   "execution_count": 5,
   "metadata": {},
   "outputs": [
    {
     "name": "stdout",
     "output_type": "stream",
     "text": [
      "              precision    recall  f1-score   support\n",
      "\n",
      "           0       0.95      0.95      0.95        19\n",
      "           1       0.95      0.91      0.93        22\n",
      "           2       0.93      1.00      0.96        13\n",
      "\n",
      "    accuracy                           0.94        54\n",
      "   macro avg       0.94      0.95      0.95        54\n",
      "weighted avg       0.94      0.94      0.94        54\n",
      "\n"
     ]
    }
   ],
   "source": [
    "from sklearn.metrics import classification_report\n",
    "\n",
    "best_rf =  validator.best_estimator_\n",
    "print(classification_report(y_test, best_rf.predict(X_test)))"
   ]
  },
  {
   "cell_type": "code",
   "execution_count": 6,
   "metadata": {},
   "outputs": [
    {
     "data": {
      "image/png": "[encoded data removed]",
      "text/plain": [
       "<Figure size 720x288 with 4 Axes>"
      ]
     },
     "metadata": {
      "needs_background": "light"
     },
     "output_type": "display_data"
    }
   ],
   "source": [
    "%matplotlib inline\n",
    "import matplotlib.pyplot as plt\n",
    "from sklearn.metrics import ConfusionMatrixDisplay\n",
    "\n",
    "fig, ax = plt.subplots(1, 2, figsize=(10, 4), tight_layout=True)\n",
    "\n",
    "ConfusionMatrixDisplay.from_predictions(y_test, validator.predict(X_test), normalize=None,\n",
    "                                        ax=ax[0], cmap='Blues', colorbar=True);\n",
    "\n",
    "ConfusionMatrixDisplay.from_predictions(y_test, validator.predict(X_test), normalize='true',\n",
    "                                        ax=ax[1], cmap='Blues', colorbar=True);"
   ]
  },
  {
   "cell_type": "markdown",
   "metadata": {},
   "source": [
    "## Selección de características embebida\n",
    "\n",
    "En cada split de cada árbol se obtiene una ganancia de información para el atributo seleccionado. Luego, para un atributo en particular, se puede obtener su ganancia de información promedio. \n",
    "\n",
    ":::{note}\n",
    "\n",
    "Un atributo que es más relevante (permite clasificar mejor), será escogido por una mayor cantidad de splits y por ende tendrá ganancia de información promedio mayor\n",
    "\n",
    ":::\n",
    "\n",
    "Se puede utilizar la ganancia de información promedio para hacer selección de características, sin embargo existe una limitación importante: El RF no detecta correlaciones entre atributos\n",
    "\n",
    ":::{warning}\n",
    "\n",
    "Si dos atributos están altamente correlacionados el RF no preferirá ninguna de ellas y la ganancia de información promedio de ambos será baja\n",
    "\n",
    ":::\n",
    "\n",
    "Para el ejemplo anterior se tiene:"
   ]
  },
  {
   "cell_type": "code",
   "execution_count": 7,
   "metadata": {},
   "outputs": [
    {
     "data": {
      "image/png": "[encoded data removed]",
      "text/plain": [
       "<Figure size 432x432 with 1 Axes>"
      ]
     },
     "metadata": {
      "needs_background": "light"
     },
     "output_type": "display_data"
    }
   ],
   "source": [
    "idx_sort = np.argsort(best_rf.feature_importances_)\n",
    "\n",
    "fig, ax = plt.subplots(figsize=(6, 6), tight_layout=True)\n",
    "ax.barh(np.array(X_names)[idx_sort], best_rf.feature_importances_[idx_sort], align='center')\n",
    "ax.set_xlabel('Ganancia de información\\npromedio (importancia)');"
   ]
  },
  {
   "cell_type": "code",
   "execution_count": null,
   "metadata": {},
   "outputs": [],
   "source": []
  }
 ],
 "metadata": {
  "kernelspec": {
   "display_name": "Python 3 (ipykernel)",
   "language": "python",
   "name": "python3"
  },
  "language_info": {
   "codemirror_mode": {
    "name": "ipython",
    "version": 3
   },
   "file_extension": ".py",
   "mimetype": "text/x-python",
   "name": "python",
   "nbconvert_exporter": "python",
   "pygments_lexer": "ipython3",
   "version": "3.9.12"
  }
 },
 "nbformat": 4,
 "nbformat_minor": 2
}
