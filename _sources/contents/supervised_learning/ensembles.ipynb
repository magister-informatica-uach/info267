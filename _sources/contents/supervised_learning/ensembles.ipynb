{
 "cells": [
  {
   "cell_type": "markdown",
   "metadata": {},
   "source": [
    "# Métodos de ensamble"
   ]
  },
  {
   "cell_type": "code",
   "execution_count": 1,
   "metadata": {},
   "outputs": [
    {
     "name": "stdout",
     "output_type": "stream",
     "text": [
      "1.0.2\n"
     ]
    }
   ],
   "source": [
    "import sklearn\n",
    "print(sklearn.__version__)"
   ]
  },
  {
   "cell_type": "markdown",
   "metadata": {},
   "source": [
    "## Ensambles secuenciales: Boosting\n",
    "\n",
    "Boosting es una familia de algoritmos que buscan combinar estimadores (clasificadores o regresores) débiles de forma secuencial (cadena) para construir un estimador fuerte\n",
    "\n",
    "Estimador débil\n",
    ": Algoritmo que produce un resultado (al menos) levemente mejor que el azar \n",
    "\n",
    "Estimador fuerte\n",
    ": Algoritmo que produce un resultado correcto en la mayoría de los ejemplos\n",
    "\n",
    ":::{epigraph}\n",
    "\n",
    "Cualquier estimador débil puede ser mejorado (*boosted*) a un estimador fuerte\n",
    "\n",
    "-- [Robert Shapire](https://link.springer.com/article/10.1007/BF00116037)\n",
    "\n",
    ":::\n",
    "\n"
   ]
  },
  {
   "cell_type": "markdown",
   "metadata": {},
   "source": [
    "El procedimiento general de un algoritmo de tipo boosting es:\n",
    "\n",
    "1. Entrenar un estimador débil con toda la distribución de datos\n",
    "1. Crear una nueva distribución que le da más peso a los errores del clasificador débil anterior\n",
    "1. Entrenar otro estimador débil en la nueva distribución\n",
    "1. Combinar los estimadores débiles y volver a 2\n",
    "\n",
    "Estos pasos se muestran esquemáticamente en la siguiente figura para el caso particular de clasificación:\n",
    "\n",
    "<img src=\"img/boosting.png\" width=\"700\">\n",
    "\n",
    ":::{important}\n",
    "\n",
    "El clasificador $H_2$ se encarga de corregir los errores de $H_1$. La combinación de $H_1$ y $H_2$ es el clasificador fuerte\n",
    "\n",
    ":::\n"
   ]
  },
  {
   "cell_type": "markdown",
   "metadata": {},
   "source": [
    "Matemáticamente:\n",
    "\n",
    ":::{prf:algorithm} Algoritmo general de Boosting\n",
    "\n",
    "**Entradas** Un conjunto de datos $\\mathcal{D}$ y un número máximo de estimadores $T$\n",
    "\n",
    "1. Definir conjunto inicial $D_{1} = D$\n",
    "1. Para $t = 1, \\ldots, T$:\n",
    "    1. Entrenar un estimador débil sobre $D_t$\n",
    "    1. Evaluar el error del estimador débil\n",
    "    1. Ponderar los ejemplos en base al error para crear $D_{t+1}$\n",
    "1. Combinar las salidas de los estimadores débiles \n",
    "\n",
    ":::\n",
    "\n",
    "En esta lección utilizaremos árboles de decisión como estimador débil. Esto define los pasos de entrenamiento y evaluación del algoritmo anterior. Sólo resta definir como\n",
    "\n",
    "- Crear $D_{t+1}$\n",
    "- Combinar los estimadores débiles\n",
    "\n",
    "A continuación veremos como definen estos puntos dos algoritmos particulares de Boosting"
   ]
  },
  {
   "cell_type": "markdown",
   "metadata": {},
   "source": [
    "### Adaptive Boosting (Adaboost)\n",
    "\n",
    "[Adaboost](https://www.sciencedirect.com/science/article/pii/S002200009791504X) es un algoritmo diseñado para clasificación binaria $\\{-1,1\\}$ donde los clasificadores débiles se combinan linealmente como\n",
    "\n",
    "$$\n",
    "H_T(x) = \\sum_{t=1}^T \\alpha_t h_t(x)\n",
    "$$\n",
    "\n",
    "donde la clase predicha se obtiene aplicando la función signo sobre $H_T(x)$\n",
    "\n",
    "El ensamble se entrena minimizando la función de pérdida exponencial\n",
    "\n",
    "$$\n",
    "\\begin{split}\n",
    "\\mathcal{L}(H_T) &= \\sum_{i=1}^N \\exp \\left (-y_i H_T(x_i) \\right) \\\\\n",
    "&= \\sum_{i=1}^N \\exp \\left (-y_i H_{T-1}(x_i) -y_i \\alpha_T h_T(x_i)\\right) \\\\\n",
    "&= \\sum_{i=1}^N w_i^{(T)}\\exp \\left (-y_i \\alpha_T h_T(x_i)\\right) \n",
    "\\end{split}\n",
    "$$\n",
    "\n",
    ":::{note}\n",
    "\n",
    "Para entrenar el último clasificador de la secuencia $h_T$ podemos asumir $w_i^{(T)}$ constante\n",
    "\n",
    ":::\n",
    "\n",
    "Dividiendo la función de costo en los casos bien y mal clasificados\n",
    "\n",
    "$$\n",
    "\\begin{split}\n",
    "\\mathcal{L}(H_T) &= \\sum_{i=1}^N w_i^{(T)}\\exp \\left (-y_i \\alpha_T h_T(x_i)\\right) \\\\\n",
    "&= \\sum_{h(x_i)y_i = 1} e^{-\\alpha_T} w_i^{(T)} + \\sum_{h(x_i)y_i \\neq 1} e^{\\alpha_T} w_i^{(T)} \n",
    "\\end{split}\n",
    "$$\n",
    "\n",
    "Derivando en función de $\\alpha$ se tiene\n",
    "\n",
    "$$\n",
    "\\alpha_t = \\frac{1}{2} \\log \\left(\\frac{1-\\epsilon_t}{\\epsilon_t} \\right),\n",
    "$$\n",
    "\n",
    "donde\n",
    "\n",
    "$$\n",
    "\\epsilon_t = \\frac{\\sum_{i=1}^N w_i^{(T)} \\mathbb{1}(h_t(x_i)\\neq y_i)}{\\sum_{i=1}^N w_i^{(T)}}\n",
    "$$\n",
    "\n",
    "donde $\\mathbb{1}()$ es la función indicadora que es 1 si su argumento es cierto o 0 en caso contrario."
   ]
  },
  {
   "cell_type": "markdown",
   "metadata": {},
   "source": [
    "Con esto tenemos\n",
    "\n",
    ":::{prf:algorithm} Algoritmo Adaptive Boosting\n",
    "\n",
    "**Entradas** Un conjunto de datos $\\mathcal{D}$ y un número máximo de estimadores $T$\n",
    "\n",
    "1. Inicializar los pesos $w_i^{(1)} = 1/N$\n",
    "1. Para $t = 1, \\ldots, T$:\n",
    "    1. Entrenar un estimador débil $h_t$ sobre los datos ponderados por $w_i^{(t)}$\n",
    "    1. Calcular $\\alpha_t$\n",
    "    1. Actualizar los pesos $w_i^{(t+1)} = w_i^{(t)} \\exp (2 \\alpha_t \\mathbb{1}(h_t(x_i) \\neq y_i))$\n",
    "    \n",
    ":::\n",
    "\n",
    "El clasificador fuerte está totalmente definido por los clasificadores débiles $h_t$ y los ponderadores $\\alpha_t$\n",
    "\n",
    ":::{note}\n",
    "\n",
    "Los pesos de los datos se actualizan con los errores del último clasificador\n",
    "\n",
    ":::\n",
    "\n",
    ":::{important}\n",
    "\n",
    "Los ensambles de tipo boosting reducen progresivamente el sesgo (error) agregando secuencialmente clasificadores débiles\n",
    "\n",
    ":::"
   ]
  },
  {
   "cell_type": "markdown",
   "metadata": {},
   "source": [
    "### Gradient Boosting\n",
    "\n",
    "El algoritmo de [gradient boosting](https://projecteuclid.org/journals/annals-of-statistics/volume-29/issue-5/Greedy-function-approximation-A-gradient-boostingmachine/10.1214/aos/1013203451.full) combina el método de gradiente descendente con el algoritmo general de boosting. Es capaz de hacer tanto clasificación como regresión y puede usar cualquier función de pérdida que sea derivable\n",
    "\n",
    "Sea una función de costo sobre un dataset $(x_i, y_i)_{i=1,\\ldots,N}$\n",
    "\n",
    "$$\n",
    "\\min \\sum_{i=1}^N L(y_i, H_T(x_i)),\n",
    "$$\n",
    "\n",
    "donde $H_T$ es el estimador fuerte\n",
    "\n",
    "Por ejemplo, en un problema de regresión, este se define como\n",
    "\n",
    "$$\n",
    "H_T(x_i) = \\sum_{t=1}^T h_t(x_i),\n",
    "$$\n",
    "\n",
    "es decir una suma de \"regresores\" débiles"
   ]
  },
  {
   "cell_type": "markdown",
   "metadata": {},
   "source": [
    "En un problema de regresión se utiliza típicamente el error cuadrático medio como función de costo\n",
    "\n",
    "$$\n",
    "L(H_T(x_i), y_i) = \\frac{1}{2} \\left(y_i - H_T(x_i) \\right)^2\n",
    "$$\n",
    "\n",
    "Supongamos que tenemos $H_3 = h_1 + h_2 + h_3$ y deseamos agregar un nuevo estimador tal que\n",
    "\n",
    "$$\n",
    "H_4 = H_3 + h_4\n",
    "$$\n",
    "\n",
    ":::{note}\n",
    "\n",
    "Los estimadores se agregan de uno por uno de forma *greedy* \n",
    "\n",
    ":::\n",
    "\n",
    "Agregar el nuevo estimador debería acercar al estimador fuerte a la etiqueta es decir \n",
    "\n",
    "$$\n",
    "H_3 + h_4 \\approx y\n",
    "$$\n",
    "\n",
    "Para lograr esto el nuevo estimador $h_4$ se entrena **minimizando el residuo** $y-H_3$\n",
    "\n",
    "$$\n",
    "h_4 = \\text{arg} \\min_{h} \\sum_{i=1}^N L(h(x_i), y_i - H_3(x_i))\n",
    "$$\n",
    "\n",
    "Donde el residuo está relacionado a \n",
    "\n",
    "$$\n",
    "\\frac{dL(H_3(x_i), y_i)}{dH_3(x_i)} = H_3(x_i) - y_i\n",
    "$$\n",
    "\n",
    ":::{note}\n",
    "\n",
    "Si utilizamos el error cuadrático, entonces los residuos son equivalentes al negativo del gradiente, esta es la razón del nombre del algoritmo\n",
    "\n",
    ":::\n",
    "\n",
    "Para reducir el sobreajuste del ensamble (regularización) se agrega tipicamente\n",
    "\n",
    "$$\n",
    "H_{t+1} = H_t + \\nu h_t\n",
    "$$\n",
    "\n",
    "una constate $\\nu$ denominada tasa de aprendizaje. Esto disminuye la contribución de cada estimador débil (enlentece el entrenamiento)\n",
    "\n",
    ":::{note}\n",
    "\n",
    "En general una tasa de aprendizaje pequeña requerirá una mayor cantidad de clasificadores débiles. La ventaja de una tasa pequeña es que está relacionada a menores errores en el conjunto de test \n",
    "\n",
    ":::\n",
    "\n",
    "Para problemas de clasificación con $K$ clases se suele utilizar la siguiente función de costo, llamada generalmente *logarithmic loss* o *log loss*\n",
    "\n",
    "$$\n",
    "L(y_i, x_i) = \\sum_{k=1}^K y_{ik} \\log p_k (x_i)\n",
    "$$\n",
    "\n",
    "donde $y_i$ es un vector de largo K de tipo *one-hot* y $H(x)$ retorna también un vector de largo $K$ que se normaliza como\n",
    "\n",
    "$$\n",
    "p_k(x) = \\frac{e^{H^{(k)}(x)}}{ \\sum_{k=1}^K e^{H^{(k)}(x)} }\n",
    "$$\n",
    "\n",
    "tal que cada componente este en el rango $[0,1]$ y que además los $K$ sumen uno"
   ]
  },
  {
   "cell_type": "markdown",
   "metadata": {},
   "source": [
    "### Implementación en `scikit-learn`\n",
    "\n",
    "El módulo [`ensemble`](https://scikit-learn.org/stable/modules/classes.html#module-sklearn.ensemble) de scikit-learn tiene implementaciones de *Gradient Boosting* para problemas de clasificación y regresión. Nos enfocaremos en la primera\n",
    "\n",
    "Los principales argumentos de [`GradientBoostingClassifier`](https://scikit-learn.org/stable/modules/generated/sklearn.ensemble.GradientBoostingClassifier.html) son\n",
    "\n",
    "- `loss`: La función de costo. Las opciones son `'log_loss'/'deviance'` (dependiendo de su versión de scikit-learn) o `'exponential'`\n",
    "- `n_estimators:` Cantidad de clasificadores débiles\n",
    "- `learning_rate`: Tasa de aprendizaje (no-negativo)\n",
    "- `subsample`: Booleano que indica si cada clasificador débil utiliza el dataset completo o una submuestra\n",
    "\n",
    "\n",
    ":::{note}\n",
    "\n",
    "Si se utiliza `loss='exponential'` el algoritmo se vuelve equivalent a *AdaBoost* (sólo para clasificación binaria)\n",
    "\n",
    ":::\n",
    "\n",
    "También recibe argumentos relacionados a los clasificadores débiles (árboles), entre ellos:\n",
    "\n",
    "- `max_depth`: Profundidad máxima de los árboles\n",
    "- `min_samples_split`: Número mínimo de muestras para permitir un `split`\n",
    "\n",
    "El objeto tiene implementados los métodos usuales `fit`, `predict`, `predict_proba` y `decision_function`\n",
    "\n",
    "Adicionalmente cuenta con `staged_predict`, `staged_predict_proba` y `staged_decision_function`, que retornan las predicciones de los clasificadores débiles individuales\n"
   ]
  },
  {
   "cell_type": "markdown",
   "metadata": {},
   "source": [
    "**Ejemplo** Entrenamiento de ensamble gradient boosting para clasificación de vino\n",
    "\n",
    "A continuación utilizaremos [`wine`](https://archive.ics.uci.edu/ml/datasets/wine), una base de datos con 13 atributos numéricos y 3 clases asociadas a vinos de distinto origen. Los atributos representan propiedades químicas de los vinos"
   ]
  },
  {
   "cell_type": "code",
   "execution_count": 2,
   "metadata": {},
   "outputs": [],
   "source": [
    "import numpy as np\n",
    "from sklearn.datasets import load_wine\n",
    "from sklearn.model_selection import train_test_split\n",
    "\n",
    "data_struct = load_wine()\n",
    "X = data_struct.data\n",
    "y = data_struct.target\n",
    "X_names = data_struct.feature_names\n",
    "\n",
    "np.random.seed(0)\n",
    "X_train, X_test, y_train, y_test = train_test_split(X, y, train_size=0.7, test_size=0.3)"
   ]
  },
  {
   "cell_type": "markdown",
   "metadata": {},
   "source": [
    "Se realiza una validación cruzada buscando los mejores hiperparámetros del modelo:"
   ]
  },
  {
   "cell_type": "code",
   "execution_count": 3,
   "metadata": {},
   "outputs": [
    {
     "data": {
      "text/plain": [
       "GridSearchCV(cv=3, estimator=GradientBoostingClassifier(),\n",
       "             param_grid={'learning_rate': [0.1, 0.2, 0.5],\n",
       "                         'max_depth': [1, 5, 10, 20],\n",
       "                         'n_estimators': [1, 10, 20, 50, 100]})"
      ]
     },
     "execution_count": 3,
     "metadata": {},
     "output_type": "execute_result"
    }
   ],
   "source": [
    "from sklearn.ensemble import GradientBoostingClassifier\n",
    "from sklearn.model_selection import GridSearchCV\n",
    "\n",
    "params = {'learning_rate': [0.1, 0.2, 0.5], \n",
    "          'max_depth': [1, 5, 10, 20],\n",
    "          'n_estimators': [1, 10, 20, 50, 100]}\n",
    "\n",
    "model = GradientBoostingClassifier(loss='deviance')\n",
    "validator = GridSearchCV(model, params, cv=3, refit=True)\n",
    "validator.fit(X_train, y_train)"
   ]
  },
  {
   "cell_type": "markdown",
   "metadata": {},
   "source": [
    "Los mejores modelos de acuerdo a la validación cruzada son:"
   ]
  },
  {
   "cell_type": "code",
   "execution_count": 4,
   "metadata": {},
   "outputs": [
    {
     "data": {
      "text/html": [
       "<div>\n",
       "<style scoped>\n",
       "    .dataframe tbody tr th:only-of-type {\n",
       "        vertical-align: middle;\n",
       "    }\n",
       "\n",
       "    .dataframe tbody tr th {\n",
       "        vertical-align: top;\n",
       "    }\n",
       "\n",
       "    .dataframe thead th {\n",
       "        text-align: right;\n",
       "    }\n",
       "</style>\n",
       "<table border=\"1\" class=\"dataframe\">\n",
       "  <thead>\n",
       "    <tr style=\"text-align: right;\">\n",
       "      <th></th>\n",
       "      <th>param_learning_rate</th>\n",
       "      <th>param_max_depth</th>\n",
       "      <th>param_n_estimators</th>\n",
       "      <th>mean_test_score</th>\n",
       "      <th>std_test_score</th>\n",
       "      <th>rank_test_score</th>\n",
       "    </tr>\n",
       "  </thead>\n",
       "  <tbody>\n",
       "    <tr>\n",
       "      <th>24</th>\n",
       "      <td>0.2</td>\n",
       "      <td>1</td>\n",
       "      <td>100</td>\n",
       "      <td>0.959930</td>\n",
       "      <td>0.022174</td>\n",
       "      <td>1</td>\n",
       "    </tr>\n",
       "    <tr>\n",
       "      <th>41</th>\n",
       "      <td>0.5</td>\n",
       "      <td>1</td>\n",
       "      <td>10</td>\n",
       "      <td>0.959930</td>\n",
       "      <td>0.022174</td>\n",
       "      <td>1</td>\n",
       "    </tr>\n",
       "    <tr>\n",
       "      <th>21</th>\n",
       "      <td>0.2</td>\n",
       "      <td>1</td>\n",
       "      <td>10</td>\n",
       "      <td>0.951994</td>\n",
       "      <td>0.033398</td>\n",
       "      <td>3</td>\n",
       "    </tr>\n",
       "    <tr>\n",
       "      <th>42</th>\n",
       "      <td>0.5</td>\n",
       "      <td>1</td>\n",
       "      <td>20</td>\n",
       "      <td>0.951994</td>\n",
       "      <td>0.033398</td>\n",
       "      <td>3</td>\n",
       "    </tr>\n",
       "    <tr>\n",
       "      <th>23</th>\n",
       "      <td>0.2</td>\n",
       "      <td>1</td>\n",
       "      <td>50</td>\n",
       "      <td>0.944057</td>\n",
       "      <td>0.044622</td>\n",
       "      <td>5</td>\n",
       "    </tr>\n",
       "  </tbody>\n",
       "</table>\n",
       "</div>"
      ],
      "text/plain": [
       "   param_learning_rate param_max_depth param_n_estimators  mean_test_score  \\\n",
       "24                 0.2               1                100         0.959930   \n",
       "41                 0.5               1                 10         0.959930   \n",
       "21                 0.2               1                 10         0.951994   \n",
       "42                 0.5               1                 20         0.951994   \n",
       "23                 0.2               1                 50         0.944057   \n",
       "\n",
       "    std_test_score  rank_test_score  \n",
       "24        0.022174                1  \n",
       "41        0.022174                1  \n",
       "21        0.033398                3  \n",
       "42        0.033398                3  \n",
       "23        0.044622                5  "
      ]
     },
     "execution_count": 4,
     "metadata": {},
     "output_type": "execute_result"
    }
   ],
   "source": [
    "import pandas as pd\n",
    "columns = [\"param_learning_rate\", \"param_max_depth\", \"param_n_estimators\", \n",
    "           \"mean_test_score\", \"std_test_score\", \"rank_test_score\"]\n",
    "pd.DataFrame(validator.cv_results_)[columns].sort_values(by=\"rank_test_score\").head(5)"
   ]
  },
  {
   "cell_type": "markdown",
   "metadata": {},
   "source": [
    "En este caso hay varios modelos que obtuvieron el primer lugar en términos de *accuracy* promedio\n",
    "\n",
    "`GridSearchCV` retorna arbitrariamente el primero en orden de ejecución:"
   ]
  },
  {
   "cell_type": "code",
   "execution_count": 5,
   "metadata": {},
   "outputs": [
    {
     "data": {
      "text/plain": [
       "{'learning_rate': 0.2, 'max_depth': 1, 'n_estimators': 100}"
      ]
     },
     "execution_count": 5,
     "metadata": {},
     "output_type": "execute_result"
    }
   ],
   "source": [
    "validator.best_params_"
   ]
  },
  {
   "cell_type": "markdown",
   "metadata": {},
   "source": [
    ":::{note}\n",
    "\n",
    "Boosting funciona bien con árboles poco profundos. Los árboles de poca profundidad suelen tener alto sesgo y baja varianza\n",
    "\n",
    ":::"
   ]
  },
  {
   "cell_type": "markdown",
   "metadata": {},
   "source": [
    "El resultado de predicción en el conjunto de test es"
   ]
  },
  {
   "cell_type": "code",
   "execution_count": 6,
   "metadata": {},
   "outputs": [
    {
     "name": "stdout",
     "output_type": "stream",
     "text": [
      "              precision    recall  f1-score   support\n",
      "\n",
      "           0       0.95      1.00      0.97        19\n",
      "           1       1.00      0.95      0.98        22\n",
      "           2       1.00      1.00      1.00        13\n",
      "\n",
      "    accuracy                           0.98        54\n",
      "   macro avg       0.98      0.98      0.98        54\n",
      "weighted avg       0.98      0.98      0.98        54\n",
      "\n"
     ]
    }
   ],
   "source": [
    "from sklearn.metrics import classification_report\n",
    "\n",
    "best_gb = validator.best_estimator_\n",
    "print(classification_report(y_test, best_gb.predict(X_test)))"
   ]
  },
  {
   "cell_type": "markdown",
   "metadata": {},
   "source": [
    ":::{seealso}\n",
    "\n",
    "Otros algoritmos de Boosting con árboles de decisión extremadamente competitivos:\n",
    "\n",
    "- [HistGradientBoostingClassifier](https://scikit-learn.org/stable/modules/generated/sklearn.ensemble.HistGradientBoostingClassifier.html#sklearn.ensemble.HistGradientBoostingClassifier)\n",
    "- [XGBoost](http://dmlc.cs.washington.edu/xgboost.html)\n",
    "- [LightGBM](https://lightgbm.readthedocs.io/en/latest/index.html)\n",
    "\n",
    "Estos implementan estrategias para mejorar la eficiencia y realizar cálculos paralelos/distribuidos \n",
    "\n",
    ":::"
   ]
  },
  {
   "cell_type": "markdown",
   "metadata": {},
   "source": [
    "## Ensambles paralelos\n",
    "\n",
    "Los métodos de ensambles paralelos entrenan clasificadores débiles de forma independiente (no secuecial) y luego combinan sus resultados\n",
    "\n",
    "El supuesto principal de estos métodos es que los clasificadores débiles tienen error de generalización independiente (de lo contrario no habría ganancia al combinarlos)\n",
    "\n",
    "Si definimos el error de generalización como\n",
    "\n",
    "$$\n",
    "\\epsilon_t = P(h_t(x) \\neq y)\n",
    "$$\n",
    "\n",
    "y asumiendo un clasificador binario fuerte con\n",
    "\n",
    "$$\n",
    "H(x) = \\text{signo} \\left( \\sum_{t=1}^T h_t(x) \\right)\n",
    "$$\n",
    "\n",
    "(voto por mayoría), entonces se puede mostrar que\n",
    "\n",
    "$$\n",
    "P(H(x) \\neq y) = \\sum_{k=0}^{T/2} \\binom{T}{k} (1-\\epsilon)^k \\epsilon^{T-k} \\leq \\exp \\left( -\\frac{1}{2} T(2\\epsilon -1)^2 \\right)\n",
    "$$\n",
    "\n",
    ":::{note}\n",
    "\n",
    "Si los errores de generalización son independientes, el error del clasificador fuerte se reduce exponencialmente con la cantidad de clasificadores débiles\n",
    "\n",
    ":::\n",
    "\n",
    "Pero en la práctica no es posible tener clasificadores independientes si están entrenados con el mismo conjunto de datos ¿Qué podemos hacer?"
   ]
  },
  {
   "cell_type": "markdown",
   "metadata": {},
   "source": [
    "### Bagging: Bootstrap Aggregating\n",
    "\n",
    "*Bootstrap* es una técnica estadística para obtener intervalos de confianza empíricos que se basa en obtener muestras distintas pero representativas del conjunto de datos original\n",
    "\n",
    "La técnica más clásica y simple para lograr lo anterior es **muestreo con reemplazo** y se ilustra en la siguiente figura\n",
    "\n",
    "<img src=\"img/bootstrap.png\" width=\"700\">\n",
    "\n",
    "El conjunto de datos original (izquierda) se remuestrea $T$ veces. En cada muestra se escogen aleatoriamente tantos ejemplos como existían en el conjunto original. Sin embargo algunos ejemplos no se escogen, mientras que otros se escogen más de una vez (reemplazo)\n",
    "\n",
    "\n",
    "El algoritmo de [Bagging](https://link.springer.com/article/10.1007/BF00058655) consiste \n",
    "\n",
    "1. Generar $T$ conjuntos de datos utilizando muestreo con reemplazo\n",
    "1. Entrenar un clasificador débil en cada conjunto\n",
    "1. Combinar los clasificadores débils mediante:\n",
    "\n",
    "$$\n",
    "H(x) = \\text{arg} \\max_{y \\in \\mathcal{Y}} \\sum_{t=1}^T \\mathbb{1} (h_t(x) = y)\n",
    "$$\n",
    "\n",
    "donde $\\mathbb{1}(\\cdot)$ es la función indicadora, que es 1 si su argumento es cierto y 0 en el caso contrario\n",
    "\n",
    "Lo anterior se conoce como voto por mayoría, ya que se escoge la etiqueta que fue mayormente votada por los clasificadores débiles\n",
    "\n",
    ":::{note}\n",
    "\n",
    "El procedimiento anterior es amigable con arquitecturas computacionales de múltiples procesadores pues cada entrenamiento es independiente de los demás\n",
    "\n",
    ":::"
   ]
  },
  {
   "cell_type": "markdown",
   "metadata": {},
   "source": [
    "**Ejemplos oob**\n",
    "\n",
    "Cuando se utiliza muestreo con reemplazo la probabilidad de que el ejemplo $i$ sea incluido al menos una vez es 0.632 (se distribuye Poisson con $\\lambda=1$)\n",
    "\n",
    "Por lo tanto, por cada clasificador, hay un $36.8 \\%$ de ejemplos que no se ocupan. Estos ejemplos se denominan *out-of-bag* (oob)\n",
    "\n",
    "Una ventaja de bagging es que podemos utilizar los ejemplos oob de cada clasificador débil para medir el error de generalización\n",
    "\n",
    "**Clasificador inestable**\n",
    "\n",
    "Existe un traslape considerable entre los conjuntos remuestreados ($63.2 \\%$)\n",
    "\n",
    "Clasificador estable\n",
    ": Se refiere a un clasificador que es insensible a perturbaciones en el dataset\n",
    "\n",
    "En el caso de bagging, si los clasificadores débiles son estables, entonces su resultado será muy similar y por ende no habrá ganancia al construir un ensamble\n",
    "\n",
    ":::{important}\n",
    "\n",
    "Bagging es una técnica que promedia clasificadores débiles, es decir reduce varianza. Por ende funcionará mejor con clasificadores débiles de bajo sesgos (error) pero alta varianza\n",
    "\n",
    ":::\n",
    "\n",
    "En el caso de los árboles de decisión, mientras más profundo sea mayor inestabilidad se tiene. Adicionalmente, si los árboles no se podan son más inestables\n"
   ]
  },
  {
   "cell_type": "markdown",
   "metadata": {},
   "source": [
    "### Random Forest\n",
    "\n",
    "En bagging se realiza muestreo con reemplazo de los datos. [Random Forest](https://link.springer.com/article/10.1023/A:1010933404324) (RF) extiende esta idea realizando submuestreo de los atributos (features/características)\n",
    "\n",
    "En particular, cada split de cada clasificador débil (árbol) tiene acceso a un subconjunto aleatorio $M$ de los atributos originales. De esta forma se obtienen clasificadores débiles menos correlacionados (más independientes) y además más rápidos de entrenar\n",
    "\n",
    "La cantidad máxima de atributos por split es un hiperparámetro a calibrar. Típicamente se utiliza la raiz cuadrada del total de atributos"
   ]
  },
  {
   "cell_type": "markdown",
   "metadata": {},
   "source": [
    "### Implementación en scikit-learn\n",
    "\n",
    "El módulo [`ensemble`](https://scikit-learn.org/stable/modules/classes.html#module-sklearn.ensemble) de scikit-learn tiene implementaciones de *RandomForest* para problemas de clasificación y regresión. Nos enfocaremos en el primero\n",
    "\n",
    "Los principales argumentos de [`RandomForestClassifier`](https://scikit-learn.org/stable/modules/generated/sklearn.ensemble.RandomForestClassifier.html) son\n",
    "\n",
    "- `n_estimators`: Cantidad de clasificadores débiles (árboles)\n",
    "- `max_features`: Cantidad máxima de atributos por split\n",
    "- `bootstrap`: Booleano que indica si se realiza muestreo con reeplazo de los datos (por defecto `True`)\n",
    "- `n_jobs`: Número de nucleos de CPU\n",
    "- `class_weight`: Permite ponderar la importancia de las clases (útil para desbalance moderado)\n",
    "\n",
    "También recibe argumentos relacionados a los clasificadores débiles (árboles), entre ellos:\n",
    "\n",
    "- `criterion`:  Criterio para realizar la separación (split), `'entropy'` o `'gini'`\n",
    "- `max_depth`: Profundidad máxima de los árboles\n",
    "- `min_samples_split`: Número mínimo de muestras para permitir un `split`\n",
    "\n"
   ]
  },
  {
   "cell_type": "code",
   "execution_count": 7,
   "metadata": {},
   "outputs": [
    {
     "data": {
      "text/plain": [
       "GridSearchCV(cv=3, estimator=RandomForestClassifier(n_jobs=4),\n",
       "             param_grid={'criterion': ('entropy', 'gini'),\n",
       "                         'max_depth': [1, 5, 10, 20, None],\n",
       "                         'n_estimators': [1, 10, 20, 50, 100]})"
      ]
     },
     "execution_count": 7,
     "metadata": {},
     "output_type": "execute_result"
    }
   ],
   "source": [
    "from sklearn.ensemble import RandomForestClassifier\n",
    "\n",
    "params = {'criterion':('entropy', 'gini'),\n",
    "          'max_depth':[1, 5, 10, 20, None],\n",
    "          'n_estimators': [1, 10, 20, 50, 100]}\n",
    "\n",
    "model = RandomForestClassifier(n_jobs=4)\n",
    "validator = GridSearchCV(model, params, cv=3, refit=True)\n",
    "validator.fit(X_train, y_train)"
   ]
  },
  {
   "cell_type": "markdown",
   "metadata": {},
   "source": [
    "Los mejores modelos de acuerdo a la validación cruzada son:"
   ]
  },
  {
   "cell_type": "code",
   "execution_count": 8,
   "metadata": {},
   "outputs": [
    {
     "data": {
      "text/html": [
       "<div>\n",
       "<style scoped>\n",
       "    .dataframe tbody tr th:only-of-type {\n",
       "        vertical-align: middle;\n",
       "    }\n",
       "\n",
       "    .dataframe tbody tr th {\n",
       "        vertical-align: top;\n",
       "    }\n",
       "\n",
       "    .dataframe thead th {\n",
       "        text-align: right;\n",
       "    }\n",
       "</style>\n",
       "<table border=\"1\" class=\"dataframe\">\n",
       "  <thead>\n",
       "    <tr style=\"text-align: right;\">\n",
       "      <th></th>\n",
       "      <th>param_criterion</th>\n",
       "      <th>param_max_depth</th>\n",
       "      <th>param_n_estimators</th>\n",
       "      <th>mean_test_score</th>\n",
       "      <th>std_test_score</th>\n",
       "      <th>rank_test_score</th>\n",
       "    </tr>\n",
       "  </thead>\n",
       "  <tbody>\n",
       "    <tr>\n",
       "      <th>41</th>\n",
       "      <td>gini</td>\n",
       "      <td>20</td>\n",
       "      <td>10</td>\n",
       "      <td>0.983933</td>\n",
       "      <td>0.011363</td>\n",
       "      <td>1</td>\n",
       "    </tr>\n",
       "    <tr>\n",
       "      <th>24</th>\n",
       "      <td>entropy</td>\n",
       "      <td>None</td>\n",
       "      <td>100</td>\n",
       "      <td>0.975997</td>\n",
       "      <td>0.019442</td>\n",
       "      <td>2</td>\n",
       "    </tr>\n",
       "    <tr>\n",
       "      <th>44</th>\n",
       "      <td>gini</td>\n",
       "      <td>20</td>\n",
       "      <td>100</td>\n",
       "      <td>0.975997</td>\n",
       "      <td>0.019442</td>\n",
       "      <td>2</td>\n",
       "    </tr>\n",
       "    <tr>\n",
       "      <th>39</th>\n",
       "      <td>gini</td>\n",
       "      <td>10</td>\n",
       "      <td>100</td>\n",
       "      <td>0.975997</td>\n",
       "      <td>0.019442</td>\n",
       "      <td>2</td>\n",
       "    </tr>\n",
       "    <tr>\n",
       "      <th>37</th>\n",
       "      <td>gini</td>\n",
       "      <td>10</td>\n",
       "      <td>20</td>\n",
       "      <td>0.975997</td>\n",
       "      <td>0.019442</td>\n",
       "      <td>2</td>\n",
       "    </tr>\n",
       "  </tbody>\n",
       "</table>\n",
       "</div>"
      ],
      "text/plain": [
       "   param_criterion param_max_depth param_n_estimators  mean_test_score  \\\n",
       "41            gini              20                 10         0.983933   \n",
       "24         entropy            None                100         0.975997   \n",
       "44            gini              20                100         0.975997   \n",
       "39            gini              10                100         0.975997   \n",
       "37            gini              10                 20         0.975997   \n",
       "\n",
       "    std_test_score  rank_test_score  \n",
       "41        0.011363                1  \n",
       "24        0.019442                2  \n",
       "44        0.019442                2  \n",
       "39        0.019442                2  \n",
       "37        0.019442                2  "
      ]
     },
     "execution_count": 8,
     "metadata": {},
     "output_type": "execute_result"
    }
   ],
   "source": [
    "columns = [\"param_criterion\", \"param_max_depth\", \"param_n_estimators\", \n",
    "           \"mean_test_score\", \"std_test_score\", \"rank_test_score\"]\n",
    "pd.DataFrame(validator.cv_results_)[columns].sort_values(by=\"rank_test_score\").head(5)"
   ]
  },
  {
   "cell_type": "markdown",
   "metadata": {},
   "source": [
    "El mejor Random Forest es:"
   ]
  },
  {
   "cell_type": "code",
   "execution_count": 9,
   "metadata": {},
   "outputs": [
    {
     "data": {
      "text/plain": [
       "{'criterion': 'gini', 'max_depth': 20, 'n_estimators': 10}"
      ]
     },
     "execution_count": 9,
     "metadata": {},
     "output_type": "execute_result"
    }
   ],
   "source": [
    "validator.best_params_"
   ]
  },
  {
   "cell_type": "markdown",
   "metadata": {},
   "source": [
    ":::{note}\n",
    "\n",
    "A diferencia de GB, Random Forest prefiere árboles más profundos. Los árboles profundos tienen con bajo sesgo y alta varianza\n",
    "\n",
    ":::\n",
    "\n",
    "El resultado en el conjunto de test es:"
   ]
  },
  {
   "cell_type": "code",
   "execution_count": 10,
   "metadata": {},
   "outputs": [
    {
     "name": "stdout",
     "output_type": "stream",
     "text": [
      "              precision    recall  f1-score   support\n",
      "\n",
      "           0       1.00      1.00      1.00        19\n",
      "           1       1.00      0.95      0.98        22\n",
      "           2       0.93      1.00      0.96        13\n",
      "\n",
      "    accuracy                           0.98        54\n",
      "   macro avg       0.98      0.98      0.98        54\n",
      "weighted avg       0.98      0.98      0.98        54\n",
      "\n"
     ]
    }
   ],
   "source": [
    "best_rf =  validator.best_estimator_\n",
    "print(classification_report(y_test, best_rf.predict(X_test)))"
   ]
  },
  {
   "cell_type": "markdown",
   "metadata": {},
   "source": [
    "### Selección de características embebida\n",
    "\n",
    "En cada split de cada árbol se obtiene una ganancia de información para el atributo seleccionado. Luego, para un atributo en particular, se puede obtener su ganancia de información promedio. \n",
    "\n",
    ":::{note}\n",
    "\n",
    "Un atributo que es más relevante (permite clasificar mejor), será escogido por una mayor cantidad de splits y por ende tendrá ganancia de información promedio mayor\n",
    "\n",
    ":::\n",
    "\n",
    "Se puede utilizar la ganancia de información promedio para hacer selección de características, sin embargo existe una limitación importante: El RF no detecta correlaciones entre atributos\n",
    "\n",
    ":::{warning}\n",
    "\n",
    "Si dos atributos están altamente correlacionados el RF no preferirá ninguna de ellas y la ganancia de información promedio de ambos será baja\n",
    "\n",
    ":::\n",
    "\n",
    "Para el ejemplo anterior se tiene:"
   ]
  },
  {
   "cell_type": "code",
   "execution_count": 11,
   "metadata": {},
   "outputs": [
    {
     "data": {
      "image/png": "[encoded data removed]",
      "text/plain": [
       "<Figure size 432x432 with 1 Axes>"
      ]
     },
     "metadata": {
      "needs_background": "light"
     },
     "output_type": "display_data"
    }
   ],
   "source": [
    "%matplotlib inline\n",
    "import matplotlib.pyplot as plt\n",
    "\n",
    "idx_sort = np.argsort(best_rf.feature_importances_)\n",
    "\n",
    "fig, ax = plt.subplots(figsize=(6, 6), tight_layout=True)\n",
    "ax.barh(np.array(X_names)[idx_sort], best_rf.feature_importances_[idx_sort], align='center')\n",
    "ax.set_xlabel('Ganancia de información\\npromedio (importancia)');"
   ]
  },
  {
   "cell_type": "code",
   "execution_count": null,
   "metadata": {},
   "outputs": [],
   "source": []
  }
 ],
 "metadata": {
  "kernelspec": {
   "display_name": "Python 3 (ipykernel)",
   "language": "python",
   "name": "python3"
  },
  "language_info": {
   "codemirror_mode": {
    "name": "ipython",
    "version": 3
   },
   "file_extension": ".py",
   "mimetype": "text/x-python",
   "name": "python",
   "nbconvert_exporter": "python",
   "pygments_lexer": "ipython3",
   "version": "3.9.12"
  }
 },
 "nbformat": 4,
 "nbformat_minor": 2
}
