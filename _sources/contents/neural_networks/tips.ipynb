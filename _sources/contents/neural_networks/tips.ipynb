{
 "cells": [
  {
   "cell_type": "markdown",
   "id": "5341b6f2",
   "metadata": {},
   "source": [
    "# Consejos para entrenar redes neuronales\n",
    "\n",
    "Aspectos a considerar durante el entrenamiento de redes neuronales\n",
    "\n",
    "- Asegurate de que la salida de la red es compatible con la función de costo seleccionada\n",
    "- Asegurate de que la tasa de aprendizaje no es demasiado grande o demasiado pequeña. Explora inicialmente con optimizadores adaptivos\n",
    "- Verificar convergencia y sobreajuste:\n",
    "    - Checkpoint: Guardar el último modelo y el con menor costo de validación\n",
    "    - Early stopping: Detener el entrenamiento si el error de validación no disminuye en un cierto número de épocas\n",
    "- Inicialización de los parámetros: Probar varios entrenamientos desde inicios aleatorios distintos\n",
    "- Normaliza los datos antes de presentarlos a la red\n",
    "- Si el modelo se sobreajusta pronto\n",
    "    - Disminuir complejidad\n",
    "    - Incorporar regularización: Aumentación de datos, decaimiento de pesos, Dropout\n",
    "- Si quiero aprovechar un modelo preentrenado\n",
    "    - Transferencia de aprendizaje\n",
    "    - [Zoológico de modelos](https://modelzoo.co/)\n",
    "    - [Papers with code](https://paperswithcode.com/)\n",
    "\n",
    "Estrategia agil\n",
    "\n",
    "> Desarrolla rápido e itera: Empieza simple. Propón una solución, impleméntala, entrena y evalua. Analiza las fallas, modifica e intenta de nuevo\n",
    "\n",
    "Mucho exito en sus desarrollos futuros!\n",
    "\n",
    ":::{seealso}\n",
    "\n",
    "Más consejos útiles en http://karpathy.github.io/2019/04/25/recipe/\n",
    "\n",
    ":::"
   ]
  },
  {
   "cell_type": "code",
   "execution_count": null,
   "id": "d15a9923",
   "metadata": {},
   "outputs": [],
   "source": []
  }
 ],
 "metadata": {
  "kernelspec": {
   "display_name": "Python 3 (ipykernel)",
   "language": "python",
   "name": "python3"
  },
  "language_info": {
   "codemirror_mode": {
    "name": "ipython",
    "version": 3
   },
   "file_extension": ".py",
   "mimetype": "text/x-python",
   "name": "python",
   "nbconvert_exporter": "python",
   "pygments_lexer": "ipython3",
   "version": "3.9.12"
  }
 },
 "nbformat": 4,
 "nbformat_minor": 5
}
