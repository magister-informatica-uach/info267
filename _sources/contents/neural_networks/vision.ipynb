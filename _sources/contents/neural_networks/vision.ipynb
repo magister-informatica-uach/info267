{
 "cells": [
  {
   "cell_type": "markdown",
   "metadata": {},
   "source": [
    "# Visión computacional\n",
    "\n",
    "La [visión computacional](http://szeliski.org/Book/) es un campo de investigación que busca que los computadores sean capaces de \"comprender\" el contenido presente en imágenes digitales y video, cuyo objetivo es\n",
    "\n",
    "> Automatizar tareas realizas por el sistema visual humano\n",
    "\n",
    "Algunos ejemplos de tareas:\n",
    "\n",
    "- Clasificación y Reconocimiento: ¿A qué categoría corresponde el patrón en la imagen?\n",
    "- Detección, Localización y Segmentación: ¿Dónde está el patrón en la imagen? \n",
    "- [Estimación de pose](https://modelzoo.co/blog/deep-learning-models-and-code-for-pose-estimation)\n",
    "- [Reconstrucción](https://www.youtube.com/watch?v=gg0F5JjKmhA), [super-resolución](https://www.extremetech.com/extreme/132950-csi-style-super-resolution-image-enlargment-yeeaaaah) y [síntesis](https://tcwang0509.github.io/pix2pixHD/)\n",
    "- ...\n",
    "\n",
    "<a href=\"https://towardsdatascience.com/detection-and-segmentation-through-convnets-47aa42de27ea\"><img src=\"https://miro.medium.com/max/800/1*SNvD04dEFIDwNAqSXLQC_g.jpeg\" width=\"600\"></a>\n",
    "\n",
    "\n",
    "**Ejemplos de aplicaciones**\n",
    "\n",
    "- [Medicina](https://www.rsipvision.com/medical-segmentation/)\n",
    "- [Navegación autónoma](https://www.youtube.com/watch?v=H7Ym3DMSGms)\n",
    "- [Sistemas de control de tráfico](https://www.youtube.com/watch?v=jxhAWuImxS8)\n",
    "- [Realidad aumentada](https://www.youtube.com/watch?v=r9hVypi_6TQ)\n",
    "- [Agricultura y forestal](https://medium.com/@awangenh/mapping-weeds-and-crops-in-precision-agriculture-with-convolutional-neural-networks-138dab87ba00)\n",
    "- [...](https://www.cs.ubc.ca/~lowe/vision.html)\n",
    "\n",
    "**Herramientas**\n",
    "\n",
    "- Procesamiento digital de imágenes\n",
    "- Optimización, Estadística \n",
    "- Machine learning y en particular  **Redes Neuronales Convolucionales** \n",
    "\n",
    "\n",
    "**Desafíos**\n",
    "\n",
    "- Algoritmos invariantes a los cambios de Iluminación\n",
    "- Algoritmos invariantes a los cambios de escala y perspectiva (deformación)\n",
    "- Algoritmos robustos contra la oclusión"
   ]
  },
  {
   "cell_type": "code",
   "execution_count": null,
   "metadata": {},
   "outputs": [],
   "source": []
  }
 ],
 "metadata": {
  "kernelspec": {
   "display_name": "Python 3 (ipykernel)",
   "language": "python",
   "name": "python3"
  },
  "language_info": {
   "codemirror_mode": {
    "name": "ipython",
    "version": 3
   },
   "file_extension": ".py",
   "mimetype": "text/x-python",
   "name": "python",
   "nbconvert_exporter": "python",
   "pygments_lexer": "ipython3",
   "version": "3.9.12"
  }
 },
 "nbformat": 4,
 "nbformat_minor": 2
}
