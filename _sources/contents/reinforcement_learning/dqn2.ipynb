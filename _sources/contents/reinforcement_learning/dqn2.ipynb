{
 "cells": [
  {
   "cell_type": "markdown",
   "metadata": {},
   "source": [
    "# DQN a partir de píxeles"
   ]
  },
  {
   "cell_type": "markdown",
   "metadata": {},
   "source": [
    "El *gym* de OpenAI tiene una colección de juegos de ATARI 2600 que pueden usarse como benchmark\n",
    "\n",
    "La mayoría tiene una versión normal y una versión RAM\n",
    "\n",
    "- En la versión normal las observaciones son imágenes de 260x120x3\n",
    "- En la versión RAM las observaciones son 128 bits que corresponden a la memoria de la consola\n",
    "\n",
    "En este ejemplo nos concentraremos en la versión normal y usaremos redes convolucionales para resolverlo."
   ]
  },
  {
   "cell_type": "code",
   "execution_count": 1,
   "metadata": {},
   "outputs": [
    {
     "name": "stderr",
     "output_type": "stream",
     "text": [
      "A.L.E: Arcade Learning Environment (version 0.8.1+53f58b7)\n",
      "[Powered by Stella]\n"
     ]
    },
    {
     "data": {
      "text/plain": [
       "'Las acciones de este ambiente:'"
      ]
     },
     "metadata": {},
     "output_type": "display_data"
    },
    {
     "data": {
      "text/plain": [
       "['NOOP', 'FIRE', 'RIGHT', 'LEFT', 'RIGHTFIRE', 'LEFTFIRE']"
      ]
     },
     "metadata": {},
     "output_type": "display_data"
    },
    {
     "data": {
      "text/plain": [
       "'La dimensión del estado:'"
      ]
     },
     "metadata": {},
     "output_type": "display_data"
    },
    {
     "data": {
      "text/plain": [
       "(210, 160, 3)"
      ]
     },
     "metadata": {},
     "output_type": "display_data"
    },
    {
     "data": {
      "image/png": "[encoded data removed]",
      "text/plain": [
       "<Figure size 300x400 with 1 Axes>"
      ]
     },
     "metadata": {},
     "output_type": "display_data"
    }
   ],
   "source": [
    "%matplotlib inline\n",
    "from matplotlib import pyplot as plt\n",
    "import gymnasium as gym\n",
    "\n",
    "env_name = \"PongNoFrameskip-v4\"\n",
    "#env_name =\"BreakoutNoFrameskip-v4\"\n",
    "#env_name = \"SpaceInvadersNoFrameskip-v4\"\n",
    "\n",
    "env = gym.make(env_name)\n",
    "state, _ = env.reset()\n",
    "\n",
    "display(\"Las acciones de este ambiente:\", env.unwrapped.get_action_meanings())\n",
    "display(\"La dimensión del estado:\", state.shape)\n",
    "\n",
    "fig, ax = plt.subplots(figsize=(3, 4), tight_layout=True)\n",
    "ax.axis('off')\n",
    "ax.imshow(state);"
   ]
  },
  {
   "cell_type": "markdown",
   "metadata": {},
   "source": [
    "El estado es una imagen de 210 x 160 x 3 pixeles\n",
    "\n",
    "Para facilitar el entrenamiento se recomienda hacer un preprocesamiento como el que sigue\n",
    "\n",
    "1. (opcional) Descartar parte de la imagen que no aporta información\n",
    "1. Reescalar la imagen a un menor tamaño\n",
    "1. Combinar los canales y generar una imagen de escala de grises\n",
    "1. Crear un stack de cuatro frames como representación del estado\n",
    "1. Convertir los pixeles a float y normalizar al rango [0, 1]\n",
    "\n",
    "Para esto usaremos la librería *torchvision* y los *wrappers* de OpenAI"
   ]
  },
  {
   "cell_type": "code",
   "execution_count": 47,
   "metadata": {},
   "outputs": [
    {
     "name": "stdout",
     "output_type": "stream",
     "text": [
      "Tamaño del tensor transformado: (torch.Size([4, 84, 84]), torch.float32)\n"
     ]
    },
    {
     "data": {
      "image/png": "[encoded data removed]",
      "text/plain": [
       "<Figure size 800x500 with 4 Axes>"
      ]
     },
     "metadata": {},
     "output_type": "display_data"
    }
   ],
   "source": [
    "import numpy as np\n",
    "import torch\n",
    "from gymnasium.wrappers import AtariPreprocessing, FrameStack\n",
    "\n",
    "def wrap_env(env, skip=4, k=4):\n",
    "    env = EpisodicLifeEnv(env) # Perder una vida es equivalente a perder el episodio\n",
    "    env = FireResetEnv(env) # Hace un disparo al inicio (algunos juegos lo necesitan)\n",
    "    env = WarpFrame(env) # Crop, resize y conversión a escala de  grises\n",
    "    env = ClipRewardEnv(env) # La recompensa se corta en [-1, 1] (mejora la estabilidad)\n",
    "    env = FrameStack(env, k=k) # El ambiente entrega de a 4 frames    \n",
    "    return env\n",
    "\n",
    "env = FrameStack(AtariPreprocessing(gym.make(env_name), \n",
    "                                    noop_max=30, \n",
    "                                    frame_skip=4, \n",
    "                                    screen_size=84, \n",
    "                                    terminal_on_life_loss=False), num_stack=4)\n",
    "env.reset()\n",
    "state, _, _, _, _ = env.step(2)\n",
    "\n",
    "def transform_state(state):\n",
    "    return torch.from_numpy(np.array(state).astype('float32'))\n",
    "\n",
    "transformed_state = transform_state(state)\n",
    "print(f\"Tamaño del tensor transformado: {transformed_state.shape, transformed_state.dtype}\")\n",
    "fig, ax = plt.subplots(1, 4, figsize=(8, 5), tight_layout=True)\n",
    "for k in range(4):\n",
    "    ax[k].matshow(transformed_state[k, :, :].numpy(), cmap=plt.cm.Greys_r);\n",
    "    ax[k].axis('off')"
   ]
  },
  {
   "cell_type": "markdown",
   "metadata": {},
   "source": [
    "**Red convolucional para estimar la función Q**"
   ]
  },
  {
   "cell_type": "code",
   "execution_count": 32,
   "metadata": {},
   "outputs": [],
   "source": [
    "class ConvolutionalNeuralNetwork(torch.nn.Module):    \n",
    "    def __init__(self, n_input, n_output, n_filters=32, n_hidden=256):\n",
    "        super(type(self), self).__init__()\n",
    "        self.conv1 = torch.nn.Conv2d(n_input, n_filters, kernel_size=8, stride=4)\n",
    "        self.conv2 = torch.nn.Conv2d(n_filters, n_filters, kernel_size=4, stride=2)\n",
    "        self.conv3 = torch.nn.Conv2d(n_filters, n_filters, kernel_size=3, stride=1)\n",
    "        self.linear1 = torch.nn.Linear(7 * 7 * n_filters, n_hidden)\n",
    "        self.output = torch.nn.Linear(n_hidden, n_output)\n",
    "        self.activation = torch.nn.ReLU()\n",
    "        \n",
    "    def forward(self, x):\n",
    "        h = self.activation(self.conv1(x))\n",
    "        h = self.activation(self.conv2(h))\n",
    "        h = self.activation(self.conv3(h))\n",
    "        h = h.view(-1, 7*7*32)\n",
    "        h = self.activation(self.linear1(h))\n",
    "        return  self.output(h)"
   ]
  },
  {
   "cell_type": "markdown",
   "metadata": {},
   "source": [
    "**Replay Memory**"
   ]
  },
  {
   "cell_type": "code",
   "execution_count": 33,
   "metadata": {},
   "outputs": [],
   "source": [
    "class ReplayMemory:\n",
    "    \n",
    "    def __init__(self, state_dim, memory_length=2000): \n",
    "        self.length = memory_length\n",
    "        self.pointer = 0\n",
    "        self.filled = False\n",
    "        # Tensores vacíos para la historia\n",
    "        self.s_current = torch.zeros((memory_length,) + state_dim)\n",
    "        self.s_future = torch.zeros((memory_length,) + state_dim)\n",
    "        self.a = torch.zeros(memory_length, 1, dtype=int)\n",
    "        self.r = torch.zeros(memory_length, 1)\n",
    "        # Adicionalmente guardaremos la condición de término\n",
    "        self.end = torch.zeros(memory_length, 1, dtype=bool)\n",
    "    \n",
    "    def push(self, s_current, s_future, a, r, end):\n",
    "        # Agregamos una tupla en la memoria\n",
    "        self.s_current[self.pointer] = s_current\n",
    "        self.s_future[self.pointer] = s_future\n",
    "        self.a[self.pointer] = a\n",
    "        self.r[self.pointer] = r \n",
    "        self.end[self.pointer] = end\n",
    "        if self.pointer + 1 == self.length:\n",
    "            self.filled = True\n",
    "        self.pointer =  (self.pointer + 1) % self.length\n",
    "        \n",
    "    def sample(self, size=64):        \n",
    "        # Extraemos una muestra aleatoria de la memoria\n",
    "        if self.filled:\n",
    "            idx = np.random.choice(self.length, size)\n",
    "        elif self.pointer > size:\n",
    "            idx = np.random.choice(self.pointer, size)\n",
    "        else:\n",
    "            return None        \n",
    "        return self.s_current[idx], self.s_future[idx], self.a[idx], self.r[idx], self.end[idx]    \n",
    "    "
   ]
  },
  {
   "cell_type": "markdown",
   "metadata": {},
   "source": [
    "## Agente DQN\n",
    "\n",
    "Detalles prácticos a considerar\n",
    "\n",
    "- **Huber Loss:** Combinación del error cuadrático y el error absoluto. Se usa el error cuadrático para errores pequeños y el error absoluto para errores grandes. Mejora la estabilidad numérica del algoritmo\n",
    "- **Gradient clipping:** Limitar el gradiente en un rango [mínimo, máximo], usualmente $[0,1]$. También se puede limitar dividiendo por la norma"
   ]
  },
  {
   "cell_type": "code",
   "execution_count": 34,
   "metadata": {},
   "outputs": [],
   "source": [
    "import copy\n",
    "    \n",
    "class DeepQNetwork:\n",
    "    def __init__(self, q_model, gamma=0.99, double_dqn=False, learning_rate=1e-3, \n",
    "                 target_update_freq=500, clip_grads=True, clip_error=False, huber=False):\n",
    "        self.double_dqn = double_dqn\n",
    "        self.gamma = gamma\n",
    "        self.q_policy = q_model\n",
    "        self.n_output = q_model.output.out_features\n",
    "        self.clip_error = clip_error\n",
    "        self.clip_grads = clip_grads\n",
    "        self.update_counter = 0\n",
    "        self.target_update_freq = target_update_freq\n",
    "        if not huber:\n",
    "            self.criterion = torch.nn.MSELoss()\n",
    "        else:\n",
    "            self.criterion = torch.nn.SmoothL1Loss()\n",
    "        self.optimizer = torch.optim.RMSprop(self.q_policy.parameters(), lr=learning_rate)\n",
    "        \n",
    "        if double_dqn:\n",
    "            self.q_target = copy.deepcopy(self.q_policy)\n",
    "            self.q_target.eval()\n",
    "    \n",
    "    def select_action(self, state, epsilon=0.):\n",
    "        # Estrategia epsilon greedy para seleccionar acción\n",
    "        if torch.rand(1).item() < 1. - epsilon: \n",
    "            self.q_policy.eval()\n",
    "            with torch.no_grad():\n",
    "                q = self.q_policy(state)[0]\n",
    "                a = q.argmax().item()\n",
    "                q = q[a]\n",
    "            self.q_policy.train()\n",
    "        else:\n",
    "            q = None\n",
    "            a = torch.randint(high=self.n_output, size=(1,)).item() \n",
    "        \n",
    "        return a, q\n",
    "    \n",
    "    def update(self, mini_batch):\n",
    "        self.update_counter += 1\n",
    "        state, state_next, action, reward, end = mini_batch\n",
    "        # Calcular Q\n",
    "        q_current = self.q_policy(state).gather(1, action)\n",
    "        with torch.no_grad():\n",
    "            if not self.double_dqn:\n",
    "                q_next_best = self.q_policy(state_next).max(1, keepdim=True)[0]\n",
    "            else:\n",
    "                action_next = self.q_policy(state_next).argmax(dim=1, keepdim=True)\n",
    "                q_next_best = self.q_target(state_next).gather(1, action_next)               \n",
    "        # Construir el target: r + gamma*max Q(s', a')\n",
    "        td_target = reward\n",
    "        td_target[~end] += self.gamma*q_next_best[~end]\n",
    "        td_target[end] = -1.\n",
    "        # Calcular pérdido y sus gradientes\n",
    "        self.optimizer.zero_grad()\n",
    "        loss = self.criterion(q_current, td_target)\n",
    "        if self.clip_error:\n",
    "            loss.clamp_(-1., 1.)\n",
    "        loss.backward()\n",
    "        # Cortar gradientes grandes (mejora la estabilidad)\n",
    "        if self.clip_grads:\n",
    "            for param in self.q_policy.parameters():\n",
    "                param.grad.data.clamp_(-1., 1.)\n",
    "            #torch.nn.utils.clip_grad.clip_grad_norm_(self.q_policy.parameters(), 10)\n",
    "        # Actualizar\n",
    "        self.optimizer.step()\n",
    "        # Transfer policy to target\n",
    "        self.transfer_policy2target()\n",
    "        # Retornar el valor de la loss\n",
    "        return loss.item()\n",
    "    \n",
    "    def transfer_policy2target(self):\n",
    "        if self.double_dqn:            \n",
    "            if self.update_counter % self.target_update_freq == 0:\n",
    "                self.q_target.load_state_dict(self.q_policy.state_dict())\n",
    "                return True\n",
    "        return False"
   ]
  },
  {
   "cell_type": "markdown",
   "metadata": {},
   "source": [
    "## Gráficas de aprendizaje"
   ]
  },
  {
   "cell_type": "code",
   "execution_count": null,
   "metadata": {},
   "outputs": [],
   "source": [
    "%matplotlib notebook\n",
    "import matplotlib.pyplot as plt\n",
    "from scipy.signal import convolve\n",
    "\n",
    "fig, ax = plt.subplots(4, figsize=(6, 5), sharex=True, tight_layout=True)\n",
    "\n",
    "def smooth_data(x, window_length=10):\n",
    "    return convolve(x, np.ones(window_length)/window_length, mode='valid')\n",
    "\n",
    "def update_plot(step, episode, smooth_window=10, target=None):\n",
    "    for ax_ in ax:\n",
    "        ax_.cla()\n",
    "    episodes = np.arange((episode))\n",
    "    ax[0].scatter(episodes, diagnostics['rewards'], s=1)      \n",
    "    if episode > smooth_window:\n",
    "        ax[0].plot(episodes[:-smooth_window+1], \n",
    "                   smooth_data(diagnostics['rewards']), alpha=0.5, lw=2)        \n",
    "    ax[1].plot(episodes, diagnostics['loss'])\n",
    "    ax[2].plot(episodes, np.array(diagnostics['q_sum'])/(np.array(diagnostics['q_N'])+1e-4))\n",
    "    if not target is None:               \n",
    "        ax[0].plot(episodes, [target]*len(episodes), 'k--')\n",
    "    ax[0].set_ylabel('Recompensa');\n",
    "    ax[1].set_ylabel('Loss')\n",
    "    ax[2].set_ylabel('Q promedio')\n",
    "    ax[3].plot(episodes, epsilon(episodes))\n",
    "    ax[3].set_ylabel('Epsilon')\n",
    "    ax[3].set_xlabel('Episodios')\n",
    "    ax[0].set_title(\"Paso %d\" % (step))\n",
    "    fig.canvas.draw()"
   ]
  },
  {
   "cell_type": "markdown",
   "metadata": {},
   "source": [
    "## Entrenamiento del agente"
   ]
  },
  {
   "cell_type": "code",
   "execution_count": 48,
   "metadata": {},
   "outputs": [
    {
     "data": {
      "application/vnd.jupyter.widget-view+json": {
       "model_id": "1a83882bbc794524aeef39dff4052437",
       "version_major": 2,
       "version_minor": 0
      },
      "text/plain": [
       "  0%|          | 0/100000 [00:00<?, ?it/s]"
      ]
     },
     "metadata": {},
     "output_type": "display_data"
    },
    {
     "ename": "ValueError",
     "evalue": "setting an array element with a sequence. The requested array has an inhomogeneous shape after 1 dimensions. The detected shape was (2,) + inhomogeneous part.",
     "output_type": "error",
     "traceback": [
      "\u001b[0;31m---------------------------------------------------------------------------\u001b[0m",
      "\u001b[0;31mValueError\u001b[0m                                Traceback (most recent call last)",
      "Cell \u001b[0;32mIn[48], line 28\u001b[0m\n\u001b[1;32m     24\u001b[0m stacked_states, _ \u001b[38;5;241m=\u001b[39m env\u001b[38;5;241m.\u001b[39mreset()\n\u001b[1;32m     26\u001b[0m \u001b[38;5;28;01mfor\u001b[39;00m step \u001b[38;5;129;01min\u001b[39;00m tqdm(\u001b[38;5;28mrange\u001b[39m(\u001b[38;5;241m100000\u001b[39m)):    \n\u001b[1;32m     27\u001b[0m     \u001b[38;5;66;03m# Escoger acción\u001b[39;00m\n\u001b[0;32m---> 28\u001b[0m     state \u001b[38;5;241m=\u001b[39m \u001b[43mtransform_state\u001b[49m\u001b[43m(\u001b[49m\u001b[43mstacked_states\u001b[49m\u001b[43m)\u001b[49m\n\u001b[1;32m     29\u001b[0m     a, q \u001b[38;5;241m=\u001b[39m dqn_model\u001b[38;5;241m.\u001b[39mselect_action(state\u001b[38;5;241m.\u001b[39munsqueeze(\u001b[38;5;241m0\u001b[39m), epsilon(episode))\n\u001b[1;32m     30\u001b[0m     \u001b[38;5;28;01mif\u001b[39;00m q \u001b[38;5;129;01mis\u001b[39;00m \u001b[38;5;129;01mnot\u001b[39;00m \u001b[38;5;28;01mNone\u001b[39;00m:\n",
      "Cell \u001b[0;32mIn[47], line 22\u001b[0m, in \u001b[0;36mtransform_state\u001b[0;34m(state)\u001b[0m\n\u001b[1;32m     21\u001b[0m \u001b[38;5;28;01mdef\u001b[39;00m \u001b[38;5;21mtransform_state\u001b[39m(state):\n\u001b[0;32m---> 22\u001b[0m     \u001b[38;5;28;01mreturn\u001b[39;00m torch\u001b[38;5;241m.\u001b[39mfrom_numpy(\u001b[43mnp\u001b[49m\u001b[38;5;241;43m.\u001b[39;49m\u001b[43marray\u001b[49m\u001b[43m(\u001b[49m\u001b[43mstate\u001b[49m\u001b[43m)\u001b[49m\u001b[38;5;241m.\u001b[39mastype(\u001b[38;5;124m'\u001b[39m\u001b[38;5;124mfloat32\u001b[39m\u001b[38;5;124m'\u001b[39m))\n",
      "\u001b[0;31mValueError\u001b[0m: setting an array element with a sequence. The requested array has an inhomogeneous shape after 1 dimensions. The detected shape was (2,) + inhomogeneous part."
     ]
    }
   ],
   "source": [
    "from tqdm.notebook import tqdm\n",
    "\n",
    "torch.manual_seed(1234)\n",
    "np.random.seed(1234)\n",
    "n_state = (4, 84, 84)\n",
    "n_action = env.action_space.n \n",
    "\n",
    "dqn_model = DeepQNetwork(q_model=ConvolutionalNeuralNetwork(n_state[0], n_action),\n",
    "                         gamma = 0.99,\n",
    "                         double_dqn=True,\n",
    "                         target_update_freq=1000,\n",
    "                         learning_rate=1e-4, huber=True)\n",
    "\n",
    "def epsilon(episode, epsilon_init=0.1, epsilon_end=0.01, epsilon_rate=1e-2):\n",
    "    return epsilon_end + (epsilon_init - epsilon_end) * np.exp(-epsilon_rate*episode) \n",
    "\n",
    "memory = ReplayMemory(n_state, memory_length=10000)        \n",
    "\n",
    "diagnostics = {'rewards': [0], 'loss': [0],\n",
    "               'q_sum': [0], 'q_N': [0]}\n",
    "\n",
    "episode = 1\n",
    "terminated, truncated = False, False\n",
    "stacked_states, _ = env.reset()\n",
    "\n",
    "for step in tqdm(range(100000)):    \n",
    "    # Escoger acción\n",
    "    state = transform_state(stacked_states)\n",
    "    a, q = dqn_model.select_action(state.unsqueeze(0), epsilon(episode))\n",
    "    if q is not None:\n",
    "        diagnostics['q_sum'][-1] += q\n",
    "        diagnostics['q_N'][-1] += 1\n",
    "    \n",
    "    # Aplicar la acción \n",
    "    stacked_states_next, r, terminated, truncated, info = env.step(a)  \n",
    "    diagnostics['rewards'][-1] += r\n",
    "    # Guardar en memoria\n",
    "    memory.push(state, transform_state(stacked_states_next), \n",
    "                a, torch.tensor(r), terminated)\n",
    "    \n",
    "    stacked_states = stacked_states_next\n",
    "    \n",
    "    # Actualizar modelo    \n",
    "    mini_batch = memory.sample(32)\n",
    "    if not mini_batch is None:\n",
    "        diagnostics['loss'][-1] += dqn_model.update(mini_batch)            \n",
    "    \n",
    "    # Preparar siguiente episodio\n",
    "    if terminated or truncated:\n",
    "        if episode % 5 == 0:\n",
    "            update_plot(step, episode)\n",
    "        episode += 1   \n",
    "        terminated = False\n",
    "        stacked_states, _ = env.reset()\n",
    "        diagnostics['rewards'].append(0)\n",
    "        diagnostics['loss'].append(0)\n",
    "        diagnostics['q_sum'].append(0)\n",
    "        diagnostics['q_N'].append(0)"
   ]
  },
  {
   "cell_type": "code",
   "execution_count": 51,
   "metadata": {},
   "outputs": [
    {
     "ename": "ValueError",
     "evalue": "If mode is 'interp', window_length must be less than or equal to the size of x.",
     "output_type": "error",
     "traceback": [
      "\u001b[0;31m---------------------------------------------------------------------------\u001b[0m",
      "\u001b[0;31mValueError\u001b[0m                                Traceback (most recent call last)",
      "Cell \u001b[0;32mIn[51], line 6\u001b[0m\n\u001b[1;32m      4\u001b[0m \u001b[38;5;28;01mfor\u001b[39;00m ax_, (key, val) \u001b[38;5;129;01min\u001b[39;00m \u001b[38;5;28mzip\u001b[39m(ax, diagnostics\u001b[38;5;241m.\u001b[39mitems()):\n\u001b[1;32m      5\u001b[0m     ax_\u001b[38;5;241m.\u001b[39mplot(val, alpha\u001b[38;5;241m=\u001b[39m\u001b[38;5;241m0.5\u001b[39m, c\u001b[38;5;241m=\u001b[39m\u001b[38;5;124m'\u001b[39m\u001b[38;5;124mb\u001b[39m\u001b[38;5;124m'\u001b[39m)\n\u001b[0;32m----> 6\u001b[0m     ax_\u001b[38;5;241m.\u001b[39mplot(\u001b[43msavgol_filter\u001b[49m\u001b[43m(\u001b[49m\u001b[43mval\u001b[49m\u001b[43m,\u001b[49m\u001b[43m \u001b[49m\u001b[38;5;241;43m50\u001b[39;49m\u001b[43m,\u001b[49m\u001b[43m \u001b[49m\u001b[38;5;241;43m1\u001b[39;49m\u001b[43m)\u001b[49m, c\u001b[38;5;241m=\u001b[39m\u001b[38;5;124m'\u001b[39m\u001b[38;5;124mb\u001b[39m\u001b[38;5;124m'\u001b[39m)\n\u001b[1;32m      7\u001b[0m     ax_\u001b[38;5;241m.\u001b[39mset_ylabel(key)\n\u001b[1;32m      8\u001b[0m ax_\u001b[38;5;241m.\u001b[39mset_xlabel(\u001b[38;5;124m'\u001b[39m\u001b[38;5;124mEpisode\u001b[39m\u001b[38;5;124m'\u001b[39m);\n",
      "File \u001b[0;32m~/.conda/envs/info147/lib/python3.9/site-packages/scipy/signal/_savitzky_golay.py:345\u001b[0m, in \u001b[0;36msavgol_filter\u001b[0;34m(x, window_length, polyorder, deriv, delta, axis, mode, cval)\u001b[0m\n\u001b[1;32m    343\u001b[0m \u001b[38;5;28;01mif\u001b[39;00m mode \u001b[38;5;241m==\u001b[39m \u001b[38;5;124m\"\u001b[39m\u001b[38;5;124minterp\u001b[39m\u001b[38;5;124m\"\u001b[39m:\n\u001b[1;32m    344\u001b[0m     \u001b[38;5;28;01mif\u001b[39;00m window_length \u001b[38;5;241m>\u001b[39m x\u001b[38;5;241m.\u001b[39mshape[axis]:\n\u001b[0;32m--> 345\u001b[0m         \u001b[38;5;28;01mraise\u001b[39;00m \u001b[38;5;167;01mValueError\u001b[39;00m(\u001b[38;5;124m\"\u001b[39m\u001b[38;5;124mIf mode is \u001b[39m\u001b[38;5;124m'\u001b[39m\u001b[38;5;124minterp\u001b[39m\u001b[38;5;124m'\u001b[39m\u001b[38;5;124m, window_length must be less \u001b[39m\u001b[38;5;124m\"\u001b[39m\n\u001b[1;32m    346\u001b[0m                          \u001b[38;5;124m\"\u001b[39m\u001b[38;5;124mthan or equal to the size of x.\u001b[39m\u001b[38;5;124m\"\u001b[39m)\n\u001b[1;32m    348\u001b[0m     \u001b[38;5;66;03m# Do not pad. Instead, for the elements within `window_length // 2`\u001b[39;00m\n\u001b[1;32m    349\u001b[0m     \u001b[38;5;66;03m# of the ends of the sequence, use the polynomial that is fitted to\u001b[39;00m\n\u001b[1;32m    350\u001b[0m     \u001b[38;5;66;03m# the last `window_length` elements.\u001b[39;00m\n\u001b[1;32m    351\u001b[0m     y \u001b[38;5;241m=\u001b[39m convolve1d(x, coeffs, axis\u001b[38;5;241m=\u001b[39maxis, mode\u001b[38;5;241m=\u001b[39m\u001b[38;5;124m\"\u001b[39m\u001b[38;5;124mconstant\u001b[39m\u001b[38;5;124m\"\u001b[39m)\n",
      "\u001b[0;31mValueError\u001b[0m: If mode is 'interp', window_length must be less than or equal to the size of x."
     ]
    },
    {
     "data": {
      "image/png": "[encoded data removed]",
      "text/plain": [
       "<Figure size 700x500 with 2 Axes>"
      ]
     },
     "metadata": {},
     "output_type": "display_data"
    }
   ],
   "source": [
    "from scipy.signal import savgol_filter\n",
    "\n",
    "fig, ax = plt.subplots(2, 1, figsize=(7, 5), sharex=True)\n",
    "for ax_, (key, val) in zip(ax, diagnostics.items()):\n",
    "    ax_.plot(val, alpha=0.5, c='b')\n",
    "    ax_.plot(savgol_filter(val, 50, 1), c='b')\n",
    "    ax_.set_ylabel(key)\n",
    "ax_.set_xlabel('Episode');"
   ]
  },
  {
   "cell_type": "markdown",
   "metadata": {},
   "source": [
    "## Guardar el agente para futura referencia y evaluar"
   ]
  },
  {
   "cell_type": "code",
   "execution_count": 50,
   "metadata": {},
   "outputs": [
    {
     "data": {
      "text/plain": [
       "(<gymnasium.wrappers.frame_stack.LazyFrames at 0x7fb08fb90720>,\n",
       " {'lives': 0, 'episode_frame_number': 13, 'frame_number': 3932})"
      ]
     },
     "execution_count": 50,
     "metadata": {},
     "output_type": "execute_result"
    }
   ],
   "source": [
    "env.reset()"
   ]
  },
  {
   "cell_type": "code",
   "execution_count": null,
   "metadata": {},
   "outputs": [],
   "source": [
    "import pickle\n",
    "\n",
    "with open(\"mi_modelo.pkl\", \"wb\") as f:\n",
    "    pickle.dump([dqn_model, dqn_model.q_policy.state_dict()], f)"
   ]
  },
  {
   "cell_type": "code",
   "execution_count": null,
   "metadata": {},
   "outputs": [],
   "source": [
    "import gym\n",
    "from time import sleep\n",
    "\n",
    "env = wrap_env(gym.make(env_name), skip=1)\n",
    "stacked_states = env.reset()\n",
    "end = False\n",
    "\n",
    "while not end:\n",
    "    state = preprocess(stacked_states)\n",
    "    a, q = dqn_model.select_action(state.unsqueeze(0))\n",
    "    stacked_states, r, end, info = env.step(a)\n",
    "    env.render() \n",
    "    sleep(.01)     "
   ]
  },
  {
   "cell_type": "markdown",
   "metadata": {},
   "source": [
    "## Agentes artesanales pre-entrenados "
   ]
  },
  {
   "cell_type": "code",
   "execution_count": null,
   "metadata": {},
   "outputs": [],
   "source": [
    "import pickle\n",
    "# Estos agentes corresponden a la última iteración, \n",
    "# pero en realidad debería grabarse el que obtiene mejor recompensa \n",
    "\n",
    "# Pong entrenado durante 200_000 pasos con memoria de 10_000, aprox 2hrs de entrenamiento\n",
    "env_name = \"PongNoFrameskip-v4\"\n",
    "with open(\"modelos/pong_masomenos.pkl\", \"rb\") as f:\n",
    "    dqn_model_loaded, q_policy_state_dict_loaded = pickle.load(f)"
   ]
  },
  {
   "cell_type": "code",
   "execution_count": null,
   "metadata": {},
   "outputs": [],
   "source": [
    "import gym\n",
    "from time import sleep\n",
    "\n",
    "random_agent = False\n",
    "env = wrap_env(gym.make(env_name), skip=1)\n",
    "stacked_states = env.reset()\n",
    "end = False\n",
    "\n",
    "while not end:\n",
    "    if not random_agent:\n",
    "        state = preprocess(stacked_states)\n",
    "        a, q = dqn_model_loaded.select_action(state.unsqueeze(0))\n",
    "    else:\n",
    "        a = env.action_space.sample()\n",
    "    stacked_states, r, end, info = env.step(a)\n",
    "    env.render() \n",
    "    sleep(.01)     "
   ]
  },
  {
   "cell_type": "code",
   "execution_count": null,
   "metadata": {},
   "outputs": [],
   "source": [
    "env.close()"
   ]
  }
 ],
 "metadata": {
  "kernelspec": {
   "display_name": "Python 3 (ipykernel)",
   "language": "python",
   "name": "python3"
  },
  "language_info": {
   "codemirror_mode": {
    "name": "ipython",
    "version": 3
   },
   "file_extension": ".py",
   "mimetype": "text/x-python",
   "name": "python",
   "nbconvert_exporter": "python",
   "pygments_lexer": "ipython3",
   "version": "3.9.16"
  }
 },
 "nbformat": 4,
 "nbformat_minor": 4
}
