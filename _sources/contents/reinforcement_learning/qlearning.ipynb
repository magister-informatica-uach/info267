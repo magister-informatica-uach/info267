{
 "cells": [
  {
   "cell_type": "markdown",
   "metadata": {},
   "source": [
    "# Entrenando un agente"
   ]
  },
  {
   "cell_type": "markdown",
   "metadata": {},
   "source": [
    "## El agente en acción\n",
    "\n",
    "Asumamos que nuestro agente tiene un número limitado de acciones posibles:\n",
    "\n",
    "$$\n",
    "\\mathcal{A} = \\{a_1, a_2, a_3, \\ldots, a_N\\}\n",
    "$$\n",
    "\n",
    "En cada instante $t$ el agente escoge una acción en base al estado. La decisión se hace según una función denominada **política** (*policy*) que mapea el espacio de estados al espacio de acciones. La política puede ser de tipo:\n",
    "\n",
    "**Determinista:** La política está representada por una función \n",
    "\n",
    "$$\n",
    "a  = \\pi (s)\n",
    "$$\n",
    "\n",
    "Ej: Si tengo hambre y el timbre no está sonando apreto el timbre\n",
    "\n",
    "**Estocástica:** La política está representada por probabilidades\n",
    "\n",
    "$$\n",
    "a \\sim \\pi(A|S) = P(A=a|S=s)\n",
    "$$\n",
    "\n",
    "Ej: Si tengo hambre y el timbre no está sonando\n",
    "\n",
    "- 9 de 10 veces apreto el timbre\n",
    "- 1 de 10 veces aparece una mosca que me distrae y lo dejo en paz\n",
    "\n",
    "En promedio apreto el timbre un 90% de las veces que me da hambre."
   ]
  },
  {
   "cell_type": "markdown",
   "metadata": {},
   "source": [
    "Veamos a continuación como podemos definir una **política óptima**. Asumamos que estamos en un instante $t$ en particular. Podemos definir la **recompensa total futura** como\n",
    "\n",
    "$$\n",
    "R_t + R_{t+1} + R_{t+2} + R_{t+3} +\\ldots \n",
    "$$\n",
    "\n",
    "y diseñar una política para maximizarla, pero:\n",
    "\n",
    "- Problema 1: La recompensa total futura podría diverger\n",
    "- Problema 2: Los ambientes son no estacionarios y existe incerteza sobre el futuro\n",
    "\n",
    "Matemáticamente, es más razonable usar una **recompensa total futura descontada**\n",
    "\n",
    "$$\n",
    "\\begin{split}\n",
    "G_t &= R_t + \\gamma R_{t+1} + \\gamma^2 R_{t+2} + \\ldots  \\\\\n",
    "& = \\sum_{k=0}^\\infty \\gamma^k R_{t+k} \n",
    "\\end{split}\n",
    "$$\n",
    "\n",
    "donde $\\gamma \\approx 0.99$ es el factor de descuento, que controla la escala de tiempo del aprendizaje del agente."
   ]
  },
  {
   "cell_type": "markdown",
   "metadata": {},
   "source": [
    "## Función Q\n",
    "\n",
    "En base a $G_t$ podemos escribir la **recompensa total futura esperada** o **ganancia esperada**\n",
    "\n",
    "$$\n",
    "Q(s,a) = \\mathbb{E}[G_t|S_t=s, A_t=a] \n",
    "$$\n",
    "\n",
    "también llamada función **Q**. La función Q nos dice cuanta recompensa futura podemos obtener si estamos en el estado $s$ y ejecutamos la acción $a$. \n",
    "\n",
    "Luego una  política determinista basada en Q podría ser:\n",
    "\n",
    "$$\n",
    "\\pi^*(s) = \\text{arg} \\max_{a\\in \\mathcal{A}} Q(s, a)\n",
    "$$\n",
    "\n",
    "que se basa en el:\n",
    "\n",
    "> **Principio de máximas utilidades**: Un agente racional escogerá la acción que maximize su ganancia esperada\n",
    "\n",
    "\n",
    "Si conocemos la función de transición del ambiente podemos descomponer la función **Q** como sigue\n",
    "\n",
    "$$\n",
    "\\begin{split}\n",
    "Q(s,a) &= \\mathbb{E}[G_t|S_t=s, A_t=a]  \\\\\n",
    "&= R(s,a) + \\gamma  \\sum_{s' \\in \\mathcal{S}} T(s, a, s') \\max_{a' \\in \\mathcal{A}} Q(s', a') \n",
    "\\end{split}\n",
    "$$\n",
    "\n",
    "que se conoce como **Ecuación de Bellman**.\n",
    "\n",
    "Si el ambiente es determinista y la acción $a$ en $s$ me lleva a $s'$ entonces lo anterior se simplifica a\n",
    "\n",
    "$$\n",
    "Q(s,a) = R(s,a) + \\gamma  \\max_{a' \\in \\mathcal{A}} Q(s', a')\n",
    "$$\n",
    "\n",
    "Es decir que el valor Q en el estado actual es igual a la recompensa percibida actualmente más el valor descontado del mejor Q alcanzanble en el nuevo estado. A continuación se explica formalmente el algoritmo de Q-learning.\n"
   ]
  },
  {
   "cell_type": "markdown",
   "metadata": {},
   "source": [
    "## Q-Learning\n",
    "\n",
    "Sea un agente con un conjunto finito de acciones y un ambiente con un conjunto finito de estados. La función Q se representa como una tabla. Por ejemplo si tenemos tres estados y dos acciones:\n",
    "\n",
    "```{list-table}\n",
    ":header-rows: 1\n",
    "\n",
    "* -\n",
    "  - $a_1$\n",
    "  - $a_2$\n",
    "* - $s_1$\n",
    "  - $0$\n",
    "  - $0$\n",
    "* - $s_2$\n",
    "  - $0$\n",
    "  - $0$\n",
    "* - $s_3$\n",
    "  - $0$\n",
    "  - $0$\n",
    "```"
   ]
  },
  {
   "cell_type": "markdown",
   "metadata": {},
   "source": [
    "La tabla Q está inicialmente llena de ceros. El entrenamiento del agente consiste en llenar la tabla mediante prueba y error. \n",
    "\n",
    "En cada prueba el agente, que está en un estado $s$, realiza una acción $a$, obtiene una recompensa $R(s,a)$ y avanza al estado $s'$. El algoritmo de Q-learning usa la siguiente regla de actualización:\n",
    "\n",
    "$$\n",
    "\\begin{split}\n",
    "Q(s, a) &\\leftarrow & (1-\\alpha)Q(s,a) + \\alpha \\left(R(s,a) + \\gamma \\max_{a' \\in \\mathcal{A}} Q(s', a')\\right)  =  \\\\\n",
    "&& Q(s,a) + \\alpha \\left(R(s,a) + \\gamma \\max_{a' \\in \\mathcal{A}} Q(s', a') - Q(s,a)\\right)\n",
    "\\end{split}\n",
    "$$\n",
    "\n",
    "donde $\\alpha \\in [0, 1]$ es la tasa de aprendizaje.\n",
    "\n",
    "La intuición es que si:\n",
    "\n",
    "- realizamos una acción en un estado determinado y nos da un resultado no deseado: evitar esa acción en ese estado\n",
    "- realizamos una acción en un estado determinado y nos da un resultado deseado: preferir esa acción en ese estado\n",
    "- todas las acciones en un cierto estado producen un resultado no deseado: evitar ese estado\n",
    "- todas las acciones en un cierto estado producen un resultado deseado: buscar ese estado"
   ]
  },
  {
   "cell_type": "markdown",
   "metadata": {},
   "source": [
    "## Nuestro primer agente en Python\n",
    "\n",
    "Con lo visto hasta ahora tenemos lo necesario para entrenar nuestro primer agente de RL.\n",
    "\n",
    "Para simular el ambiente y el agente utilizaremos el *toolkit* [gymnasium](https://github.com/Farama-Foundation/Gymnasium). La documentación completa se puede revisar en: https://gymnasium.farama.org/.\n",
    "\n",
    "Para instalar\n",
    "\n",
    "    pip install \"gymnasium[atari]\" pygame --default-timeout=1000\n",
    "\n",
    "Esto instalará los ambientes por defecto y adicionalmente los ambientes basados en juegos de ATARI."
   ]
  },
  {
   "cell_type": "markdown",
   "metadata": {},
   "source": [
    "### Creando un ambiente\n",
    "\n",
    "Utilizaremos como ejemplo el ambiente de [La laguna congelada](https://gymnasium.farama.org/environments/toy_text/frozen_lake/#frozen-lake).\n",
    "\n",
    "> \"Usted y sus amigos juegan a lanzar el frisbee. El frisbee cae en una laguna que está parcialmente congelada. El objetivo es recuperar el frisbee sin caer donde se ha derretido el hielo\"\n",
    "\n",
    "Con  esta premisa veamos como cargar este ambiente en *gym*"
   ]
  },
  {
   "cell_type": "code",
   "execution_count": 1,
   "metadata": {},
   "outputs": [
    {
     "name": "stdout",
     "output_type": "stream",
     "text": [
      "\n",
      "\u001b[41mS\u001b[0mFFF\n",
      "FHFH\n",
      "FFFH\n",
      "HFFG\n",
      "\n"
     ]
    }
   ],
   "source": [
    "import gymnasium as gym\n",
    "\n",
    "# Genera el ambiente\n",
    "env = gym.make(\"FrozenLake-v1\", render_mode=\"ansi\")\n",
    "\n",
    "# Resetea el ambiente\n",
    "env.reset()\n",
    "\n",
    "# Muestra el ambiente\n",
    "print(env.render())"
   ]
  },
  {
   "cell_type": "markdown",
   "metadata": {},
   "source": [
    "El argumento `render_mode=\"ansi\"` retorna el ambiente como un string. El ambiente por defecto tiene 4x4 = 16 espacios que representan la laguna congelada:\n",
    "\n",
    "- F (Frozen), es seguro caminar por ese bloque\n",
    "- H (Hole), te ahogas y mueres\n",
    "- S (Start), la posición inicial del agente\n",
    "- G (Goal), la posición del frisbee\n",
    "\n",
    "También podemos utilizar `render_mode=\"rgb_array\"` para obtener el ambiente como una colección de píxeles o la opción `human` para mostrar el ambiente en una ventana independiente."
   ]
  },
  {
   "cell_type": "code",
   "execution_count": 2,
   "metadata": {},
   "outputs": [],
   "source": [
    "env = gym.make(\"FrozenLake-v1\", render_mode=\"rgb_array\")\n",
    "env.reset()\n",
    "image = env.render()"
   ]
  },
  {
   "cell_type": "code",
   "execution_count": 3,
   "metadata": {},
   "outputs": [
    {
     "data": {
      "image/png": "[encoded data removed]",
      "text/plain": [
       "<Figure size 400x300 with 1 Axes>"
      ]
     },
     "metadata": {},
     "output_type": "display_data"
    }
   ],
   "source": [
    "%matplotlib inline\n",
    "from matplotlib import pyplot as plt\n",
    "\n",
    "def plot_frame(frame):\n",
    "    fig, ax = plt.subplots(figsize=(4, 3), tight_layout=True)\n",
    "    ax.imshow(frame)\n",
    "    ax.axis('off')\n",
    "\n",
    "plot_frame(image)"
   ]
  },
  {
   "cell_type": "markdown",
   "metadata": {},
   "source": [
    ":::{note}\n",
    "\n",
    "En este ambiente se tiene completa observabilidad de los estados.\n",
    "\n",
    ":::\n",
    "\n",
    "Se puede consultar directamente sobre el tamaño del espacio de estados y estado actual con:"
   ]
  },
  {
   "cell_type": "code",
   "execution_count": 4,
   "metadata": {},
   "outputs": [
    {
     "data": {
      "text/plain": [
       "Discrete(16)"
      ]
     },
     "metadata": {},
     "output_type": "display_data"
    },
    {
     "data": {
      "text/plain": [
       "16"
      ]
     },
     "metadata": {},
     "output_type": "display_data"
    },
    {
     "data": {
      "text/plain": [
       "0"
      ]
     },
     "metadata": {},
     "output_type": "display_data"
    }
   ],
   "source": [
    "# Espacio de estados\n",
    "display(env.observation_space)\n",
    "display(env.observation_space.n)\n",
    "\n",
    "# Estado actual\n",
    "display(env.s)"
   ]
  },
  {
   "cell_type": "markdown",
   "metadata": {},
   "source": [
    "Podemos consultar el tamaño del espacio de acciones con:"
   ]
  },
  {
   "cell_type": "code",
   "execution_count": 5,
   "metadata": {},
   "outputs": [
    {
     "data": {
      "text/plain": [
       "Discrete(4)"
      ]
     },
     "metadata": {},
     "output_type": "display_data"
    },
    {
     "data": {
      "text/plain": [
       "4"
      ]
     },
     "metadata": {},
     "output_type": "display_data"
    }
   ],
   "source": [
    "# Espacio de acciones\n",
    "display(env.action_space, env.action_space.n)"
   ]
  },
  {
   "cell_type": "markdown",
   "metadata": {},
   "source": [
    "Las acciones son: \n",
    "\n",
    "- 0: LEFT\n",
    "- 1: DOWN\n",
    "- 2: RIGHT\n",
    "- 3: UP\n",
    "\n",
    "Además debemos considerar que en este ambiente:\n",
    "\n",
    "- El agente rebota en las paredes\n",
    "- El hielo es resbaladizo: **Las acciones tienen un componente estocástico**"
   ]
  },
  {
   "cell_type": "markdown",
   "metadata": {},
   "source": [
    "Podemos muestrear una acción aleatoria con la propiedad `sample`"
   ]
  },
  {
   "cell_type": "code",
   "execution_count": 6,
   "metadata": {},
   "outputs": [
    {
     "name": "stdout",
     "output_type": "stream",
     "text": [
      "0: 3\n",
      "1: 1\n",
      "2: 1\n",
      "3: 1\n",
      "4: 2\n",
      "5: 0\n",
      "6: 0\n",
      "7: 3\n",
      "8: 1\n",
      "9: 1\n"
     ]
    }
   ],
   "source": [
    "for k in range(10):\n",
    "    print(f\"{k}: {env.action_space.sample()}\")"
   ]
  },
  {
   "cell_type": "markdown",
   "metadata": {},
   "source": [
    "La distribución de la acción aleatoria es uniforme"
   ]
  },
  {
   "cell_type": "code",
   "execution_count": 7,
   "metadata": {},
   "outputs": [
    {
     "data": {
      "text/plain": [
       "Counter({3: 2613, 2: 2513, 1: 2452, 0: 2422})"
      ]
     },
     "execution_count": 7,
     "metadata": {},
     "output_type": "execute_result"
    }
   ],
   "source": [
    "from collections import Counter\n",
    "\n",
    "actions = [env.action_space.sample() for k in range(10_000)]\n",
    "Counter(actions)"
   ]
  },
  {
   "cell_type": "markdown",
   "metadata": {},
   "source": [
    "### Actuando en el ambiente\n",
    "\n",
    "Podemos ejecutar una acción sobre el ambiente con la función `step`. Esta función retorna el nuevo estado al que llegamos y la recompensa .\n",
    "\n",
    "Recordemos este escenario es **estocástico**: La acción que ejecutamos no es siempre la que efectivamente se realiza."
   ]
  },
  {
   "cell_type": "code",
   "execution_count": 8,
   "metadata": {},
   "outputs": [
    {
     "name": "stdout",
     "output_type": "stream",
     "text": [
      "Estoy en el estado: 0\n",
      "Selecciono la acción 3\n",
      "Llegué al estado: 0 y obtuve la recompensa: 0.0\n"
     ]
    },
    {
     "data": {
      "image/png": "[encoded data removed]",
      "text/plain": [
       "<Figure size 400x300 with 1 Axes>"
      ]
     },
     "metadata": {},
     "output_type": "display_data"
    }
   ],
   "source": [
    "env.reset()\n",
    "env.render()\n",
    "\n",
    "print(f\"Estoy en el estado: {env.s}\")\n",
    "\n",
    "a = env.action_space.sample()\n",
    "print(f\"Selecciono la acción {a}\")\n",
    "\n",
    "s, r, terminated, truncated, info = env.step(a)\n",
    "print(f\"Llegué al estado: {s} y obtuve la recompensa: {r}\")\n",
    "\n",
    "image =  env.render()\n",
    "plot_frame(image)"
   ]
  },
  {
   "cell_type": "markdown",
   "metadata": {},
   "source": [
    "Por ejemplo la distribución para moverme a la izquierda desde el cuadro inicial es"
   ]
  },
  {
   "cell_type": "code",
   "execution_count": 9,
   "metadata": {},
   "outputs": [
    {
     "data": {
      "text/plain": [
       "Counter({0: 6628, 4: 3372})"
      ]
     },
     "execution_count": 9,
     "metadata": {},
     "output_type": "execute_result"
    }
   ],
   "source": [
    "env.reset()\n",
    "\n",
    "arrival_state = []\n",
    "for k in range(10_000):\n",
    "    env.reset()\n",
    "    s, r, terminated, truncated, info = env.step(0)\n",
    "    arrival_state.append(s)\n",
    "\n",
    "Counter(arrival_state)"
   ]
  },
  {
   "cell_type": "markdown",
   "metadata": {},
   "source": [
    "Es decir que:\n",
    "\n",
    "- En 2/3 de los casos reboto en la pared y me quedo donde estoy\n",
    "- En 1/3 de los casos me muevo hacia abajo y llego a 4\n",
    "\n",
    "Esto también estaba indicado en `info`"
   ]
  },
  {
   "cell_type": "code",
   "execution_count": 10,
   "metadata": {},
   "outputs": [
    {
     "data": {
      "text/plain": [
       "{'prob': 0.3333333333333333}"
      ]
     },
     "execution_count": 10,
     "metadata": {},
     "output_type": "execute_result"
    }
   ],
   "source": [
    "info"
   ]
  },
  {
   "cell_type": "markdown",
   "metadata": {},
   "source": [
    "**Recompensa y condición de término**\n",
    "\n",
    "Existen tres condiciones de término del \"episodio\" (fin del juego)\n",
    "\n",
    "- Llegar al objetivo: recompensa +1\n",
    "- Caer en un agujero: recompensa +0\n",
    "- Realizar 100 pasos: recompesa +0"
   ]
  },
  {
   "cell_type": "markdown",
   "metadata": {},
   "source": [
    "¿Cómo le irá a un agente con politica aleatoria?"
   ]
  },
  {
   "cell_type": "code",
   "execution_count": 11,
   "metadata": {},
   "outputs": [
    {
     "name": "stdout",
     "output_type": "stream",
     "text": [
      "Paso 9, Recompensa: 0.0\n",
      "  (Down)\n",
      "SFFF\n",
      "F\u001b[41mH\u001b[0mFH\n",
      "FFFH\n",
      "HFFG\n",
      "\n"
     ]
    }
   ],
   "source": [
    "from IPython.display import clear_output\n",
    "from time import sleep\n",
    "\n",
    "env = gym.make(\"FrozenLake-v1\", render_mode=\"ansi\")\n",
    "env.reset()\n",
    "step, terminated = 0, False\n",
    "\n",
    "while not terminated:\n",
    "    a = env.action_space.sample()\n",
    "    s, r, terminated, truncated, info = env.step(a)\n",
    "    clear_output(wait=True)\n",
    "    print(f\"Paso {step}, Recompensa: {r}\")\n",
    "    print(env.render())    \n",
    "    sleep(.25)\n",
    "    step += 1"
   ]
  },
  {
   "cell_type": "markdown",
   "metadata": {},
   "source": [
    "(La animación no se reproduce en la versión web de este cuadernillo)"
   ]
  },
  {
   "cell_type": "markdown",
   "metadata": {},
   "source": [
    "## Entrenamiento con Q-Learning"
   ]
  },
  {
   "cell_type": "markdown",
   "metadata": {},
   "source": [
    "Entrenemos nuestro agente usando una tabla de Q-Learning inicialmente en cero. En cada iteración la actualizamos la tabla con:\n",
    "\n",
    "$$\n",
    "Q(s,a) \\leftarrow Q(s,a) + \\alpha \\left(R(s,a) + \\gamma \\max_{a' \\in \\mathcal{A}} Q(s', a') - Q(s,a)\\right)\n",
    "$$\n",
    "\n",
    "Como el ambiente es estocástico es preferible una tasa de aprendizaje baja. Estudiemos lo que ocurre:"
   ]
  },
  {
   "cell_type": "code",
   "execution_count": 12,
   "metadata": {},
   "outputs": [],
   "source": [
    "import numpy as np\n",
    "\n",
    "env = gym.make(\"FrozenLake-v1\", render_mode=\"ansi\")\n",
    "rewards = []\n",
    "alpha, gamma = 0.1, 0.9\n",
    "Q = np.zeros(shape=(env.observation_space.n, env.action_space.n))\n",
    "\n",
    "for episode in range(10):\n",
    "    env.reset()    \n",
    "    terminated = False    \n",
    "    while not terminated:  \n",
    "        s_current = env.s\n",
    "        # Escoger la mejor acción\n",
    "        a = np.argmax(Q[s_current, :]) \n",
    "        # Ejecutarla\n",
    "        s_future, r, terminated, truncated, info = env.step(a)\n",
    "        # Actualizar Q\n",
    "        Q[s_current, a] += alpha*(r + gamma*np.max(Q[s_future, :]) - Q[s_current, a])\n",
    "    rewards.append(r)"
   ]
  },
  {
   "cell_type": "markdown",
   "metadata": {},
   "source": [
    "Revisemos la tabla Q y las recompensas ganadas:"
   ]
  },
  {
   "cell_type": "code",
   "execution_count": 13,
   "metadata": {},
   "outputs": [
    {
     "data": {
      "text/plain": [
       "array([[0., 0., 0., 0.],\n",
       "       [0., 0., 0., 0.],\n",
       "       [0., 0., 0., 0.],\n",
       "       [0., 0., 0., 0.],\n",
       "       [0., 0., 0., 0.],\n",
       "       [0., 0., 0., 0.],\n",
       "       [0., 0., 0., 0.],\n",
       "       [0., 0., 0., 0.],\n",
       "       [0., 0., 0., 0.],\n",
       "       [0., 0., 0., 0.],\n",
       "       [0., 0., 0., 0.],\n",
       "       [0., 0., 0., 0.],\n",
       "       [0., 0., 0., 0.],\n",
       "       [0., 0., 0., 0.],\n",
       "       [0., 0., 0., 0.],\n",
       "       [0., 0., 0., 0.]])"
      ]
     },
     "metadata": {},
     "output_type": "display_data"
    },
    {
     "data": {
      "text/plain": [
       "Counter({0.0: 10})"
      ]
     },
     "metadata": {},
     "output_type": "display_data"
    }
   ],
   "source": [
    "display(Q, Counter(rewards))"
   ]
  },
  {
   "cell_type": "markdown",
   "metadata": {},
   "source": [
    "¿Por qué ocurrió esto? El problema está en la siguiente línea de código:\n",
    "\n",
    "```python\n",
    "    a = np.argmax(Q[s_current, :]) \n",
    "```\n"
   ]
  },
  {
   "cell_type": "markdown",
   "metadata": {},
   "source": [
    "### Dilema de exploración y explotación: Epsilon-Greedy Q-Learning\n",
    "\n",
    "Un problema del algoritmo Q-Learning es que es demasiado explotador.\n",
    "\n",
    "> Siempre escoge la acción que maximiza **Q**: es una *greedy policy*.\n",
    "\n",
    "Sin embargo, y especialmente al inicio, es crítico explorar el espacio de acciones. Se puede hacer la siguiente corrección:\n",
    "\n",
    "Se muestrea una variable Bernoulli (binaria) con probabilidad $1-\\epsilon$ de ser $1$\n",
    "\n",
    "- Si resulta 1, entonces se sigue la política óptima (greedy)\n",
    "- Si resulta 0, entonces se escoge una acción al azar\n",
    "\n",
    "Típicamente se inicia $\\epsilon$ en un valor cercano a $1$ y se hace $\\epsilon \\to 0$ para $t \\to \\infty$. Esta estrategia se denomina Epsilon-Greedy."
   ]
  },
  {
   "cell_type": "markdown",
   "metadata": {},
   "source": [
    "Los parámetros de Q-Learning convencional son la tasa de aprendizaje $\\alpha$, el factor de descuento $\\gamma$ y el número de episodios, es decir la cantidad de veces que se presenta el escenario al agente.\n",
    "\n",
    "A más alto $\\alpha$, más rápido se adoptan los cambios en la matriz Q. Sin embargo un valor muy alto puede ser perjudicial si el ambiente es estocástico. Un valor típico es $\\alpha = 0.1$\n",
    "\n",
    "Si $\\gamma = 0$ el aprendizaje sólo se enfoca en el presente. Por otro lado si $\\gamma = 1$ las recompensas de largo y corto plazo tienen igual valor y se tienen problemas de convergencia. Un valor típico es $\\gamma = 0.9$\n",
    "\n",
    "Ahora hemos agregado $\\epsilon$ el cual podemos definir según:\n",
    "\n",
    "- El valor inicial y final para $\\epsilon$ \n",
    "- La estrategia de disminución de $\\epsilon$\n",
    "\n",
    "Por ejemplo una estrategia exponencial con tasa de disminución $\\tau_\\epsilon>0$ sería:\n",
    "\n",
    "$$\n",
    "\\epsilon_k = \\epsilon_T + (\\epsilon_0 - \\epsilon_T) e^{-\\tau_\\epsilon k}\n",
    "$$\n",
    "\n",
    "donde $\\epsilon_0$ debe ser mucho mayor que $\\epsilon_T$. Todos estos hiper-parámetros definen la transición entre las fases de exploración y explotación."
   ]
  },
  {
   "cell_type": "code",
   "execution_count": 14,
   "metadata": {},
   "outputs": [
    {
     "data": {
      "image/png": "[encoded data removed]",
      "text/plain": [
       "<Figure size 600x400 with 1 Axes>"
      ]
     },
     "metadata": {},
     "output_type": "display_data"
    }
   ],
   "source": [
    "import matplotlib.pyplot as plt\n",
    "\n",
    "fig, ax = plt.subplots(figsize=(6, 4))\n",
    "\n",
    "episodes = np.arange(10000)\n",
    "epsilon_init = 1.0\n",
    "epsilon_end = 0.01\n",
    "epsilon_rate = 1e-3\n",
    "ax.plot(episodes, epsilon_end + (epsilon_init - epsilon_end) * np.exp(-epsilon_rate*episodes));\n",
    "ax.set_xlabel('Episodios')\n",
    "ax.set_ylabel('Epsilon');"
   ]
  },
  {
   "cell_type": "markdown",
   "metadata": {},
   "source": [
    "Entrenemos nuevamente en el ambiente de alguna congelada con Epsilon-Greedy Q-Learning"
   ]
  },
  {
   "cell_type": "code",
   "execution_count": 15,
   "metadata": {
    "scrolled": true
   },
   "outputs": [
    {
     "name": "stdout",
     "output_type": "stream",
     "text": [
      "CPU times: user 22.2 s, sys: 2.8 s, total: 25 s\n",
      "Wall time: 22 s\n"
     ]
    }
   ],
   "source": [
    "%%time\n",
    "\n",
    "env = gym.make(\"FrozenLake-v1\", render_mode=\"ansi\")\n",
    "Q = np.zeros(shape=(env.observation_space.n, env.action_space.n))\n",
    "diagnostics = {'rewards': [], 'episode_length': []}\n",
    "# Hiper-parámetros\n",
    "alpha, gamma, n_episodios = 0.1, 0.99, 10_000\n",
    "epsilon_init, epsilon_end, epsilon_rate = 1.0, 0.01, 1e-3 \n",
    "epsilon = lambda episode : epsilon_end + (epsilon_init - epsilon_end) * np.exp(-epsilon_rate*episode) \n",
    "n_evaluations = 100\n",
    "\n",
    "for episode in range(n_episodios):\n",
    "    env.reset()\n",
    "    terminated = False\n",
    "    while not terminated:        \n",
    "        s_current = env.s\n",
    "        # Seleccionar la acción con política Epsilon-Greedy\n",
    "        if not np.random.binomial(1, p=1.-epsilon(episode)) and ~np.all(Q[s_current, :]==0): \n",
    "            a = np.argmax(Q[s_current, :])  \n",
    "        else:\n",
    "            a = env.action_space.sample() \n",
    "        s_future, r, terminated, truncated, info = env.step(a)\n",
    "        Q[s_current, a] += alpha*(r + gamma*np.max(Q[s_future, :]) - Q[s_current, a]) \n",
    "\n",
    "    # Cada 100 episodios evaluamos el agente sin Epsilon-Greedy:\n",
    "    if np.mod(episode, 100) == 0:\n",
    "        diagnostics['rewards'].append(np.zeros(shape=(n_evaluations,)))\n",
    "        diagnostics['episode_length'].append(np.zeros(shape=(n_evaluations,)))\n",
    "        for k in range(n_evaluations):\n",
    "            env.reset()    \n",
    "            terminated = False\n",
    "            episode_length, episode_reward = 0, 0.0            \n",
    "            while not terminated:        \n",
    "                s_current = env.s\n",
    "                if not np.all(Q[s_current, :]==0): \n",
    "                    a = np.argmax(Q[s_current, :])  \n",
    "                else:\n",
    "                    a = env.action_space.sample() \n",
    "                s_future, r, terminated, truncated, info = env.step(a)\n",
    "                episode_length += 1\n",
    "                episode_reward += r            \n",
    "            diagnostics['rewards'][-1][k] = episode_reward\n",
    "            diagnostics['episode_length'][-1][k] = episode_length"
   ]
  },
  {
   "cell_type": "markdown",
   "metadata": {},
   "source": [
    "### Diagnósticos: Debuggeando lo aprendido\n"
   ]
  },
  {
   "cell_type": "markdown",
   "metadata": {},
   "source": [
    "El aprendizaje se puede diagnosticar observando gráficas de la evolución de la recompensa y la cantidad de pasos promedio."
   ]
  },
  {
   "cell_type": "code",
   "execution_count": 16,
   "metadata": {},
   "outputs": [
    {
     "data": {
      "image/png": "[encoded data removed]",
      "text/plain": [
       "<Figure size 600x500 with 2 Axes>"
      ]
     },
     "metadata": {},
     "output_type": "display_data"
    }
   ],
   "source": [
    "fig, ax = plt.subplots(2, figsize=(6, 5), sharex=True)\n",
    "ax[0].errorbar(np.arange(10000//100)*100,\n",
    "               np.array(diagnostics['rewards']).mean(axis=1), \n",
    "               np.array(diagnostics['rewards']).std(axis=1)/np.sqrt(n_evaluations));\n",
    "ax[0].set_ylabel('Recompensa\\npromedio');\n",
    "ax[1].errorbar(np.arange(10000//100)*100,\n",
    "               np.array(diagnostics['episode_length']).mean(axis=1), \n",
    "               np.array(diagnostics['episode_length']).std(axis=1)/np.sqrt(n_evaluations));\n",
    "ax[1].set_xlabel('Episodios')\n",
    "ax[1].set_ylabel('Largo promedio\\nde los episodios');"
   ]
  },
  {
   "cell_type": "markdown",
   "metadata": {},
   "source": [
    "> La recompensa y el largo de los episodios aumentan y luego tienden a estabilizarse. "
   ]
  },
  {
   "cell_type": "markdown",
   "metadata": {},
   "source": [
    "Se puede verificar el aprendizaje del agente observando la tabla Q \n",
    "\n",
    "¿Cuáles estádos acciones/estados tienen recompoensa esperada cero?"
   ]
  },
  {
   "cell_type": "code",
   "execution_count": 17,
   "metadata": {},
   "outputs": [
    {
     "data": {
      "text/plain": [
       "array([[0.555, 0.542, 0.542, 0.538],\n",
       "       [0.33 , 0.379, 0.338, 0.513],\n",
       "       [0.484, 0.479, 0.477, 0.502],\n",
       "       [0.359, 0.288, 0.364, 0.487],\n",
       "       [0.578, 0.426, 0.437, 0.403],\n",
       "       [0.   , 0.   , 0.   , 0.   ],\n",
       "       [0.384, 0.188, 0.422, 0.239],\n",
       "       [0.   , 0.   , 0.   , 0.   ],\n",
       "       [0.43 , 0.473, 0.319, 0.611],\n",
       "       [0.348, 0.683, 0.543, 0.515],\n",
       "       [0.636, 0.583, 0.543, 0.35 ],\n",
       "       [0.   , 0.   , 0.   , 0.   ],\n",
       "       [0.   , 0.   , 0.   , 0.   ],\n",
       "       [0.557, 0.632, 0.806, 0.569],\n",
       "       [0.766, 0.904, 0.881, 0.807],\n",
       "       [0.   , 0.   , 0.   , 0.   ]])"
      ]
     },
     "metadata": {},
     "output_type": "display_data"
    },
    {
     "data": {
      "text/plain": [
       "array([[ 0,  1,  2,  3],\n",
       "       [ 4,  5,  6,  7],\n",
       "       [ 8,  9, 10, 11],\n",
       "       [12, 13, 14, 15]])"
      ]
     },
     "metadata": {},
     "output_type": "display_data"
    },
    {
     "name": "stdout",
     "output_type": "stream",
     "text": [
      "  (Left)\n",
      "SFFF\n",
      "F\u001b[41mH\u001b[0mFH\n",
      "FFFH\n",
      "HFFG\n",
      "\n"
     ]
    }
   ],
   "source": [
    "np.set_printoptions(precision=3)    \n",
    "display(Q)\n",
    "display(np.arange(16).reshape(4, 4))\n",
    "print(env.render())"
   ]
  },
  {
   "cell_type": "markdown",
   "metadata": {},
   "source": [
    "**Probando nuestro agente en vivo**"
   ]
  },
  {
   "cell_type": "code",
   "execution_count": 18,
   "metadata": {
    "scrolled": true
   },
   "outputs": [
    {
     "name": "stdout",
     "output_type": "stream",
     "text": [
      "Paso 68, Recompensa: 1.0\n",
      "  (Down)\n",
      "SFFF\n",
      "FHFH\n",
      "FFFH\n",
      "HFF\u001b[41mG\u001b[0m\n",
      "\n"
     ]
    }
   ],
   "source": [
    "env.reset()\n",
    "step, terminated = 0, False\n",
    "\n",
    "while not terminated:        \n",
    "    s_current = env.s\n",
    "    a = np.argmax(Q[s_current, :])  \n",
    "    s_future, r, terminated, truncated, info = env.step(a)\n",
    "    clear_output(wait=True)\n",
    "    print(f\"Paso {step}, Recompensa: {r}\")\n",
    "    print(env.render())    \n",
    "    sleep(.2)\n",
    "    step += 1"
   ]
  },
  {
   "cell_type": "markdown",
   "metadata": {},
   "source": [
    "¿Qué ocurre si el ambiente no es estocástico? Utilice\n",
    "\n",
    "```python\n",
    "env = gym.make(\"FrozenLake-v1\", render_mode=\"ansi\", is_slippery=False)\n",
    "```\n",
    "\n",
    "para explorar esta situación."
   ]
  }
 ],
 "metadata": {
  "kernelspec": {
   "display_name": "Python 3 (ipykernel)",
   "language": "python",
   "name": "python3"
  },
  "language_info": {
   "codemirror_mode": {
    "name": "ipython",
    "version": 3
   },
   "file_extension": ".py",
   "mimetype": "text/x-python",
   "name": "python",
   "nbconvert_exporter": "python",
   "pygments_lexer": "ipython3",
   "version": "3.9.16"
  }
 },
 "nbformat": 4,
 "nbformat_minor": 2
}
